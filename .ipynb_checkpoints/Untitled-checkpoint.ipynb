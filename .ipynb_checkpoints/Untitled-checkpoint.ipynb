{
 "cells": [
  {
   "cell_type": "code",
   "execution_count": 107,
   "metadata": {},
   "outputs": [],
   "source": [
    "from selenium import webdriver\n",
    "from selenium.webdriver.chrome.options import Options \n",
    "from selenium.webdriver.common.keys import Keys\n",
    "from time import sleep\n",
    "from bs4 import BeautifulSoup\n",
    "import re\n",
    "import pandas as pd\n",
    "import os\n",
    "import requests\n",
    "import cv2"
   ]
  },
  {
   "cell_type": "code",
   "execution_count": 108,
   "metadata": {},
   "outputs": [],
   "source": [
    "options = Options()\n",
    "options.add_argument(\"--disable-blink-features\")\n",
    "options.add_argument(\"--disable-blink-features=AutomationControlled\")\n",
    "options.add_argument(\"start-maximized\")\n",
    "options.add_experimental_option(\"excludeSwitches\", [\"enable-automation\"])\n",
    "options.add_experimental_option('useAutomationExtension', False)\n",
    "dr = webdriver.Chrome(options=options)"
   ]
  },
  {
   "cell_type": "code",
   "execution_count": 109,
   "metadata": {},
   "outputs": [],
   "source": [
    "dr.get('https://www.hepsiburada.com/magaza/first-sourcer?sayfa=1')"
   ]
  },
  {
   "cell_type": "code",
   "execution_count": 68,
   "metadata": {},
   "outputs": [],
   "source": [
    "# cookies = {c['name']:c['value'] for c in dr.get_cookies()}"
   ]
  },
  {
   "cell_type": "code",
   "execution_count": 111,
   "metadata": {},
   "outputs": [],
   "source": [
    "site = requests.get('https://www.hepsiburada.com/mark-ryden-laptop-notebook-sirt-cantasi-9116-siyah-usb-sarj-portlu-p-HBV00001493UJ?magaza=First%20Sourcer', headers=headers)\n",
    "soup = BeautifulSoup(site.content)"
   ]
  },
  {
   "cell_type": "code",
   "execution_count": 65,
   "metadata": {},
   "outputs": [],
   "source": [
    "headers = {'User-Agent': 'My User Agent 1.0',}"
   ]
  },
  {
   "cell_type": "code",
   "execution_count": 21,
   "metadata": {},
   "outputs": [],
   "source": [
    "prod_urls, prod_ids, prod_skus, prod_in_stocks = [], [], [], []"
   ]
  },
  {
   "cell_type": "code",
   "execution_count": 22,
   "metadata": {
    "scrolled": true
   },
   "outputs": [
    {
     "name": "stdout",
     "output_type": "stream",
     "text": [
      "extracting product URLs from page#  0\n",
      "extracting product URLs from page#  1\n",
      "extracting product URLs from page#  2\n",
      "extracting product URLs from page#  3\n",
      "extracting product URLs from page#  4\n",
      "extracting product URLs from page#  5\n",
      "extracting product URLs from page#  6\n",
      "extracting product URLs from page#  7\n",
      "extracting product URLs from page#  8\n",
      "extracting product URLs from page#  9\n",
      "extracting product URLs from page#  10\n",
      "extracting product URLs from page#  11\n",
      "extracting product URLs from page#  12\n",
      "extracting product URLs from page#  13\n",
      "extracting product URLs from page#  14\n",
      "extracting product URLs from page#  15\n",
      "extracting product URLs from page#  16\n",
      "extracting product URLs from page#  17\n",
      "extracting product URLs from page#  18\n",
      "extracting product URLs from page#  19\n",
      "extracting product URLs from page#  20\n",
      "extracting product URLs from page#  21\n",
      "extracting product URLs from page#  22\n",
      "extracting product URLs from page#  23\n",
      "extracting product URLs from page#  24\n",
      "extracting product URLs from page#  25\n",
      "extracting product URLs from page#  26\n",
      "extracting product URLs from page#  27\n",
      "extracting product URLs from page#  28\n",
      "extracting product URLs from page#  29\n",
      "extracting product URLs from page#  30\n",
      "extracting product URLs from page#  31\n",
      "extracting product URLs from page#  32\n",
      "extracting product URLs from page#  33\n",
      "extracting product URLs from page#  34\n",
      "extracting product URLs from page#  35\n",
      "extracting product URLs from page#  36\n",
      "extracting product URLs from page#  37\n",
      "extracting product URLs from page#  38\n",
      "extracting product URLs from page#  39\n",
      "extracting product URLs from page#  40\n",
      "extracting product URLs from page#  41\n",
      "extracting product URLs from page#  42\n",
      "extracting product URLs from page#  43\n",
      "extracting product URLs from page#  44\n",
      "extracting product URLs from page#  45\n",
      "extracting product URLs from page#  46\n",
      "extracting product URLs from page#  47\n",
      "extracting product URLs from page#  48\n",
      "extracting product URLs from page#  49\n",
      "extracting product URLs from page#  50\n"
     ]
    }
   ],
   "source": [
    "for page_num in range(51)[:]:\n",
    "    url = f'https://www.hepsiburada.com/magaza/first-sourcer?sayfa={page_num}'\n",
    "    \n",
    "    site = requests.get(url, headers=headers)\n",
    "    soup = BeautifulSoup(site.content)\n",
    "    print('extracting product URLs from page# ', page_num)\n",
    "    for prod in soup.findAll('li', {'class':'search-item col lg-1 md-1 sm-1 custom-hover not-fashion-flex'}):\n",
    "        prod_url = \"https://www.hepsiburada.com\"+prod.find('a', {'href':True})['href']\n",
    "        prod_id = prod.find('a')['data-productid']\n",
    "        prod_sku = prod.find('a')['data-sku']\n",
    "        prod_in_stock = prod.find('a')['data-isinstock']\n",
    "\n",
    "        prod_urls.append(prod_url); prod_ids.append(prod_id)\n",
    "        prod_skus.append(prod_sku); prod_in_stocks.append(prod_in_stock)    "
   ]
  },
  {
   "cell_type": "code",
   "execution_count": 23,
   "metadata": {},
   "outputs": [],
   "source": [
    "df1 = pd.DataFrame({\n",
    "    'ProductURL': prod_urls,\n",
    "    'ProductID': prod_ids,\n",
    "    'ProductSKU': prod_skus,\n",
    "    'ProductAvailability': prod_in_stocks\n",
    "})"
   ]
  },
  {
   "cell_type": "code",
   "execution_count": 24,
   "metadata": {},
   "outputs": [
    {
     "data": {
      "text/html": [
       "<div>\n",
       "<style scoped>\n",
       "    .dataframe tbody tr th:only-of-type {\n",
       "        vertical-align: middle;\n",
       "    }\n",
       "\n",
       "    .dataframe tbody tr th {\n",
       "        vertical-align: top;\n",
       "    }\n",
       "\n",
       "    .dataframe thead th {\n",
       "        text-align: right;\n",
       "    }\n",
       "</style>\n",
       "<table border=\"1\" class=\"dataframe\">\n",
       "  <thead>\n",
       "    <tr style=\"text-align: right;\">\n",
       "      <th></th>\n",
       "      <th>ProductURL</th>\n",
       "      <th>ProductID</th>\n",
       "      <th>ProductSKU</th>\n",
       "      <th>ProductAvailability</th>\n",
       "    </tr>\n",
       "  </thead>\n",
       "  <tbody>\n",
       "    <tr>\n",
       "      <th>1219</th>\n",
       "      <td>https://www.hepsiburada.com/orient-ftt0y007w0-...</td>\n",
       "      <td>HB00000IXMJ5</td>\n",
       "      <td>HBV00000IXMJ6</td>\n",
       "      <td>True</td>\n",
       "    </tr>\n",
       "    <tr>\n",
       "      <th>1220</th>\n",
       "      <td>https://www.hepsiburada.com/seiko-srpd77k-erke...</td>\n",
       "      <td>HB00000PH69X</td>\n",
       "      <td>HBV00000PH69Y</td>\n",
       "      <td>True</td>\n",
       "    </tr>\n",
       "    <tr>\n",
       "      <th>1221</th>\n",
       "      <td>https://www.hepsiburada.com/seiko-ssb353p-chro...</td>\n",
       "      <td>HB00000P0V8R</td>\n",
       "      <td>HBV00000P0V8S</td>\n",
       "      <td>True</td>\n",
       "    </tr>\n",
       "    <tr>\n",
       "      <th>1222</th>\n",
       "      <td>https://www.hepsiburada.com/seiko-solar-ssc723...</td>\n",
       "      <td>HB00000H3NRF</td>\n",
       "      <td>HBV00000H3NRG</td>\n",
       "      <td>True</td>\n",
       "    </tr>\n",
       "    <tr>\n",
       "      <th>1223</th>\n",
       "      <td>https://www.hepsiburada.com/diesel-dz4466-erke...</td>\n",
       "      <td>HB000009F2FB</td>\n",
       "      <td>HBV000009F2FC</td>\n",
       "      <td>True</td>\n",
       "    </tr>\n",
       "  </tbody>\n",
       "</table>\n",
       "</div>"
      ],
      "text/plain": [
       "                                             ProductURL     ProductID  \\\n",
       "1219  https://www.hepsiburada.com/orient-ftt0y007w0-...  HB00000IXMJ5   \n",
       "1220  https://www.hepsiburada.com/seiko-srpd77k-erke...  HB00000PH69X   \n",
       "1221  https://www.hepsiburada.com/seiko-ssb353p-chro...  HB00000P0V8R   \n",
       "1222  https://www.hepsiburada.com/seiko-solar-ssc723...  HB00000H3NRF   \n",
       "1223  https://www.hepsiburada.com/diesel-dz4466-erke...  HB000009F2FB   \n",
       "\n",
       "         ProductSKU ProductAvailability  \n",
       "1219  HBV00000IXMJ6                True  \n",
       "1220  HBV00000PH69Y                True  \n",
       "1221  HBV00000P0V8S                True  \n",
       "1222  HBV00000H3NRG                True  \n",
       "1223  HBV000009F2FC                True  "
      ]
     },
     "execution_count": 24,
     "metadata": {},
     "output_type": "execute_result"
    }
   ],
   "source": [
    "df1.tail()"
   ]
  },
  {
   "cell_type": "code",
   "execution_count": 32,
   "metadata": {},
   "outputs": [],
   "source": [
    "df1.to_csv('partial.csv', index=False)"
   ]
  },
  {
   "cell_type": "code",
   "execution_count": 81,
   "metadata": {},
   "outputs": [
    {
     "data": {
      "text/html": [
       "<div>\n",
       "<style scoped>\n",
       "    .dataframe tbody tr th:only-of-type {\n",
       "        vertical-align: middle;\n",
       "    }\n",
       "\n",
       "    .dataframe tbody tr th {\n",
       "        vertical-align: top;\n",
       "    }\n",
       "\n",
       "    .dataframe thead th {\n",
       "        text-align: right;\n",
       "    }\n",
       "</style>\n",
       "<table border=\"1\" class=\"dataframe\">\n",
       "  <thead>\n",
       "    <tr style=\"text-align: right;\">\n",
       "      <th></th>\n",
       "      <th>ProductURL</th>\n",
       "      <th>ProductID</th>\n",
       "      <th>ProductSKU</th>\n",
       "      <th>ProductAvailability</th>\n",
       "    </tr>\n",
       "  </thead>\n",
       "  <tbody>\n",
       "    <tr>\n",
       "      <th>0</th>\n",
       "      <td>https://www.hepsiburada.com/mark-ryden-laptop-...</td>\n",
       "      <td>HB00001493UI</td>\n",
       "      <td>HBV00001493UJ</td>\n",
       "      <td>True</td>\n",
       "    </tr>\n",
       "    <tr>\n",
       "      <th>1</th>\n",
       "      <td>https://www.hepsiburada.com/xiaomi-ionic-sac-k...</td>\n",
       "      <td>HB00000P42FW</td>\n",
       "      <td>HBV00000P42FX</td>\n",
       "      <td>True</td>\n",
       "    </tr>\n",
       "    <tr>\n",
       "      <th>2</th>\n",
       "      <td>https://www.hepsiburada.com/dr-pen-m8-w-dermap...</td>\n",
       "      <td>HB00001496LW</td>\n",
       "      <td>HBV00001496LX</td>\n",
       "      <td>True</td>\n",
       "    </tr>\n",
       "    <tr>\n",
       "      <th>3</th>\n",
       "      <td>https://www.hepsiburada.com/mark-ryden-sirt-ca...</td>\n",
       "      <td>HB0000104JHW</td>\n",
       "      <td>HBV0000104JHX</td>\n",
       "      <td>True</td>\n",
       "    </tr>\n",
       "    <tr>\n",
       "      <th>4</th>\n",
       "      <td>https://www.hepsiburada.com/dr-pen-m8-c-dermap...</td>\n",
       "      <td>HB00001496LU</td>\n",
       "      <td>HBV00001496LV</td>\n",
       "      <td>True</td>\n",
       "    </tr>\n",
       "    <tr>\n",
       "      <th>5</th>\n",
       "      <td>https://www.hepsiburada.com/xiaomi-mitu-isikli...</td>\n",
       "      <td>HB00000UO6XW</td>\n",
       "      <td>HBV00000UO6XZ</td>\n",
       "      <td>True</td>\n",
       "    </tr>\n",
       "    <tr>\n",
       "      <th>6</th>\n",
       "      <td>https://www.hepsiburada.com/xiaomi-masa-uzeri-...</td>\n",
       "      <td>HB000005XPOG</td>\n",
       "      <td>HBV000005XPOH</td>\n",
       "      <td>True</td>\n",
       "    </tr>\n",
       "    <tr>\n",
       "      <th>7</th>\n",
       "      <td>https://www.hepsiburada.com/mark-ryden-laptop-...</td>\n",
       "      <td>HB00001493TY</td>\n",
       "      <td>HBV00001493TZ</td>\n",
       "      <td>True</td>\n",
       "    </tr>\n",
       "    <tr>\n",
       "      <th>8</th>\n",
       "      <td>https://www.hepsiburada.com/dr-pen-m7-c-dermap...</td>\n",
       "      <td>HB00001496LQ</td>\n",
       "      <td>HBV00001496LR</td>\n",
       "      <td>True</td>\n",
       "    </tr>\n",
       "    <tr>\n",
       "      <th>9</th>\n",
       "      <td>https://www.hepsiburada.com/hutt-w66-cam-pence...</td>\n",
       "      <td>HB000014LH30</td>\n",
       "      <td>HBV000014LH31</td>\n",
       "      <td>True</td>\n",
       "    </tr>\n",
       "  </tbody>\n",
       "</table>\n",
       "</div>"
      ],
      "text/plain": [
       "                                          ProductURL     ProductID  \\\n",
       "0  https://www.hepsiburada.com/mark-ryden-laptop-...  HB00001493UI   \n",
       "1  https://www.hepsiburada.com/xiaomi-ionic-sac-k...  HB00000P42FW   \n",
       "2  https://www.hepsiburada.com/dr-pen-m8-w-dermap...  HB00001496LW   \n",
       "3  https://www.hepsiburada.com/mark-ryden-sirt-ca...  HB0000104JHW   \n",
       "4  https://www.hepsiburada.com/dr-pen-m8-c-dermap...  HB00001496LU   \n",
       "5  https://www.hepsiburada.com/xiaomi-mitu-isikli...  HB00000UO6XW   \n",
       "6  https://www.hepsiburada.com/xiaomi-masa-uzeri-...  HB000005XPOG   \n",
       "7  https://www.hepsiburada.com/mark-ryden-laptop-...  HB00001493TY   \n",
       "8  https://www.hepsiburada.com/dr-pen-m7-c-dermap...  HB00001496LQ   \n",
       "9  https://www.hepsiburada.com/hutt-w66-cam-pence...  HB000014LH30   \n",
       "\n",
       "      ProductSKU  ProductAvailability  \n",
       "0  HBV00001493UJ                 True  \n",
       "1  HBV00000P42FX                 True  \n",
       "2  HBV00001496LX                 True  \n",
       "3  HBV0000104JHX                 True  \n",
       "4  HBV00001496LV                 True  \n",
       "5  HBV00000UO6XZ                 True  \n",
       "6  HBV000005XPOH                 True  \n",
       "7  HBV00001493TZ                 True  \n",
       "8  HBV00001496LR                 True  \n",
       "9  HBV000014LH31                 True  "
      ]
     },
     "execution_count": 81,
     "metadata": {},
     "output_type": "execute_result"
    }
   ],
   "source": [
    "df1.head(10)"
   ]
  },
  {
   "cell_type": "code",
   "execution_count": 132,
   "metadata": {},
   "outputs": [],
   "source": [
    "df1 = pd.read_csv('partial.csv')"
   ]
  },
  {
   "cell_type": "code",
   "execution_count": 133,
   "metadata": {},
   "outputs": [
    {
     "data": {
      "text/plain": [
       "1038"
      ]
     },
     "execution_count": 133,
     "metadata": {},
     "output_type": "execute_result"
    }
   ],
   "source": [
    "prod_urls = list(set(df1.ProductURL))\n",
    "len(prod_urls)"
   ]
  },
  {
   "cell_type": "code",
   "execution_count": 134,
   "metadata": {},
   "outputs": [],
   "source": [
    "titles, brands, prices, original_prices = [], [], [], []\n",
    "img_urls1, img_urls2, img_urls3, img_urls4, img_urls5 = [], [], [], [], []\n",
    "description_htmls, urls_done = [], []"
   ]
  },
  {
   "cell_type": "code",
   "execution_count": 135,
   "metadata": {},
   "outputs": [
    {
     "name": "stdout",
     "output_type": "stream",
     "text": [
      "0 ==> https://www.hepsiburada.com/mark-ryden-laptop-notebook-sirt-cantasi-9116-siyah-usb-sarj-portlu-p-HBV00001493UJ?magaza=First%20Sourcer \n",
      "\n",
      "\n",
      "1 ==> https://www.hepsiburada.com/xiaomi-ionic-sac-kurutma-fon-makinesi-p-HBV00000P42FX?magaza=First%20Sourcer \n",
      "\n",
      "\n",
      "2 ==> https://www.hepsiburada.com/dr-pen-m8-w-dermapen-cihazi-yurt-disindan-p-HBV00001496LX?magaza=First%20Sourcer \n",
      "\n",
      "\n",
      "3 ==> https://www.hepsiburada.com/mark-ryden-sirt-cantasi-laptop-notebook-cantasi-kilit-ve-usb-port-p-HBV0000104JHX?magaza=First%20Sourcer \n",
      "\n",
      "\n",
      "4 ==> https://www.hepsiburada.com/dr-pen-m8-c-dermapen-cihazi-yurt-disindan-p-HBV00001496LV?magaza=First%20Sourcer \n",
      "\n",
      "\n",
      "5 ==> https://www.hepsiburada.com/xiaomi-mitu-isikli-ayarlanabilir-3-tekerlekli-scooter-sari-p-HBV00000UO6XZ?magaza=First%20Sourcer \n",
      "\n",
      "\n",
      "6 ==> https://www.hepsiburada.com/xiaomi-masa-uzeri-akilli-led-lamba-p-HBV000005XPOH?magaza=First%20Sourcer \n",
      "\n",
      "\n",
      "7 ==> https://www.hepsiburada.com/mark-ryden-laptop-notebook-sirt-cantasi-9299-l-usb-sarj-portlu-p-HBV00001493TZ?magaza=First%20Sourcer \n",
      "\n",
      "\n",
      "8 ==> https://www.hepsiburada.com/dr-pen-m7-c-dermapen-cihazi-yurt-disindan-p-HBV00001496LR?magaza=First%20Sourcer \n",
      "\n",
      "\n",
      "9 ==> https://www.hepsiburada.com/hutt-w66-cam-pencere-temizleme-silme-robotu-yurt-disindan-p-HBV000014LH31?magaza=First%20Sourcer \n",
      "\n",
      "\n"
     ]
    }
   ],
   "source": [
    "for url_num, url in enumerate(list(df1.ProductURL)[:10]):\n",
    "    print(url_num, '==>', url, '\\n\\n')\n",
    "    site = requests.get(url, headers=headers)\n",
    "    soup = BeautifulSoup(site.content)\n",
    "\n",
    "    ## images URLs\n",
    "    img_urls = ['N\\A' for _ in range(5)]\n",
    "    only_one_image = True\n",
    "    for i, x in enumerate(soup.find('div', {'id':'productThumbnailsCarousel'}).findAll('img')[:5]):\n",
    "        only_one_image = False\n",
    "        temp = x['src'].split('/')\n",
    "        temp[-2] = '1000'\n",
    "        img_urls[i] = '/'.join(temp)\n",
    "#         print(img_urls[i])\n",
    "    if only_one_image:\n",
    "        img_urls[0] = soup.find('img', {'itemprop':'image'})['src']\n",
    "\n",
    "    ## other product info \n",
    "    title = soup.find('h1', {'itemprop':'name', 'id':'product-name'}).getText('', True)\n",
    "    brand = soup.find('span', {'class':'brand-name'}).getText('', True)\n",
    "    price = soup.find('', {'itemprop':'price'}).getText('', True)\n",
    "    original_price = soup.find('del', {'id':'originalPrice'}).getText('', True)\n",
    "    description_html = soup.find('div', {'id':'tabProductDesc'}) \n",
    "    \n",
    "    titles.append(title); brands.append(brand); prices.append(price); original_prices.append(original_price)\n",
    "    description_htmls.append(description_html)\n",
    "    img_urls1.append(img_urls[0]); img_urls2.append(img_urls[1]); img_urls3.append(img_urls[2]);\n",
    "    img_urls4.append(img_urls[3]); img_urls5.append(img_urls[4]);\n",
    "    urls_done.append(url)"
   ]
  },
  {
   "cell_type": "code",
   "execution_count": 136,
   "metadata": {
    "scrolled": true
   },
   "outputs": [
    {
     "data": {
      "text/plain": [
       "(10, 10, 10)"
      ]
     },
     "execution_count": 136,
     "metadata": {},
     "output_type": "execute_result"
    }
   ],
   "source": [
    "len(titles), len(img_urls1), len(img_urls2)"
   ]
  },
  {
   "cell_type": "code",
   "execution_count": 142,
   "metadata": {},
   "outputs": [],
   "source": [
    "df2 = pd.DataFrame({\n",
    "    'Title': titles,\n",
    "    'Brand': brands,\n",
    "    'Price': prices,\n",
    "    'ProductURL': urls_done,\n",
    "    'OriginalPrice': original_prices,\n",
    "    'DescriptionHTML': description_htmls,\n",
    "    'img_url1': img_urls1,\n",
    "    'img_url2': img_urls2,\n",
    "    'img_url3': img_urls3,\n",
    "    'img_url4': img_urls4,\n",
    "    'img_url5': img_urls5\n",
    "})"
   ]
  },
  {
   "cell_type": "code",
   "execution_count": 143,
   "metadata": {},
   "outputs": [],
   "source": [
    "df = pd.merge(df1, df2, on=\"ProductURL\")"
   ]
  },
  {
   "cell_type": "code",
   "execution_count": 144,
   "metadata": {},
   "outputs": [],
   "source": [
    "df = df.drop_duplicates().reset_index().drop(columns=['index'], axis=1)"
   ]
  },
  {
   "cell_type": "code",
   "execution_count": 145,
   "metadata": {},
   "outputs": [],
   "source": [
    "df.to_csv('sample_hepsiburada.csv', index=False)"
   ]
  },
  {
   "cell_type": "code",
   "execution_count": 61,
   "metadata": {},
   "outputs": [
    {
     "data": {
      "text/plain": [
       "1038"
      ]
     },
     "execution_count": 61,
     "metadata": {},
     "output_type": "execute_result"
    }
   ],
   "source": [
    "len(set(prod_urls))"
   ]
  }
 ],
 "metadata": {
  "kernelspec": {
   "display_name": "Python 3",
   "language": "python",
   "name": "python3"
  },
  "language_info": {
   "codemirror_mode": {
    "name": "ipython",
    "version": 3
   },
   "file_extension": ".py",
   "mimetype": "text/x-python",
   "name": "python",
   "nbconvert_exporter": "python",
   "pygments_lexer": "ipython3",
   "version": "3.7.3"
  }
 },
 "nbformat": 4,
 "nbformat_minor": 2
}
