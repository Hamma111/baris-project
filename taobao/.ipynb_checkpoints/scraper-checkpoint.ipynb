{
 "cells": [
  {
   "cell_type": "code",
   "execution_count": 48,
   "id": "actual-minister",
   "metadata": {},
   "outputs": [],
   "source": [
    "import requests\n",
    "import os\n",
    "import pandas as pd\n",
    "from bs4 import BeautifulSoup\n",
    "from mtranslate import translate\n",
    "import http.cookies\n",
    "import re\n",
    "import json\n",
    "from selenium import webdriver\n",
    "from selenium.webdriver.chrome.options import Options\n",
    "from selenium.webdriver.common.keys import Keys\n",
    "from fake_useragent import UserAgent\n",
    "from time import sleep"
   ]
  },
  {
   "cell_type": "code",
   "execution_count": 71,
   "id": "distinct-single",
   "metadata": {},
   "outputs": [],
   "source": [
    "MAX_RETRIES = 10"
   ]
  },
  {
   "cell_type": "code",
   "execution_count": 72,
   "id": "progressive-blackjack",
   "metadata": {},
   "outputs": [],
   "source": [
    "cookies = pd.read_json('cookies.json')"
   ]
  },
  {
   "cell_type": "code",
   "execution_count": 73,
   "id": "incoming-briefs",
   "metadata": {},
   "outputs": [],
   "source": [
    "headers = {\n",
    "    'User-Agent': 'Mozilla/5.0 (Windows NT 10.0; Win64; x64) AppleWebKit/537.36 (KHTML, like Gecko) Chrome/89.0.4389.90 Safari/537.36 Edg/89.0.774.63',\n",
    "    'Connection':'close'\n",
    "          }"
   ]
  },
  {
   "cell_type": "code",
   "execution_count": 74,
   "id": "saving-capitol",
   "metadata": {},
   "outputs": [],
   "source": [
    "sess = requests.Session()\n",
    "adapter = requests.adapters.HTTPAdapter(max_retries=MAX_RETRIES)\n",
    "sess.mount('https://', adapter)\n",
    "sess.mount('http://', adapter)"
   ]
  },
  {
   "cell_type": "code",
   "execution_count": 5,
   "id": "revolutionary-kelly",
   "metadata": {},
   "outputs": [],
   "source": [
    "for index, cookie in cookies.iterrows():\n",
    "    sess.cookies.set(cookie['name'], cookie['value'])"
   ]
  },
  {
   "cell_type": "code",
   "execution_count": 7,
   "id": "tribal-stability",
   "metadata": {},
   "outputs": [],
   "source": [
    "site = sess.get('https://s.taobao.com/search?spm=a21wu.241046-global.6977698868.164.4103b6cbbgbVCY&q=%E9%A5%B0%E5%93%81DIY&acm=lb-zebra-241046-2075394.1003.4.1812236&scm=1003.4.lb-zebra-241046-2075394.OTHER_15206383875223_1812236&bcoffset=-3&ntoffset=-3&p4ppushleft=1%2C48&s=132',\n",
    "                   headers=headers,)"
   ]
  },
  {
   "cell_type": "code",
   "execution_count": 8,
   "id": "macro-pressure",
   "metadata": {},
   "outputs": [],
   "source": [
    "g_page_config = re.search(r\"g_page_config = (.*?);\\n\", site.text)\n",
    "page_config_json = json.loads(g_page_config.group(1))\n",
    "page_items = page_config_json['mods']['itemlist']['data']['auctions']"
   ]
  },
  {
   "cell_type": "code",
   "execution_count": 9,
   "id": "reduced-mixture",
   "metadata": {},
   "outputs": [],
   "source": [
    "soup = BeautifulSoup(site.content)"
   ]
  },
  {
   "cell_type": "code",
   "execution_count": 10,
   "id": "corresponding-triumph",
   "metadata": {},
   "outputs": [],
   "source": [
    "def get_items(res):\n",
    "    g_page_config = re.search(r\"g_page_config = (.*?);\\n\", res.text)\n",
    "    page_config_json = json.loads(g_page_config.group(1))\n",
    "    page_items = page_config_json['mods']['itemlist']['data']['auctions']\n",
    "    result = []\n",
    "    for each_item in page_items:\n",
    "        dict1 = dict.fromkeys(('nid','title','detail_url','view_price','view_sales','nick'))\n",
    "        dict1['nid'] = each_item['nid']\n",
    "        dict1['title'] = each_item['title']\n",
    "        dict1['detail_url'] = each_item['detail_url']\n",
    "        if \"https:\" not in dict1['detail_url']:\n",
    "            dict1['detail_url'] = \"https:\"+each_item['detail_url']\n",
    "        dict1['view_price'] = each_item['view_price']\n",
    "        dict1['view_sales'] = each_item['view_sales']\n",
    "        dict1['nick'] = each_item['nick']\n",
    "        result.append(dict1)\n",
    "#         return dict1\n",
    "    return result[:]"
   ]
  },
  {
   "cell_type": "code",
   "execution_count": 41,
   "id": "funky-forestry",
   "metadata": {},
   "outputs": [],
   "source": [
    "items_list = get_items(site)"
   ]
  },
  {
   "cell_type": "code",
   "execution_count": 83,
   "id": "french-enclosure",
   "metadata": {},
   "outputs": [],
   "source": [
    "images_urls_array = []\n",
    "description_html_array = []\n",
    "urls_saved_array = []"
   ]
  },
  {
   "cell_type": "code",
   "execution_count": 84,
   "id": "north-output",
   "metadata": {
    "scrolled": true
   },
   "outputs": [
    {
     "name": "stdout",
     "output_type": "stream",
     "text": [
      "https://click.simba.taobao.com/cc_im?p=%CA%CE%C6%B7DIY&s=1101015495&k=537&e=5Hq7V1uRzJLSlRVnwQVU8Cz0YZ6FNCjqm6q3lT4hIvmmqH8A4tuR%2BLT%2FetT5llAk0SHv59WZP6nEp395Hdm0ZRdQ%2BFEl49WVErHMwRu8YKtSbZ3m%2BJ48OV%2FrtkWESJ9gLAJDloaWnZIyTZW5kIBHCfR0f9hiGIlTcw87rVCwPFAxdvvBDnq7gO9M58ToULGmhRdqYvm68aBJfy%2B5fL480dc0LAdg83lIlBtFr5s4dZBGw0QJvzk37oAoeP%2B9qh1pAdTp6AFUG1Gne6iUO7iOXDmHz2Gu3aKZ8OWgp4yOPYikAZd75D%2FOocMM0zb3SnXgysrTguWsCc7lWI%2FjG92UTpB%2FpmRG%2FGfPAhw8ep%2F7p%2BtfWpLjLsixtlIst0MmeMQijSKkHapJZWyG4VwHHgfudBGHObX9Ss9mQuvhaIj9kbNoD0SrG7Uedx5JsxTA5Oc%2F0ngaWMUx271Te8uTO%2F9I09Yv2KKKxe8SB7YH7bv0uefmLxkd5Ltpp4I5aTDJdlqIybNMAlq47laiJ7KvMetfWg%3D%3D#detail\n",
      "https://click.simba.taobao.com/cc_im?p=%CA%CE%C6%B7DIY&s=1101015495&k=557&e=fQPTmhjdi67SlRVnwQVU8Cz0YZ6FNCjqm6q3lT4hIvmmqH8A4tuR%2BLT%2FetT5llAk0SHv59WZP6lkAmQ1idKrJHsRrQjpLi93Zxs8WUqdLz9SbZ3m%2BJ48OV%2FrtkWESJ9gLAJDloaWnZIyTZW5kIBHCfR0f9hiGIlTcw87rVCwPFAxdvvBDnq7gO9M58ToULGmhRdqYvm68aBJfy%2B5fL480SX7zuDg%2FgcM8q%2FSpA34YUWaLbp5oN1Zg44rZMkAoCjQdqYjhYfZuZWd8NUdrkN9UtmSgu8SqSlYzaiPO2sZeYnw8gFutc8bccrLJQw0sXnFo0usWxg%2FXer9%2BZS4%2BAiOa9W0PrqiH8LpOxsnxcPWvMXsIevgpR7rGvn96mhWVwkEhGFuI%2FdZL7NZqm6Wp4w6KK9n21%2F0%2FxWCOPb05vrBuR9qTJzTbfCQpWHQEw488OknFJuz3vN61PTj6BnianXuX142e%2BKCKbCptSPt2LAk%2F7WVuRDDJxiQ4NSdqmqWWL6Vjsf4NkgL6tSJcXsaxy1tY0xUCRdrrlr1NuDurO7CHmM%3D\n",
      "HTTPSConnectionPool(host='item.taobao.com', port=443): Max retries exceeded with url: /item.htm?id=625163262403&ali_refid=a3_430620_1006:1120988928:N:tBWqmx8brUulgqcyWmeruw%3D%3D:8a2f20cf86c155f5d854ca8111c97ee5&ali_trackid=1_8a2f20cf86c155f5d854ca8111c97ee5 (Caused by SSLError(SSLError(\"bad handshake: Error([('SSL routines', 'ssl3_read_bytes', 'tlsv1 alert internal error')])\")))\n",
      "HTTPSConnectionPool(host='item.taobao.com', port=443): Max retries exceeded with url: /item.htm?id=533262884992&ns=1&abbucket=5 (Caused by SSLError(SSLError(\"bad handshake: Error([('SSL routines', 'ssl3_read_bytes', 'tlsv1 alert internal error')])\")))\n",
      "HTTPSConnectionPool(host='item.taobao.com', port=443): Max retries exceeded with url: /item.htm?id=618373388316&ns=1&abbucket=5 (Caused by SSLError(SSLError(\"bad handshake: Error([('SSL routines', 'ssl3_read_bytes', 'tlsv1 alert internal error')])\")))\n",
      "HTTPSConnectionPool(host='item.taobao.com', port=443): Max retries exceeded with url: /item.htm?id=542165949613&ns=1&abbucket=5 (Caused by SSLError(SSLError(\"bad handshake: Error([('SSL routines', 'ssl3_read_bytes', 'tlsv1 alert internal error')])\")))\n",
      "HTTPSConnectionPool(host='detail.tmall.com', port=443): Max retries exceeded with url: /item.htm?id=617415720505&ns=1&abbucket=5 (Caused by SSLError(SSLError(\"bad handshake: Error([('SSL routines', 'ssl3_read_bytes', 'tlsv1 alert internal error')])\")))\n",
      "https://item.taobao.com/item.htm?id=40648876956&ns=1&abbucket=5#detail\n",
      "HTTPSConnectionPool(host='item.taobao.com', port=443): Max retries exceeded with url: /item.htm?id=563630123303&ns=1&abbucket=5 (Caused by SSLError(SSLError(\"bad handshake: Error([('SSL routines', 'ssl3_read_bytes', 'tlsv1 alert internal error')])\")))\n",
      "HTTPSConnectionPool(host='item.taobao.com', port=443): Max retries exceeded with url: /item.htm?id=588107151348&ns=1&abbucket=5 (Caused by SSLError(SSLError(\"bad handshake: Error([('SSL routines', 'ssl3_read_bytes', 'tlsv1 alert internal error')])\")))\n"
     ]
    }
   ],
   "source": [
    "for item in items_list[:10]:\n",
    "    try:\n",
    "        site1 = sess.get(item['detail_url'], allow_redirects=True)\n",
    "        try:\n",
    "            images_urls.append(eval(re.search(r\"auctionImages    : ([^\\}]*)\", site1.text).group(1).strip()))\n",
    "        except:\n",
    "            soup1 = BeautifulSoup(site1.content)\n",
    "            images_urls.append([x['src'].replace('jpg_60x60', 'jpg_500x500') for x in \n",
    "                                soup1.findAll('img', {'src':True,}) if \"jpg_60x60q90\" in x['src']])\n",
    "            description_html.append(soup1.find('div', {'class':'attributes-list'}))\n",
    "        print(item['detail_url'])\n",
    "        urls_saved_array.append(item['detail_url'])\n",
    "        sleep(2)\n",
    "    except Exception as ex:\n",
    "        print(ex)"
   ]
  },
  {
   "cell_type": "code",
   "execution_count": 85,
   "id": "anonymous-italy",
   "metadata": {},
   "outputs": [
    {
     "data": {
      "text/plain": [
       "[['//gd3.alicdn.com/imgextra/i3/2437641482/O1CN01QqHOs21MondhIq7hU_!!2437641482.jpg',\n",
       "  '//gd2.alicdn.com/imgextra/i2/2437641482/O1CN01LZm1cO1MondSdSz9d_!!2437641482.jpg',\n",
       "  '//gd2.alicdn.com/imgextra/i2/2437641482/O1CN01h9aD161MondPKtCWk_!!2437641482.jpg',\n",
       "  '//gd1.alicdn.com/imgextra/i1/2437641482/O1CN01gCOaZI1MondRPed16_!!2437641482.jpg',\n",
       "  '//gd4.alicdn.com/imgextra/i4/2437641482/O1CN01wV2Nsi1MondMfN2aw_!!2437641482.jpg'],\n",
       " ['//img.alicdn.com/imgextra/i3/2208060893914/O1CN01C6qGVc1emeq41b2dG_!!0-item_pic.jpg_500x500q90.jpg',\n",
       "  '//img.alicdn.com/imgextra/i1/2208060893914/O1CN014kn2fh1emeq6Mfiah_!!2208060893914.jpg_500x500q90.jpg',\n",
       "  '//img.alicdn.com/imgextra/i3/2208060893914/O1CN01GUSlRb1emeq7G4JtW_!!2208060893914.jpg_500x500q90.jpg',\n",
       "  '//img.alicdn.com/imgextra/i3/2208060893914/O1CN01Je9iWF1emeq7usxA1_!!2208060893914.jpg_500x500q90.jpg',\n",
       "  '//img.alicdn.com/imgextra/i2/2208060893914/O1CN01npDqI81emeq3IHJpn_!!2208060893914.jpg_500x500q90.jpg'],\n",
       " ['//gd1.alicdn.com/imgextra/i2/92621300/O1CN014OGJd41LTRR0EIwCu_!!92621300.jpg',\n",
       "  '//gd3.alicdn.com/imgextra/i3/92621300/O1CN011LTRM2Mu8ETvV6C_!!92621300.jpg',\n",
       "  '//gd1.alicdn.com/imgextra/i1/92621300/TB2sR6LdgMPMeJjy1XcXXXpppXa_!!92621300.jpg',\n",
       "  '//gd4.alicdn.com/imgextra/i4/92621300/O1CN01OLi7bB1LTRRHUtnIM_!!92621300.jpg',\n",
       "  '//gd4.alicdn.com/imgextra/i4/92621300/O1CN01pwG2pa1LTRQyy96Kv_!!92621300.jpg']]"
      ]
     },
     "execution_count": 85,
     "metadata": {},
     "output_type": "execute_result"
    }
   ],
   "source": [
    "images_urls"
   ]
  },
  {
   "cell_type": "code",
   "execution_count": 79,
   "id": "better-catalog",
   "metadata": {},
   "outputs": [
    {
     "ename": "NameError",
     "evalue": "name 'soup1' is not defined",
     "output_type": "error",
     "traceback": [
      "\u001b[1;31m---------------------------------------------------------------------------\u001b[0m",
      "\u001b[1;31mNameError\u001b[0m                                 Traceback (most recent call last)",
      "\u001b[1;32m<ipython-input-79-97833c5f653f>\u001b[0m in \u001b[0;36m<module>\u001b[1;34m\u001b[0m\n\u001b[1;32m----> 1\u001b[1;33m \u001b[0msoup1\u001b[0m\u001b[1;33m\u001b[0m\u001b[1;33m\u001b[0m\u001b[0m\n\u001b[0m",
      "\u001b[1;31mNameError\u001b[0m: name 'soup1' is not defined"
     ]
    }
   ],
   "source": [
    "soup1.find('div', {'class':'attributes-list'})"
   ]
  },
  {
   "cell_type": "code",
   "execution_count": 163,
   "id": "military-immunology",
   "metadata": {},
   "outputs": [],
   "source": [
    "from selenium import webdriver\n",
    "from selenium.webdriver.common.keys import Keys\n",
    "from selenium.webdriver.common.by import By\n",
    "from selenium.webdriver.support.ui import WebDriverWait\n",
    "from selenium.webdriver.support import expected_conditions as EC\n",
    "from selenium.webdriver.chrome.options import Options"
   ]
  },
  {
   "cell_type": "code",
   "execution_count": 164,
   "id": "discrete-narrow",
   "metadata": {},
   "outputs": [],
   "source": [
    "options = Options()\n",
    "options.add_argument(\"--disable-blink-features\")\n",
    "options.add_argument(\"--disable-blink-features=AutomationControlled\")\n",
    "options.add_argument(\"start-maximized\")\n",
    "options.add_experimental_option(\"excludeSwitches\", [\"enable-automation\"])\n",
    "options.add_experimental_option('useAutomationExtension', False)\n",
    "dr = webdriver.Chrome(options=options)"
   ]
  },
  {
   "cell_type": "code",
   "execution_count": 165,
   "id": "tamil-playing",
   "metadata": {},
   "outputs": [],
   "source": [
    "dr.get('https://s.taobao.com/search?spm=a21wu.241046-global.6977698868.164.4103b6cbbgbVCY&q=%E9%A5%B0%E5%93%81DIY&acm=lb-zebra-241046-2075394.1003.4.1812236&scm=1003.4.lb-zebra-241046-2075394.OTHER_15206383875223_1812236&bcoffset=6&ntoffset=6&p4ppushleft=1%2C48&s=0')"
   ]
  },
  {
   "cell_type": "code",
   "execution_count": 166,
   "id": "indirect-blowing",
   "metadata": {
    "scrolled": true
   },
   "outputs": [],
   "source": [
    "for index, cookie in cookies.drop(['httpOnly', 'sameSite', 'session', 'storeId', 'id', 'hostOnly', 'expirationDate'], axis=1).iterrows():\n",
    "    dr.add_cookie(dict(cookie))\n"
   ]
  },
  {
   "cell_type": "code",
   "execution_count": 176,
   "id": "charitable-parallel",
   "metadata": {},
   "outputs": [],
   "source": [
    "dr.get('https://s.taobao.com/search?spm=a21wu.241046-global.6977698868.164.4103b6cbbgbVCY&q=%E9%A5%B0%E5%93%81DIY&acm=lb-zebra-241046-2075394.1003.4.1812236&scm=1003.4.lb-zebra-241046-2075394.OTHER_15206383875223_1812236&bcoffset=6&ntoffset=6&p4ppushleft=1%2C48&s=0')"
   ]
  },
  {
   "cell_type": "code",
   "execution_count": 183,
   "id": "terminal-stomach",
   "metadata": {},
   "outputs": [],
   "source": [
    "NUM_PAGES = 5"
   ]
  },
  {
   "cell_type": "code",
   "execution_count": 184,
   "id": "interpreted-illinois",
   "metadata": {},
   "outputs": [],
   "source": [
    "prod_urls_array = []"
   ]
  },
  {
   "cell_type": "code",
   "execution_count": 185,
   "id": "known-portsmouth",
   "metadata": {},
   "outputs": [],
   "source": [
    "for i in range(NUM_PAGES):\n",
    "    for _ in range(7):\n",
    "        dr.find_element_by_tag_name('body').send_keys(Keys.PAGE_DOWN)\n",
    "        sleep(0.5)\n",
    "    sleep(1)\n",
    "    \n",
    "    soup = BeautifulSoup(dr.page_source)\n",
    "    prods = soup.find('div', {'id':'mainsrp-itemlist'}).findAll('div', {\"data-category\": \"auctions\"})\n",
    "    prod_urls = [x.find('a')['href'] for x in prods]\n",
    "    prod_urls_array += prod_urls\n",
    "    \n",
    "    dr.find_element_by_xpath('//li[@class=\"item next\"]').click() \n",
    "    WebDriverWait(dr, 10).until(\n",
    "            EC.visibility_of_element_located((By.XPATH, f'//span[@class=\"num\" and contains(text(),{i+2})]'))\n",
    "        )"
   ]
  },
  {
   "cell_type": "code",
   "execution_count": 192,
   "id": "needed-retailer",
   "metadata": {},
   "outputs": [
    {
     "data": {
      "text/plain": [
       "['//detail.tmall.com/item.htm?id=622104997017&ad_id=&am_id=&cm_id=140105335569ed55e27b&pm_id=&abbucket=1#detail',\n",
       " '//detail.tmall.com/item.htm?id=563669481921&ad_id=&am_id=&cm_id=140105335569ed55e27b&pm_id=&abbucket=1#detail',\n",
       " '//detail.tmall.com/item.htm?id=632069453704&ns=1&abbucket=1',\n",
       " '//detail.tmall.com/item.htm?id=627035319459&ns=1&abbucket=1',\n",
       " '//item.taobao.com/item.htm?id=609744980426&ns=1&abbucket=1#detail',\n",
       " '//detail.tmall.com/item.htm?id=539014055566&ns=1&abbucket=1',\n",
       " '//item.taobao.com/item.htm?id=631798427488&ns=1&abbucket=1#detail',\n",
       " '//detail.tmall.com/item.htm?id=623238815246&ns=1&abbucket=1',\n",
       " '//item.taobao.com/item.htm?id=623735178251&ns=1&abbucket=1#detail',\n",
       " '//item.taobao.com/item.htm?id=561529241262&ns=1&abbucket=1#detail',\n",
       " '//item.taobao.com/item.htm?id=580644256988&ns=1&abbucket=1#detail',\n",
       " '//item.taobao.com/item.htm?id=570923690491&ns=1&abbucket=1#detail',\n",
       " '//detail.tmall.com/item.htm?id=589354260882&ns=1&abbucket=1',\n",
       " '//item.taobao.com/item.htm?id=567935626616&ns=1&abbucket=1#detail',\n",
       " '//detail.tmall.com/item.htm?id=606545158802&ns=1&abbucket=1',\n",
       " '//item.taobao.com/item.htm?id=599465404443&ns=1&abbucket=1#detail',\n",
       " '//detail.tmall.com/item.htm?id=637340381579&ns=1&abbucket=1',\n",
       " '//item.taobao.com/item.htm?id=618357635449&ns=1&abbucket=1#detail',\n",
       " '//item.taobao.com/item.htm?id=565003506035&ns=1&abbucket=1#detail',\n",
       " '//detail.tmall.com/item.htm?id=627886349147&ns=1&abbucket=1',\n",
       " '//detail.tmall.com/item.htm?id=632441685853&ns=1&abbucket=1',\n",
       " '//item.taobao.com/item.htm?id=633824979333&ns=1&abbucket=1#detail',\n",
       " '//detail.tmall.com/item.htm?id=586534354333&ns=1&abbucket=1',\n",
       " '//detail.tmall.com/item.htm?id=637613370216&ns=1&abbucket=1',\n",
       " '//detail.tmall.com/item.htm?id=633723273477&ns=1&abbucket=1',\n",
       " '//detail.tmall.com/item.htm?id=570586856554&ns=1&abbucket=1',\n",
       " '//item.taobao.com/item.htm?id=575452597017&ns=1&abbucket=1#detail',\n",
       " '//item.taobao.com/item.htm?id=607697166843&ns=1&abbucket=1#detail',\n",
       " '//item.taobao.com/item.htm?id=628761426919&ns=1&abbucket=1#detail',\n",
       " '//detail.tmall.com/item.htm?id=622847281425&ns=1&abbucket=1',\n",
       " '//detail.tmall.com/item.htm?id=632110148011&ns=1&abbucket=1',\n",
       " '//detail.tmall.com/item.htm?id=632773398579&ns=1&abbucket=1',\n",
       " '//detail.tmall.com/item.htm?id=557303186627&ns=1&abbucket=1',\n",
       " '//item.taobao.com/item.htm?id=533262884992&ns=1&abbucket=1#detail',\n",
       " '//detail.tmall.com/item.htm?id=588683466680&ns=1&abbucket=1',\n",
       " '//item.taobao.com/item.htm?id=615694519708&ns=1&abbucket=1#detail',\n",
       " '//item.taobao.com/item.htm?id=23349296316&ns=1&abbucket=1#detail',\n",
       " '//item.taobao.com/item.htm?id=554471126817&ns=1&abbucket=1#detail',\n",
       " '//detail.tmall.com/item.htm?id=560376824904&ns=1&abbucket=1',\n",
       " '//detail.tmall.com/item.htm?id=639860617477&ns=1&abbucket=1',\n",
       " '//item.taobao.com/item.htm?id=618971064947&ns=1&abbucket=1#detail',\n",
       " '//item.taobao.com/item.htm?id=563131437284&ns=1&abbucket=1#detail',\n",
       " '//item.taobao.com/item.htm?id=582772903716&ns=1&abbucket=1#detail',\n",
       " '//detail.tmall.com/item.htm?id=632154405090&ns=1&abbucket=1',\n",
       " '//detail.tmall.com/item.htm?id=609531474916&ns=1&abbucket=1',\n",
       " '//detail.tmall.com/item.htm?id=607971449707&ns=1&abbucket=1',\n",
       " '//detail.tmall.com/item.htm?id=613366846489&ns=1&abbucket=1',\n",
       " '//detail.tmall.com/item.htm?id=635989258969&ns=1&abbucket=1',\n",
       " 'https://click.simba.taobao.com/cc_im?p=%CA%CE%C6%B7DIY&s=1545203442&k=621&e=ZT5IJSP6D1H5pzGkNy%2F38JoM4byr6KkiimfE0QNpmk1R7IjwqAddtAAcjXw0x8rvW88JwxOMCl8%2BTtC9fiFt6omZfwzFgUFg2FpDpmQVNkGNjqF5wIOBK10EWYksTJKwz19PXeaAurXoh75wha396NF2ozDlFHWKJN%2FfCu81MwxFSHy3xjubd%2BBWrGcRwLtsCoCpADe8AY6gj4v4HnpgxrsMZZeIfysrV6Fu9mN2%2BTM6il0SnzOyi1P6ETpHeUs8nPQLIW8ahOM4io676L51LVNLe%2BlGZhdd6I19ungdBvug2jqpjYC8YJbSR4AwCYlWvALu7pn0Z1c%2BwCGzQmO%2Bhf7bcGOb5daYYPpcSfA7cpj%2BWgnYLmptq3URwClF7SX2wbWWA%2BJM75sx84UyW4IPmOSqzzffgZdDBZ6gYVbEoPfbDbtdbirFJcEEu6%2Fr1nAh7dfQGMlOPWuDKRSaXXUkRXE5EXG7wEpdZ4JXJfxIYondJ5sHHh%2F34CJkcQ2X7ejlPWpUb4ahizuj37YqDETIiF%2BlJ%2ByE7mTTe0gGxWyC08iQjbOUafC8%2Bmu5V85%2BUkBYwT6HQcyHExRO%2B%2BKpRMrbuzn5xurtbxyljdAlBmL2xQU%3D#detail',\n",
       " 'https://click.simba.taobao.com/cc_im?p=%CA%CE%C6%B7DIY&s=1545203442&k=525&e=w3AuhOLJcqr5pzGkNy%2F38JoM4byr6KkiimfE0QNpmk1R7IjwqAddtAAcjXw0x8rvW88JwxOMCl9oK1gaoV3vw%2BRHsm43JVMB%2FfxCQU9IgbSNjqF5wIOBK10EWYksTJKwz19PXeaAurXoh75wha396NF2ozDlFHWKJN%2FfCu81MwxFSHy3xjubd%2BBWrGcRwLtsCoCpADe8AY6gj4v4HnpgxhnuRXq6t3Y3VyIKSOAnkkPZPNWACv9wlr2tMciaDp4A0IhsdFK2q%2BFRI3JdACRtpvgUB%2FrUk3kGAtgAGTQ%2Brq5QOLQeqgAlR0CWIJBRgYf02L%2Beb9a%2BCiSrKTOhqWohtiX6q6T5HzIpDrhoeOt0bfupByKhk7ZIFUhxp4F5C7GYUwYt4mNJSNo96DrsS%2BHWNr1T9hQU%2F0381LXfCYQTgVAC2AAZND6urjsTugGepKbj08cn6Ujcg5Y6sTSu0IY4XkwHloCz0RSflvoYpV8kiwdWHrgJfsJ7VQFQ2k6%2FkfZl8m6u6n1XsEI%3D#detail',\n",
       " 'https://click.simba.taobao.com/cc_im?p=%CA%CE%C6%B7DIY&s=1545203442&k=525&e=OGWOvfRKGWb5pzGkNy%2F38JoM4byr6KkiimfE0QNpmk1R7IjwqAddtAAcjXw0x8rvW88JwxOMCl9oK1gaoV3vw5I3qeKh4fVr%2FfxCQU9IgbSNjqF5wIOBK10EWYksTJKwz19PXeaAurXoh75wha396NF2ozDlFHWKJN%2FfCu81MwxFSHy3xjubd%2BBWrGcRwLtsCoCpADe8AY6gj4v4HnpgxhnuRXq6t3Y3NQFjYFG3nQSb3S0Aa0KnbVNLe%2BlGZhdd6I19ungdBvug2jqpjYC8YH3OhmwpXIs7eovBD7qW%2FCi66%2FCyT6WWBELV0wt7OA%2FqgYVoRpWipVgJSMu0wojA1jX2HYB50EpjKBA1C9Yzq6Ax84UyW4IPmOSqzzffgZdDBZ6gYVbEoPfbDbtdbirFJcEEu6%2Fr1nAhC5F16LrO8RL1kejWRZoSUUmGMTSx51%2FhGQdn%2B6qqtoYJm6w970VLMzQ6fWeIF8euUz40nm3z1vqs04tE2yQD%2Fj%2FcF12QFi05hJru8mrgbgw%3D#detail',\n",
       " '//item.taobao.com/item.htm?id=549912007725&ns=1&abbucket=1#detail',\n",
       " '//detail.tmall.com/item.htm?id=520696356803&ns=1&abbucket=1',\n",
       " '//item.taobao.com/item.htm?id=618373388316&ns=1&abbucket=1#detail',\n",
       " '//item.taobao.com/item.htm?id=631825532938&ns=1&abbucket=1#detail',\n",
       " '//item.taobao.com/item.htm?id=591945611288&ns=1&abbucket=1#detail',\n",
       " '//detail.tmall.com/item.htm?id=630129314743&ns=1&abbucket=1',\n",
       " '//detail.tmall.com/item.htm?id=626453373475&ns=1&abbucket=1',\n",
       " '//item.taobao.com/item.htm?id=542198907972&ns=1&abbucket=1#detail',\n",
       " '//item.taobao.com/item.htm?id=569267441604&ns=1&abbucket=1#detail',\n",
       " '//detail.tmall.com/item.htm?id=578226278447&ns=1&abbucket=1',\n",
       " '//item.taobao.com/item.htm?id=597200545014&ns=1&abbucket=1#detail',\n",
       " '//item.taobao.com/item.htm?id=557175077744&ns=1&abbucket=1#detail',\n",
       " '//item.taobao.com/item.htm?id=595041660076&ns=1&abbucket=1#detail',\n",
       " '//detail.tmall.com/item.htm?id=39264113679&ns=1&abbucket=1',\n",
       " '//detail.tmall.com/item.htm?id=623400322731&ns=1&abbucket=1',\n",
       " '//item.taobao.com/item.htm?id=593092590747&ns=1&abbucket=1#detail',\n",
       " '//detail.tmall.com/item.htm?id=611658470623&ns=1&abbucket=1',\n",
       " '//item.taobao.com/item.htm?id=570095964230&ns=1&abbucket=1#detail',\n",
       " '//detail.tmall.com/item.htm?id=628957243376&ns=1&abbucket=1',\n",
       " '//item.taobao.com/item.htm?id=624198675720&ns=1&abbucket=1#detail',\n",
       " '//item.taobao.com/item.htm?id=638055136965&ns=1&abbucket=1#detail',\n",
       " '//detail.tmall.com/item.htm?id=620371150410&ns=1&abbucket=1',\n",
       " '//item.taobao.com/item.htm?id=636810509041&ns=1&abbucket=1#detail',\n",
       " '//item.taobao.com/item.htm?id=560774532182&ns=1&abbucket=1#detail',\n",
       " '//item.taobao.com/item.htm?id=532804944421&ns=1&abbucket=1#detail',\n",
       " '//item.taobao.com/item.htm?id=623511688778&ns=1&abbucket=1#detail',\n",
       " '//detail.tmall.com/item.htm?id=598546199696&ns=1&abbucket=1',\n",
       " '//detail.tmall.com/item.htm?id=613148874319&ns=1&abbucket=1',\n",
       " '//detail.tmall.com/item.htm?id=559699668953&ns=1&abbucket=1',\n",
       " '//detail.tmall.com/item.htm?id=597420689253&ns=1&abbucket=1',\n",
       " '//item.taobao.com/item.htm?id=560737429098&ns=1&abbucket=1#detail',\n",
       " '//item.taobao.com/item.htm?id=620878242595&ns=1&abbucket=1#detail',\n",
       " '//item.taobao.com/item.htm?id=582575727571&ns=1&abbucket=1#detail',\n",
       " '//detail.tmall.com/item.htm?id=624810929852&ns=1&abbucket=1',\n",
       " '//item.taobao.com/item.htm?id=568305194435&ns=1&abbucket=1#detail',\n",
       " '//item.taobao.com/item.htm?id=599464227270&ns=1&abbucket=1#detail',\n",
       " '//item.taobao.com/item.htm?id=639873954176&ns=1&abbucket=1#detail',\n",
       " '//item.taobao.com/item.htm?id=605439205653&ns=1&abbucket=1#detail',\n",
       " '//detail.tmall.com/item.htm?id=638645176854&ns=1&abbucket=1',\n",
       " '//detail.tmall.com/item.htm?id=620340144811&ns=1&abbucket=1',\n",
       " '//item.taobao.com/item.htm?id=610640241458&ns=1&abbucket=1#detail',\n",
       " 'https://click.simba.taobao.com/cc_im?p=%CA%CE%C6%B7DIY&s=806137333&k=557&e=W3s8KrR5ubRNMkhaAIWl963kj8Mkm%2F72TLKd5aY6fyZdZe430e%2BdFzSgoePxR2hAsqaYUMtVBStoXYPdmOlNgCZYUFqs5kmOlqQyq2pJlbWoWhal9rynatWpXmfcfQwXt2Mu4YJxtgwBnBi47dNwRtyu9KHJdYl0biCqzhTMmK8OZh3RopjIDJFpsnb9%2Bz%2BMytvoRbDIlwblekoED9Ynm1%2B4DRYQ0kDDsfb1nYfMFtZblmB4SC2FG%2BMGOVxTdUjp2pxBfu8HKOmFb%2B%2FQAwhZhM2%2FM66Y5Ze%2FzrVMxkoOuqmLVopC9rsPaPaHMScXwXlRzHTlnVKDqKZ9Ceuvn0Jj%2FNaGuj1cNYLKih09N62C%2BrXK0rCswbK5VVFBpq%2Fw6TMkA3Yvyju9wjICMOa%2BWXuk%2Bi7l%2FTnAAVQqsHyZuOv0eTXqHtxoTgTICVbf9%2BJXX0MHFFwAnJWXMKyLJ7Cb0z2NmTGmFNev9zTINU5L19ANTrtBbQUdznYvZtDMuS6SkTfY4oQWLiasKR7Ez0aoJ3nGy6qRrFH3vT7RGO2JDacs9UM%3D#detail',\n",
       " 'https://click.simba.taobao.com/cc_im?p=%CA%CE%C6%B7DIY&s=806137333&k=589&e=g8tpog7oaClNMkhaAIWl963kj8Mkm%2F72TLKd5aY6fyZdZe430e%2BdFzSgoePxR2hAsqaYUMtVBSucJnAWPeVZptr4LG884xS0lqQyq2pJlbWoWhal9rynatWpXmfcfQwXt2Mu4YJxtgwBnBi47dNwRtyu9KHJdYl0biCqzhTMmK8OZh3RopjIDJFpsnb9%2Bz%2BMytvoRbDIlwblekoED9Ynm9vz%2FRQj02lLeIV7gqYsSse0YUxU9D6t%2BcJsCIMMCK5iMaYU16%2F3NMgTOT%2BFiPS%2BL9pkL0HmoXPFyg%2FBziVq4M1qRTnX1F9HV0QbdZeupYpW7YJnMd%2BoyOYmZzPZ0XivmWOhJe3i2eq3XsOsZ5zh%2F5opnyID16vr6ptmUL1qEPNoA36COVTpX83G%2FClQLSwUnqJtNl5%2BBL98dEw2CqCA08MZ4TC01vXqII6cc37X63GSUc%2BMT3ttgMOlgUpzcaFA88RGxFRgOzRS1ZYA5HFsJxux9vWdh8wW1qDF5DVA0Z%2FwjhRcA4cxtDoj%2BzBs9lXQvQwBeeeSBWodFJ5753HC0P1MDU1KFX8h7UzwK4ztLqAjlpajdkUeq9c%3D#detail',\n",
       " 'https://click.simba.taobao.com/cc_im?p=%CA%CE%C6%B7DIY&s=806137333&k=589&e=PWaXPyPR0sFNMkhaAIWl963kj8Mkm%2F72TLKd5aY6fyZdZe430e%2BdFzSgoePxR2hA1mXBOFhfBZ3bZlcqbI33sXlLdval4yMTlqQyq2pJlbWoWhal9rynatWpXmfcfQwXt2Mu4YJxtgwBnBi47dNwRtyu9KHJdYl0biCqzhTMmK8OZh3RopjIDJFpsnb9%2Bz%2BMytvoRbDIlwblekoED9Ynm1%2B4DRYQ0kDDciz5evvDyy1FHGWFxiI%2FspHCH9GwfofAXh%2FETH5cXNkF1WrgDaVoItpkL0HmoXPFyg%2FBziVq4M1qRTnX1F9HV3PQlRyL5GLlRp%2BB0QXt632xmIt3WmtfTNOClOBmP%2Beo0BCYZfF3OeDbkRNdS%2BWruANHH2Tce1D74WzYSggBKPlKQcvN2QOXdhWjbCgIJ2yULZhp5jmHzWkKvZjDHm5yoCn3Yt3GymmRSNLF7wStowSq%2Ft4iK4%2FAoF4fxEx%2BXFzZm60swBopZTmMzbnaflWRVHRMXtxu5nFsuARXLIf8rXl60RgPFKx%2F8vSq385QFpEf54smFyGfziaVnG3FqkmKMFAlnBqfYIw9AiCBUGbbz1k%3D',\n",
       " '//item.taobao.com/item.htm?id=598760477238&ns=1&abbucket=1#detail',\n",
       " '//item.taobao.com/item.htm?id=545430574684&ns=1&abbucket=1#detail',\n",
       " '//item.taobao.com/item.htm?id=620703495394&ns=1&abbucket=1#detail',\n",
       " '//detail.tmall.com/item.htm?id=637609479615&ns=1&abbucket=1',\n",
       " '//item.taobao.com/item.htm?id=630629211873&ns=1&abbucket=1#detail',\n",
       " '//detail.tmall.com/item.htm?id=636356655894&ns=1&abbucket=1',\n",
       " '//item.taobao.com/item.htm?id=634752899480&ns=1&abbucket=1#detail',\n",
       " '//item.taobao.com/item.htm?id=621368901098&ns=1&abbucket=1#detail',\n",
       " '//item.taobao.com/item.htm?id=640305098892&ns=1&abbucket=1#detail',\n",
       " '//item.taobao.com/item.htm?id=634653458603&ns=1&abbucket=1#detail',\n",
       " '//item.taobao.com/item.htm?id=567600734368&ns=1&abbucket=1#detail',\n",
       " '//item.taobao.com/item.htm?id=536042890310&ns=1&abbucket=1#detail',\n",
       " '//item.taobao.com/item.htm?id=639429674973&ns=1&abbucket=1#detail',\n",
       " '//item.taobao.com/item.htm?id=36836883662&ns=1&abbucket=1#detail',\n",
       " '//item.taobao.com/item.htm?id=542165949613&ns=1&abbucket=1#detail',\n",
       " '//item.taobao.com/item.htm?id=625683373555&ns=1&abbucket=1#detail',\n",
       " '//item.taobao.com/item.htm?id=41866142962&ns=1&abbucket=1#detail',\n",
       " '//item.taobao.com/item.htm?id=520096022482&ns=1&abbucket=1#detail',\n",
       " '//detail.tmall.com/item.htm?id=557169068976&ns=1&abbucket=1',\n",
       " '//item.taobao.com/item.htm?id=573093293619&ns=1&abbucket=1#detail',\n",
       " '//item.taobao.com/item.htm?id=36567929013&ns=1&abbucket=1#detail',\n",
       " '//detail.tmall.com/item.htm?id=555370678549&ns=1&abbucket=1',\n",
       " '//item.taobao.com/item.htm?id=625488517981&ns=1&abbucket=1#detail',\n",
       " '//item.taobao.com/item.htm?id=630441794728&ns=1&abbucket=1#detail',\n",
       " '//detail.tmall.com/item.htm?id=39405060077&ns=1&abbucket=1',\n",
       " '//item.taobao.com/item.htm?id=611416932087&ns=1&abbucket=1#detail',\n",
       " '//detail.tmall.com/item.htm?id=539355109362&ns=1&abbucket=1',\n",
       " '//detail.tmall.com/item.htm?id=579877072220&ns=1&abbucket=1',\n",
       " '//item.taobao.com/item.htm?id=611096486876&ns=1&abbucket=1#detail',\n",
       " '//item.taobao.com/item.htm?id=615819513472&ns=1&abbucket=1#detail',\n",
       " '//item.taobao.com/item.htm?id=595299471243&ns=1&abbucket=1#detail',\n",
       " '//item.taobao.com/item.htm?id=618636056528&ns=1&abbucket=1#detail',\n",
       " '//item.taobao.com/item.htm?id=575432946947&ns=1&abbucket=1#detail',\n",
       " '//item.taobao.com/item.htm?id=613315218966&ns=1&abbucket=1#detail',\n",
       " '//item.taobao.com/item.htm?id=546790599774&ns=1&abbucket=1#detail',\n",
       " '//item.taobao.com/item.htm?id=619716022045&ns=1&abbucket=1#detail',\n",
       " '//item.taobao.com/item.htm?id=609586336936&ns=1&abbucket=1#detail',\n",
       " '//item.taobao.com/item.htm?id=41858043468&ns=1&abbucket=1#detail',\n",
       " '//item.taobao.com/item.htm?id=624325674879&ns=1&abbucket=1#detail',\n",
       " '//detail.tmall.com/item.htm?id=580414399648&ns=1&abbucket=1',\n",
       " '//detail.tmall.com/item.htm?id=617415720505&ns=1&abbucket=1',\n",
       " 'https://click.simba.taobao.com/cc_im?p=%CA%CE%C6%B7DIY&s=1691550243&k=589&e=%2BzlyQ6Bn0i3MTOrA%2FfCJR8z0cE7L06ZZDQkXFM8jn4cLlQWWYv%2FdBlhs6ay9jONrWuUXEuHfUncXdyHivKkTAfXN6%2FbxpIgAaOJUIQxWHfVeVsn03jO6%2FNHgdb2evhro%2FViSEwFAd0GrED2zEta5qvlVcX6zcimXoGkZnI3LQPUu3eV3XMyle1nbMtKZaorJPrZ85VuloFzGWpteP784LhG8awxehtBy%2FS8TvRkx%2FEFFFiZUtA0E4QEHEkiBkqEqJyfR7WjctIcH%2FG8GrXEPH3eSJyrlijCLvfJDBLgxiWupqBR3FwgCCpGKLhqSCCKW%2BaUBd1ID9rW5cEld2vnSQd4RTT0cTVaGzzGErzA6TsjHkafz51mUr9fuqs13PIDTSQ6qiPlP4GDOTZ%2FBVf81X5Ug9CfJ682eTngyI4cl3SrWmOnNDDVb7Umq%2FBH1oBy0l7ABgCwLO2%2B%2B5TgzlRnbs%2F0vE70ZMfxBMLQFZpDc8CKFjL6rd2q%2BCKb6s3np0NkQW7p0b%2BN%2FZhjMTXjhiETiz9yqfZEHOdpwlKeYLZndAr8viZwznIhDFjrMZnWRZKOU%2BMaEhPkaZiY%3D#detail',\n",
       " 'https://click.simba.taobao.com/cc_im?p=%CA%CE%C6%B7DIY&s=1691550243&k=557&e=MaaIXTgC14jMTOrA%2FfCJR8z0cE7L06ZZDQkXFM8jn4cLlQWWYv%2FdBlhs6ay9jONrr992HFP4im5Fheg1OphooyfNS4ikG22GaOJUIQxWHfVeVsn03jO6%2FNHgdb2evhro%2FViSEwFAd0GrED2zEta5qvlVcX6zcimXoGkZnI3LQPUu3eV3XMyle1nbMtKZaorJPrZ85VuloFzGWpteP784Lh3WvnySLvgjEUpJ9uzrJhtIkwqnqi3hiAEHEkiBkqEqJyfR7WjctIcH%2FG8GrXEPH3eSJyrlijCLZE913UGHXk92ll1pNH%2FGoDWwM7qiO90JXpj%2Bgcq6N4nTZFEoY%2FoAdkL6AC%2BgZYVa3veOvzjRX2rhtPEZY%2FsO2hvow%2FrUpf4nufQOrRtnfiLEYqD%2Fi3UjB8ueW3TcNE%2FDoOPkF6szY7d76ZmG9uY9ZRABoZd95zTw3D8F0thAyzDYG0jeowRm2hJxPs4faZ9GVQM6SVGcE9gj8da%2FTRWidtu5IGq16DtAVbQqZbpS8%2FyB11ywjzjDRUls7Ot4K7Uy0JxMNCVLVkU%3D#detail',\n",
       " 'https://click.simba.taobao.com/cc_im?p=%CA%CE%C6%B7DIY&s=1691550243&k=557&e=jELxfwDWe7HMTOrA%2FfCJR8z0cE7L06ZZDQkXFM8jn4cLlQWWYv%2FdBlhs6ay9jONrr992HFP4im7YAF%2Fpnxg2UDRWw1RVG8w0lKnOffJrmUReVsn03jO6%2FNHgdb2evhro%2FViSEwFAd0GrED2zEta5qvlVcX6zcimXoGkZnI3LQPUu3eV3XMyle1nbMtKZaorJPrZ85VuloFzGWpteP784LhG8awxehtByP4opXmi5Fz7DPq5vmd3rvQEHEkiBkqEqJyfR7WjctIcH%2FG8GrXEPH3eSJyrlijCLcrGA%2BE9VBm8dTKEBqYcaILHU5ZyrmZLiK8H47cGKzUBakHn8umwINo7s9YLJA4PYKwglsQ1lbjj7yceGMA9T9Bvow%2FrUpf4nleUrCcSS5ooHM4NVGZoQ25n4dq7b2EFZRG0yQ1sPayouV5xUucIXjmkviSu%2FMRpCa1OJSWGVueXcZqYusnpKc%2FPZOwfyvJUyAaMg1Wm5tYzW2kkMASC2bUUV1vRn9Ljw6U%2FLfoprPngcv7Ljrzw%2BVpHcLGJyFkbyyBWW3wc4VrU%3D',\n",
       " '//item.taobao.com/item.htm?id=640317536309&ns=1&abbucket=1#detail',\n",
       " '//item.taobao.com/item.htm?id=619541091692&ns=1&abbucket=1#detail',\n",
       " '//detail.tmall.com/item.htm?id=613494151173&ns=1&abbucket=1',\n",
       " '//item.taobao.com/item.htm?id=610711085221&ns=1&abbucket=1#detail',\n",
       " '//detail.tmall.com/item.htm?id=568701322385&ns=1&abbucket=1',\n",
       " '//item.taobao.com/item.htm?id=640915644257&ns=1&abbucket=1#detail',\n",
       " '//item.taobao.com/item.htm?id=568139787403&ns=1&abbucket=1#detail',\n",
       " '//detail.tmall.com/item.htm?id=639691929523&ns=1&abbucket=1',\n",
       " '//detail.tmall.com/item.htm?id=628560607971&ns=1&abbucket=1',\n",
       " '//item.taobao.com/item.htm?id=621862563139&ns=1&abbucket=1#detail',\n",
       " '//item.taobao.com/item.htm?id=619801355633&ns=1&abbucket=1#detail',\n",
       " '//item.taobao.com/item.htm?id=524630977737&ns=1&abbucket=1#detail',\n",
       " '//item.taobao.com/item.htm?id=610191024128&ns=1&abbucket=1#detail',\n",
       " '//item.taobao.com/item.htm?id=634913137089&ns=1&abbucket=1#detail',\n",
       " '//item.taobao.com/item.htm?id=607168151280&ns=1&abbucket=1#detail',\n",
       " '//item.taobao.com/item.htm?id=617680880245&ns=1&abbucket=1#detail',\n",
       " '//item.taobao.com/item.htm?id=599894058685&ns=1&abbucket=1#detail',\n",
       " '//item.taobao.com/item.htm?id=565047315057&ns=1&abbucket=1#detail',\n",
       " '//detail.tmall.com/item.htm?id=618641720476&ns=1&abbucket=1',\n",
       " '//detail.tmall.com/item.htm?id=622851176985&ns=1&abbucket=1',\n",
       " '//item.taobao.com/item.htm?id=621217626046&ns=1&abbucket=1#detail',\n",
       " '//detail.tmall.com/item.htm?id=613950533990&ns=1&abbucket=1',\n",
       " '//detail.tmall.com/item.htm?id=615015976586&ns=1&abbucket=1',\n",
       " '//item.taobao.com/item.htm?id=577354905918&ns=1&abbucket=1#detail',\n",
       " '//detail.tmall.com/item.htm?id=621522862621&ns=1&abbucket=1',\n",
       " '//item.taobao.com/item.htm?id=532952289601&ns=1&abbucket=1#detail',\n",
       " '//item.taobao.com/item.htm?id=563283225427&ns=1&abbucket=1#detail',\n",
       " '//item.taobao.com/item.htm?id=619347725705&ns=1&abbucket=1#detail',\n",
       " '//detail.tmall.com/item.htm?id=633974541500&ns=1&abbucket=1',\n",
       " '//item.taobao.com/item.htm?id=626823884391&ns=1&abbucket=1#detail',\n",
       " '//item.taobao.com/item.htm?id=594865121052&ns=1&abbucket=1#detail',\n",
       " '//item.taobao.com/item.htm?id=629150824736&ns=1&abbucket=1#detail',\n",
       " '//item.taobao.com/item.htm?id=618186626954&ns=1&abbucket=1#detail',\n",
       " '//detail.tmall.com/item.htm?id=601122949564&ns=1&abbucket=1',\n",
       " '//item.taobao.com/item.htm?id=614490969857&ns=1&abbucket=1#detail',\n",
       " '//item.taobao.com/item.htm?id=588107151348&ns=1&abbucket=1#detail',\n",
       " '//item.taobao.com/item.htm?id=576389669436&ns=1&abbucket=1#detail',\n",
       " '//item.taobao.com/item.htm?id=521918173301&ns=1&abbucket=1#detail',\n",
       " '//item.taobao.com/item.htm?id=40648876956&ns=1&abbucket=1#detail',\n",
       " '//item.taobao.com/item.htm?id=559326817713&ns=1&abbucket=1#detail',\n",
       " '//detail.tmall.com/item.htm?id=641160275394&ns=1&abbucket=1',\n",
       " 'https://click.simba.taobao.com/cc_im?p=%CA%CE%C6%B7DIY&s=681300547&k=525&e=GarR1egy9jANbckFSapO1%2FdQ%2BSUwiney7xwMJYmK01BP5mVa13ILWd9ksr3TsnqafaGRbHmlqZnzNaP9wAF0v05OrVgXmhd6TJZwF6vnT5Vy5WZtt4d6%2BwXpCmBcdktF3f5IT%2BRGULxani0KakWodZL6pfmCQgN%2FCQzLpnVEcBJCzDGde%2BjUT%2BhamKL2YHFmnIl6QaOPPNz2GsVw1bshTx4PQNVHqKbTMFI1Bzkccr7YxDfSBVIuiBDWwBYrrh652r6LqEdWVgBb9SqF0ZZR1U%2BTMnAfbV7BZQWRqscuWTUlIkOJIGu93eG%2B4g4GNTxPKjj4DwlVFAdRPY%2BkmxrDg%2BGQwL4aVHXqNQszKLqzAB7CyJgaQbgdx%2F9i1vY3TT1Sw1YuuKeW6yRyvmeM0CeOOfPx8GmpXu2v%2BR2hVR775EqXzPA2En2B1b0MLqN3OxlVawbHFXws7FX3bR0M8U%2BG0KRjepJl7OHe%2FATODdg5d4q1kV3LB6Cww5L3ea8Q4bKO7SGXq%2FENVqk%3D#detail',\n",
       " 'https://click.simba.taobao.com/cc_im?p=%CA%CE%C6%B7DIY&s=681300547&k=525&e=nJOthr3fowwNbckFSapO1%2FdQ%2BSUwiney7xwMJYmK01BP5mVa13ILWd9ksr3TsnqafaGRbHmlqZnzNaP9wAF0vxXp99aN6zgrTJZwF6vnT5Vy5WZtt4d6%2BwXpCmBcdktF3f5IT%2BRGULxani0KakWodZL6pfmCQgN%2FCQzLpnVEcBJCzDGde%2BjUT%2BhamKL2YHFmnIl6QaOPPNz2GsVw1bshTx4PQNVHqKbTMFI1Bzkccr7YxDfSBVIuiBDWwBYrrh652r6LqEdWVgBb9SqF0ZZR1eyAbmGOK72f%2BVpiCsCnoe0lIkOJIGu93UU15ShvPN94kLmGCVh3PX%2BpZUyR9eqXnkTFoFG5CGZv58xTaf0LRALCyJgaQbgdx%2F9i1vY3TT1Sw1YuuKeW6yRyvmeM0CeOOfPx8GmpXu2v4py1HwvuMHBd4kKTMWo9xr0MLqN3OxlVawbHFXws7FVguB%2BdYA1R0%2F%2BgVBHrszQV%2FATODdg5d4q1kV3LB6Cww5L3ea8Q4bKO7SGXq%2FENVqk%3D#detail',\n",
       " 'https://click.simba.taobao.com/cc_im?p=%CA%CE%C6%B7DIY&s=681300547&k=525&e=kvbG3uPHZ5YNbckFSapO1%2FdQ%2BSUwiney7xwMJYmK01BP5mVa13ILWd9ksr3Tsnqag6LIfTmn7iddqsbLDIrqqfp87trczh5MTJZwF6vnT5Vy5WZtt4d6%2BwXpCmBcdktF3f5IT%2BRGULxani0KakWodZL6pfmCQgN%2FCQzLpnVEcBJCzDGde%2BjUT%2BhamKL2YHFmnIl6QaOPPNz2GsVw1bshTx4PQNVHqKbTMFI1Bzkccr7YxDfSBVIuiBDWwBYrrh652r6LqEdWVgBb9SqF0ZZR1eDlh5BCgufdlpljZr4n4hiF8oPY5o0phaeHP50P4icVg2Hei69fGRnMZrUQWgZlTNCmdJ6cElEdQ1HoazoWpfAaKd2pMKBI01%2BCTtfcHmVtPJlBNVtLQzIjkYW2r4HvsUtu%2FHZ5udevYaiLY5JYn6TFIyvINw6R0s%2Fx%2B9JJSIeJomJ08vBePy3FPP4V6xkHEJoSnINLFHQ1kQCDh%2FwZ4DmFxZh%2FrnOuOODmLXD3xyr2zjXAgGX4750%3D#detail',\n",
       " '//detail.tmall.com/item.htm?id=641160275394&ns=1&abbucket=1',\n",
       " '//item.taobao.com/item.htm?id=596281009427&ns=1&abbucket=1#detail',\n",
       " '//item.taobao.com/item.htm?id=575726278674&ns=1&abbucket=1#detail',\n",
       " '//item.taobao.com/item.htm?id=629987172026&ns=1&abbucket=1#detail',\n",
       " '//item.taobao.com/item.htm?id=586133304516&ns=1&abbucket=1#detail',\n",
       " '//item.taobao.com/item.htm?id=614029044512&ns=1&abbucket=1#detail',\n",
       " '//item.taobao.com/item.htm?id=621387860146&ns=1&abbucket=1#detail',\n",
       " '//item.taobao.com/item.htm?id=566890028138&ns=1&abbucket=1#detail',\n",
       " '//item.taobao.com/item.htm?id=600249941145&ns=1&abbucket=1#detail',\n",
       " '//item.taobao.com/item.htm?id=547114588669&ns=1&abbucket=1#detail',\n",
       " '//item.taobao.com/item.htm?id=634168772724&ns=1&abbucket=1#detail',\n",
       " '//item.taobao.com/item.htm?id=618196453907&ns=1&abbucket=1#detail',\n",
       " '//item.taobao.com/item.htm?id=622437197017&ns=1&abbucket=1#detail',\n",
       " '//item.taobao.com/item.htm?id=555663024369&ns=1&abbucket=1#detail',\n",
       " '//item.taobao.com/item.htm?id=567167514926&ns=1&abbucket=1#detail',\n",
       " '//item.taobao.com/item.htm?id=636984371244&ns=1&abbucket=1#detail',\n",
       " '//item.taobao.com/item.htm?id=622277201397&ns=1&abbucket=1#detail',\n",
       " '//item.taobao.com/item.htm?id=619558371579&ns=1&abbucket=1#detail',\n",
       " '//item.taobao.com/item.htm?id=583060653780&ns=1&abbucket=1#detail',\n",
       " '//detail.tmall.com/item.htm?id=627722915397&ns=1&abbucket=1',\n",
       " '//detail.tmall.com/item.htm?id=595307140616&ns=1&abbucket=1',\n",
       " '//detail.tmall.com/item.htm?id=596961600524&ns=1&abbucket=1',\n",
       " '//detail.tmall.com/item.htm?id=594660979334&ns=1&abbucket=1',\n",
       " '//item.taobao.com/item.htm?id=625235223073&ns=1&abbucket=1#detail',\n",
       " '//detail.tmall.com/item.htm?id=626101862189&ns=1&abbucket=1',\n",
       " '//item.taobao.com/item.htm?id=627918610474&ns=1&abbucket=1#detail',\n",
       " '//item.taobao.com/item.htm?id=40163158830&ns=1&abbucket=1#detail',\n",
       " '//detail.tmall.com/item.htm?id=619477059262&ns=1&abbucket=1',\n",
       " '//detail.tmall.com/item.htm?id=630412339506&ns=1&abbucket=1',\n",
       " '//item.taobao.com/item.htm?id=610706340294&ns=1&abbucket=1#detail',\n",
       " '//item.taobao.com/item.htm?id=600660905161&ns=1&abbucket=1#detail',\n",
       " '//item.taobao.com/item.htm?id=575794644546&ns=1&abbucket=1#detail',\n",
       " '//item.taobao.com/item.htm?id=618300335888&ns=1&abbucket=1#detail',\n",
       " '//detail.tmall.com/item.htm?id=599338818134&ns=1&abbucket=1',\n",
       " '//item.taobao.com/item.htm?id=620487724562&ns=1&abbucket=1#detail',\n",
       " '//item.taobao.com/item.htm?id=625966738047&ns=1&abbucket=1#detail',\n",
       " '//item.taobao.com/item.htm?id=624876577120&ns=1&abbucket=1#detail',\n",
       " '//detail.tmall.com/item.htm?id=631241333492&ns=1&abbucket=1',\n",
       " '//item.taobao.com/item.htm?id=520291850927&ns=1&abbucket=1#detail',\n",
       " '//item.taobao.com/item.htm?id=612483277019&ns=1&abbucket=1#detail',\n",
       " '//item.taobao.com/item.htm?id=630413598390&ns=1&abbucket=1#detail']"
      ]
     },
     "execution_count": 192,
     "metadata": {},
     "output_type": "execute_result"
    }
   ],
   "source": [
    "prod_urls_array"
   ]
  },
  {
   "cell_type": "code",
   "execution_count": 193,
   "id": "through-request",
   "metadata": {},
   "outputs": [],
   "source": [
    "for url in prod_urls_array[:10]:\n",
    "    if \"https\" not in url:\n",
    "        dr.get(\"https:\"+url)\n",
    "    else:\n",
    "        dr.get(url)\n",
    "    break"
   ]
  },
  {
   "cell_type": "code",
   "execution_count": 191,
   "id": "applied-disclosure",
   "metadata": {},
   "outputs": [],
   "source": [
    "dr.refresh()"
   ]
  },
  {
   "cell_type": "code",
   "execution_count": null,
   "id": "advance-ethics",
   "metadata": {},
   "outputs": [],
   "source": [
    "soup1 = Bea"
   ]
  }
 ],
 "metadata": {
  "kernelspec": {
   "display_name": "Python 3",
   "language": "python",
   "name": "python3"
  },
  "language_info": {
   "codemirror_mode": {
    "name": "ipython",
    "version": 3
   },
   "file_extension": ".py",
   "mimetype": "text/x-python",
   "name": "python",
   "nbconvert_exporter": "python",
   "pygments_lexer": "ipython3",
   "version": "3.7.3"
  }
 },
 "nbformat": 4,
 "nbformat_minor": 5
}
