{
 "cells": [
  {
   "cell_type": "code",
   "execution_count": 20,
   "id": "actual-minister",
   "metadata": {},
   "outputs": [
    {
     "name": "stderr",
     "output_type": "stream",
     "text": [
      "C:\\ProgramData\\Anaconda3\\lib\\importlib\\_bootstrap.py:219: RuntimeWarning: greenlet.greenlet size changed, may indicate binary incompatibility. Expected 144 from C header, got 152 from PyObject\n",
      "  return f(*args, **kwds)\n",
      "C:\\ProgramData\\Anaconda3\\lib\\importlib\\_bootstrap.py:219: RuntimeWarning: greenlet.greenlet size changed, may indicate binary incompatibility. Expected 144 from C header, got 152 from PyObject\n",
      "  return f(*args, **kwds)\n",
      "C:\\ProgramData\\Anaconda3\\lib\\importlib\\_bootstrap.py:219: RuntimeWarning: greenlet.greenlet size changed, may indicate binary incompatibility. Expected 144 from C header, got 152 from PyObject\n",
      "  return f(*args, **kwds)\n",
      "C:\\ProgramData\\Anaconda3\\lib\\importlib\\_bootstrap.py:219: RuntimeWarning: greenlet.greenlet size changed, may indicate binary incompatibility. Expected 144 from C header, got 152 from PyObject\n",
      "  return f(*args, **kwds)\n"
     ]
    }
   ],
   "source": [
    "import requests\n",
    "import os\n",
    "import pandas as pd\n",
    "from bs4 import BeautifulSoup\n",
    "from mtranslate import translate\n",
    "import http.cookies\n",
    "import re\n",
    "import json\n",
    "from selenium import webdriver\n",
    "from selenium.webdriver.chrome.options import Options\n",
    "from selenium.webdriver.common.keys import Keys\n",
    "from fake_useragent import UserAgent\n",
    "from time import sleep"
   ]
  },
  {
   "cell_type": "code",
   "execution_count": 4,
   "id": "orange-visiting",
   "metadata": {},
   "outputs": [],
   "source": [
    "MAX_RETRIES = 10"
   ]
  },
  {
   "cell_type": "code",
   "execution_count": 5,
   "id": "progressive-blackjack",
   "metadata": {},
   "outputs": [],
   "source": [
    "cookies = pd.read_json('cookies.json')"
   ]
  },
  {
   "cell_type": "code",
   "execution_count": 4,
   "id": "incoming-briefs",
   "metadata": {},
   "outputs": [],
   "source": [
    "headers = {\n",
    "    'User-Agent': 'Mozilla/5.0 (Windows NT 10.0; Win64; x64) AppleWebKit/537.36 (KHTML, like Gecko) Chrome/89.0.4389.90 Safari/537.36 Edg/89.0.774.63',\n",
    "    'Connection':'close'\n",
    "          }"
   ]
  },
  {
   "cell_type": "code",
   "execution_count": 74,
   "id": "saving-capitol",
   "metadata": {},
   "outputs": [],
   "source": [
    "sess = requests.Session()\n",
    "adapter = requests.adapters.HTTPAdapter(max_retries=MAX_RETRIES)\n",
    "sess.mount('https://', adapter)\n",
    "sess.mount('http://', adapter)"
   ]
  },
  {
   "cell_type": "code",
   "execution_count": 5,
   "id": "revolutionary-kelly",
   "metadata": {},
   "outputs": [],
   "source": [
    "for index, cookie in cookies.iterrows():\n",
    "    sess.cookies.set(cookie['name'], cookie['value'])"
   ]
  },
  {
   "cell_type": "code",
   "execution_count": 7,
   "id": "tribal-stability",
   "metadata": {},
   "outputs": [],
   "source": [
    "site = sess.get('https://s.taobao.com/search?spm=a21wu.241046-global.6977698868.164.4103b6cbbgbVCY&q=%E9%A5%B0%E5%93%81DIY&acm=lb-zebra-241046-2075394.1003.4.1812236&scm=1003.4.lb-zebra-241046-2075394.OTHER_15206383875223_1812236&bcoffset=-3&ntoffset=-3&p4ppushleft=1%2C48&s=132',\n",
    "                   headers=headers,)"
   ]
  },
  {
   "cell_type": "code",
   "execution_count": 8,
   "id": "minute-functionality",
   "metadata": {},
   "outputs": [],
   "source": [
    "g_page_config = re.search(r\"g_page_config = (.*?);\\n\", site.text)\n",
    "page_config_json = json.loads(g_page_config.group(1))\n",
    "page_items = page_config_json['mods']['itemlist']['data']['auctions']"
   ]
  },
  {
   "cell_type": "code",
   "execution_count": 9,
   "id": "reduced-mixture",
   "metadata": {},
   "outputs": [],
   "source": [
    "soup = BeautifulSoup(site.content)"
   ]
  },
  {
   "cell_type": "code",
   "execution_count": 10,
   "id": "corresponding-triumph",
   "metadata": {},
   "outputs": [],
   "source": [
    "def get_items(res):\n",
    "    g_page_config = re.search(r\"g_page_config = (.*?);\\n\", res.text)\n",
    "    page_config_json = json.loads(g_page_config.group(1))\n",
    "    page_items = page_config_json['mods']['itemlist']['data']['auctions']\n",
    "    result = []\n",
    "    for each_item in page_items:\n",
    "        dict1 = dict.fromkeys(('nid','title','detail_url','view_price','view_sales','nick'))\n",
    "        dict1['nid'] = each_item['nid']\n",
    "        dict1['title'] = each_item['title']\n",
    "        dict1['detail_url'] = each_item['detail_url']\n",
    "        if \"https:\" not in dict1['detail_url']:\n",
    "            dict1['detail_url'] = \"https:\"+each_item['detail_url']\n",
    "        dict1['view_price'] = each_item['view_price']\n",
    "        dict1['view_sales'] = each_item['view_sales']\n",
    "        dict1['nick'] = each_item['nick']\n",
    "        result.append(dict1)\n",
    "#         return dict1\n",
    "    return result[:]"
   ]
  },
  {
   "cell_type": "code",
   "execution_count": 41,
   "id": "enhanced-spanking",
   "metadata": {},
   "outputs": [],
   "source": [
    "items_list = get_items(site)"
   ]
  },
  {
   "cell_type": "code",
   "execution_count": 83,
   "id": "twenty-trick",
   "metadata": {},
   "outputs": [],
   "source": [
    "images_urls_array = []\n",
    "description_html_array = []\n",
    "urls_saved_array = []"
   ]
  },
  {
   "cell_type": "code",
   "execution_count": 84,
   "id": "north-output",
   "metadata": {
    "collapsed": true
   },
   "outputs": [
    {
     "name": "stdout",
     "output_type": "stream",
     "text": [
      "https://click.simba.taobao.com/cc_im?p=%CA%CE%C6%B7DIY&s=1101015495&k=537&e=5Hq7V1uRzJLSlRVnwQVU8Cz0YZ6FNCjqm6q3lT4hIvmmqH8A4tuR%2BLT%2FetT5llAk0SHv59WZP6nEp395Hdm0ZRdQ%2BFEl49WVErHMwRu8YKtSbZ3m%2BJ48OV%2FrtkWESJ9gLAJDloaWnZIyTZW5kIBHCfR0f9hiGIlTcw87rVCwPFAxdvvBDnq7gO9M58ToULGmhRdqYvm68aBJfy%2B5fL480dc0LAdg83lIlBtFr5s4dZBGw0QJvzk37oAoeP%2B9qh1pAdTp6AFUG1Gne6iUO7iOXDmHz2Gu3aKZ8OWgp4yOPYikAZd75D%2FOocMM0zb3SnXgysrTguWsCc7lWI%2FjG92UTpB%2FpmRG%2FGfPAhw8ep%2F7p%2BtfWpLjLsixtlIst0MmeMQijSKkHapJZWyG4VwHHgfudBGHObX9Ss9mQuvhaIj9kbNoD0SrG7Uedx5JsxTA5Oc%2F0ngaWMUx271Te8uTO%2F9I09Yv2KKKxe8SB7YH7bv0uefmLxkd5Ltpp4I5aTDJdlqIybNMAlq47laiJ7KvMetfWg%3D%3D#detail\n",
      "https://click.simba.taobao.com/cc_im?p=%CA%CE%C6%B7DIY&s=1101015495&k=557&e=fQPTmhjdi67SlRVnwQVU8Cz0YZ6FNCjqm6q3lT4hIvmmqH8A4tuR%2BLT%2FetT5llAk0SHv59WZP6lkAmQ1idKrJHsRrQjpLi93Zxs8WUqdLz9SbZ3m%2BJ48OV%2FrtkWESJ9gLAJDloaWnZIyTZW5kIBHCfR0f9hiGIlTcw87rVCwPFAxdvvBDnq7gO9M58ToULGmhRdqYvm68aBJfy%2B5fL480SX7zuDg%2FgcM8q%2FSpA34YUWaLbp5oN1Zg44rZMkAoCjQdqYjhYfZuZWd8NUdrkN9UtmSgu8SqSlYzaiPO2sZeYnw8gFutc8bccrLJQw0sXnFo0usWxg%2FXer9%2BZS4%2BAiOa9W0PrqiH8LpOxsnxcPWvMXsIevgpR7rGvn96mhWVwkEhGFuI%2FdZL7NZqm6Wp4w6KK9n21%2F0%2FxWCOPb05vrBuR9qTJzTbfCQpWHQEw488OknFJuz3vN61PTj6BnianXuX142e%2BKCKbCptSPt2LAk%2F7WVuRDDJxiQ4NSdqmqWWL6Vjsf4NkgL6tSJcXsaxy1tY0xUCRdrrlr1NuDurO7CHmM%3D\n",
      "HTTPSConnectionPool(host='item.taobao.com', port=443): Max retries exceeded with url: /item.htm?id=625163262403&ali_refid=a3_430620_1006:1120988928:N:tBWqmx8brUulgqcyWmeruw%3D%3D:8a2f20cf86c155f5d854ca8111c97ee5&ali_trackid=1_8a2f20cf86c155f5d854ca8111c97ee5 (Caused by SSLError(SSLError(\"bad handshake: Error([('SSL routines', 'ssl3_read_bytes', 'tlsv1 alert internal error')])\")))\n",
      "HTTPSConnectionPool(host='item.taobao.com', port=443): Max retries exceeded with url: /item.htm?id=533262884992&ns=1&abbucket=5 (Caused by SSLError(SSLError(\"bad handshake: Error([('SSL routines', 'ssl3_read_bytes', 'tlsv1 alert internal error')])\")))\n",
      "HTTPSConnectionPool(host='item.taobao.com', port=443): Max retries exceeded with url: /item.htm?id=618373388316&ns=1&abbucket=5 (Caused by SSLError(SSLError(\"bad handshake: Error([('SSL routines', 'ssl3_read_bytes', 'tlsv1 alert internal error')])\")))\n",
      "HTTPSConnectionPool(host='item.taobao.com', port=443): Max retries exceeded with url: /item.htm?id=542165949613&ns=1&abbucket=5 (Caused by SSLError(SSLError(\"bad handshake: Error([('SSL routines', 'ssl3_read_bytes', 'tlsv1 alert internal error')])\")))\n",
      "HTTPSConnectionPool(host='detail.tmall.com', port=443): Max retries exceeded with url: /item.htm?id=617415720505&ns=1&abbucket=5 (Caused by SSLError(SSLError(\"bad handshake: Error([('SSL routines', 'ssl3_read_bytes', 'tlsv1 alert internal error')])\")))\n",
      "https://item.taobao.com/item.htm?id=40648876956&ns=1&abbucket=5#detail\n",
      "HTTPSConnectionPool(host='item.taobao.com', port=443): Max retries exceeded with url: /item.htm?id=563630123303&ns=1&abbucket=5 (Caused by SSLError(SSLError(\"bad handshake: Error([('SSL routines', 'ssl3_read_bytes', 'tlsv1 alert internal error')])\")))\n",
      "HTTPSConnectionPool(host='item.taobao.com', port=443): Max retries exceeded with url: /item.htm?id=588107151348&ns=1&abbucket=5 (Caused by SSLError(SSLError(\"bad handshake: Error([('SSL routines', 'ssl3_read_bytes', 'tlsv1 alert internal error')])\")))\n"
     ]
    }
   ],
   "source": [
    "for item in items_list[:10]:\n",
    "    try:\n",
    "        site1 = sess.get(item['detail_url'], allow_redirects=True)\n",
    "        try:\n",
    "            images_urls.append(eval(re.search(r\"auctionImages    : ([^\\}]*)\", site1.text).group(1).strip()))\n",
    "        except:\n",
    "            soup1 = BeautifulSoup(site1.content)\n",
    "            images_urls.append([x['src'].replace('jpg_60x60', 'jpg_500x500') for x in \n",
    "                                soup1.findAll('img', {'src':True,}) if \"jpg_60x60q90\" in x['src']])\n",
    "            description_html.append(soup1.find('div', {'class':'attributes-list'}))\n",
    "        print(item['detail_url'])\n",
    "        urls_saved_array.append(item['detail_url'])\n",
    "        sleep(2)\n",
    "    except Exception as ex:\n",
    "        print(ex)"
   ]
  },
  {
   "cell_type": "code",
   "execution_count": 85,
   "id": "plastic-solution",
   "metadata": {},
   "outputs": [
    {
     "data": {
      "text/plain": [
       "[['//gd3.alicdn.com/imgextra/i3/2437641482/O1CN01QqHOs21MondhIq7hU_!!2437641482.jpg',\n",
       "  '//gd2.alicdn.com/imgextra/i2/2437641482/O1CN01LZm1cO1MondSdSz9d_!!2437641482.jpg',\n",
       "  '//gd2.alicdn.com/imgextra/i2/2437641482/O1CN01h9aD161MondPKtCWk_!!2437641482.jpg',\n",
       "  '//gd1.alicdn.com/imgextra/i1/2437641482/O1CN01gCOaZI1MondRPed16_!!2437641482.jpg',\n",
       "  '//gd4.alicdn.com/imgextra/i4/2437641482/O1CN01wV2Nsi1MondMfN2aw_!!2437641482.jpg'],\n",
       " ['//img.alicdn.com/imgextra/i3/2208060893914/O1CN01C6qGVc1emeq41b2dG_!!0-item_pic.jpg_500x500q90.jpg',\n",
       "  '//img.alicdn.com/imgextra/i1/2208060893914/O1CN014kn2fh1emeq6Mfiah_!!2208060893914.jpg_500x500q90.jpg',\n",
       "  '//img.alicdn.com/imgextra/i3/2208060893914/O1CN01GUSlRb1emeq7G4JtW_!!2208060893914.jpg_500x500q90.jpg',\n",
       "  '//img.alicdn.com/imgextra/i3/2208060893914/O1CN01Je9iWF1emeq7usxA1_!!2208060893914.jpg_500x500q90.jpg',\n",
       "  '//img.alicdn.com/imgextra/i2/2208060893914/O1CN01npDqI81emeq3IHJpn_!!2208060893914.jpg_500x500q90.jpg'],\n",
       " ['//gd1.alicdn.com/imgextra/i2/92621300/O1CN014OGJd41LTRR0EIwCu_!!92621300.jpg',\n",
       "  '//gd3.alicdn.com/imgextra/i3/92621300/O1CN011LTRM2Mu8ETvV6C_!!92621300.jpg',\n",
       "  '//gd1.alicdn.com/imgextra/i1/92621300/TB2sR6LdgMPMeJjy1XcXXXpppXa_!!92621300.jpg',\n",
       "  '//gd4.alicdn.com/imgextra/i4/92621300/O1CN01OLi7bB1LTRRHUtnIM_!!92621300.jpg',\n",
       "  '//gd4.alicdn.com/imgextra/i4/92621300/O1CN01pwG2pa1LTRQyy96Kv_!!92621300.jpg']]"
      ]
     },
     "execution_count": 85,
     "metadata": {},
     "output_type": "execute_result"
    }
   ],
   "source": [
    "images_urls"
   ]
  },
  {
   "cell_type": "code",
   "execution_count": 79,
   "id": "confidential-definition",
   "metadata": {},
   "outputs": [
    {
     "ename": "NameError",
     "evalue": "name 'soup1' is not defined",
     "output_type": "error",
     "traceback": [
      "\u001b[1;31m---------------------------------------------------------------------------\u001b[0m",
      "\u001b[1;31mNameError\u001b[0m                                 Traceback (most recent call last)",
      "\u001b[1;32m<ipython-input-79-97833c5f653f>\u001b[0m in \u001b[0;36m<module>\u001b[1;34m\u001b[0m\n\u001b[1;32m----> 1\u001b[1;33m \u001b[0msoup1\u001b[0m\u001b[1;33m\u001b[0m\u001b[1;33m\u001b[0m\u001b[0m\n\u001b[0m",
      "\u001b[1;31mNameError\u001b[0m: name 'soup1' is not defined"
     ]
    }
   ],
   "source": [
    "soup1.find('div', {'class':'attributes-list'})"
   ]
  },
  {
   "cell_type": "code",
   "execution_count": 48,
   "id": "searching-equipment",
   "metadata": {},
   "outputs": [],
   "source": [
    "from selenium import webdriver\n",
    "from selenium.webdriver.common.keys import Keys\n",
    "from selenium.webdriver.common.by import By\n",
    "from selenium.webdriver.support.ui import WebDriverWait\n",
    "from selenium.webdriver.support import expected_conditions as EC\n",
    "from selenium.webdriver.chrome.options import Options\n",
    "from selenium.common.exceptions import TimeoutException\n",
    "import pandas as pd"
   ]
  },
  {
   "cell_type": "code",
   "execution_count": 49,
   "id": "found-choice",
   "metadata": {},
   "outputs": [],
   "source": [
    "options = Options()\n",
    "options.add_argument(\"--disable-blink-features\")\n",
    "options.add_argument(\"--disable-blink-features=AutomationControlled\")\n",
    "options.add_argument(\"start-maximized\")\n",
    "options.add_experimental_option(\"excludeSwitches\", [\"enable-automation\"])\n",
    "options.add_experimental_option('useAutomationExtension', False)\n",
    "dr = webdriver.Chrome(options=options)"
   ]
  },
  {
   "cell_type": "code",
   "execution_count": 50,
   "id": "duplicate-sequence",
   "metadata": {},
   "outputs": [],
   "source": [
    "cookies = pd.read_json('cookies.json')"
   ]
  },
  {
   "cell_type": "code",
   "execution_count": 51,
   "id": "rental-engineer",
   "metadata": {},
   "outputs": [],
   "source": [
    "dr.set_page_load_timeout(6)"
   ]
  },
  {
   "cell_type": "code",
   "execution_count": 52,
   "id": "brave-austin",
   "metadata": {},
   "outputs": [],
   "source": [
    "try:\n",
    "    dr.get('https://s.taobao.com/search?spm=a21wu.241046-global.6977698868.164.4103b6cbbgbVCY&q=%E9%A5%B0%E5%93%81DIY&acm=lb-zebra-241046-2075394.1003.4.1812236&scm=1003.4.lb-zebra-241046-2075394.OTHER_15206383875223_1812236&bcoffset=6&ntoffset=6&p4ppushleft=1%2C48&s=0')\n",
    "except TimeoutException:\n",
    "    pass"
   ]
  },
  {
   "cell_type": "code",
   "execution_count": 53,
   "id": "simple-blake",
   "metadata": {
    "scrolled": true
   },
   "outputs": [],
   "source": [
    "for index, cookie in cookies.drop(['httpOnly', 'sameSite', 'session', 'storeId', 'id', 'hostOnly', 'expirationDate'], axis=1).iterrows():\n",
    "    dr.add_cookie(dict(cookie))"
   ]
  },
  {
   "cell_type": "code",
   "execution_count": 54,
   "id": "increased-sight",
   "metadata": {},
   "outputs": [],
   "source": [
    "url = 'https://s.taobao.com/search?q=camping+tents&type=p&tmhkh5=&spm=a21wu.241046-global.a2227oh.d100&from=sea_1_searchbutton&catId=100'"
   ]
  },
  {
   "cell_type": "code",
   "execution_count": 55,
   "id": "duplicate-review",
   "metadata": {},
   "outputs": [],
   "source": [
    "try:\n",
    "    dr.get(url)\n",
    "except TimeoutException:\n",
    "    pass"
   ]
  },
  {
   "cell_type": "code",
   "execution_count": 21,
   "id": "bottom-estimate",
   "metadata": {},
   "outputs": [],
   "source": [
    "NUM_PAGES = 1"
   ]
  },
  {
   "cell_type": "code",
   "execution_count": 22,
   "id": "innocent-equity",
   "metadata": {},
   "outputs": [],
   "source": [
    "prod_urls_array = []\n",
    "vendors_array = []"
   ]
  },
  {
   "cell_type": "code",
   "execution_count": 23,
   "id": "familiar-sleeve",
   "metadata": {
    "collapsed": true
   },
   "outputs": [
    {
     "ename": "TimeoutException",
     "evalue": "Message: \n",
     "output_type": "error",
     "traceback": [
      "\u001b[1;31m---------------------------------------------------------------------------\u001b[0m",
      "\u001b[1;31mTimeoutException\u001b[0m                          Traceback (most recent call last)",
      "\u001b[1;32m<ipython-input-23-2cdeb154a692>\u001b[0m in \u001b[0;36m<module>\u001b[1;34m\u001b[0m\n\u001b[0;32m     14\u001b[0m     \u001b[0mdr\u001b[0m\u001b[1;33m.\u001b[0m\u001b[0mfind_element_by_xpath\u001b[0m\u001b[1;33m(\u001b[0m\u001b[1;34m'//li[@class=\"item next\"]'\u001b[0m\u001b[1;33m)\u001b[0m\u001b[1;33m.\u001b[0m\u001b[0mclick\u001b[0m\u001b[1;33m(\u001b[0m\u001b[1;33m)\u001b[0m\u001b[1;33m\u001b[0m\u001b[1;33m\u001b[0m\u001b[0m\n\u001b[0;32m     15\u001b[0m     WebDriverWait(dr, 10).until(\n\u001b[1;32m---> 16\u001b[1;33m             \u001b[0mEC\u001b[0m\u001b[1;33m.\u001b[0m\u001b[0mvisibility_of_element_located\u001b[0m\u001b[1;33m(\u001b[0m\u001b[1;33m(\u001b[0m\u001b[0mBy\u001b[0m\u001b[1;33m.\u001b[0m\u001b[0mXPATH\u001b[0m\u001b[1;33m,\u001b[0m \u001b[1;34mf'//span[@class=\"num\" and contains(text(),{i+2})]'\u001b[0m\u001b[1;33m)\u001b[0m\u001b[1;33m)\u001b[0m\u001b[1;33m\u001b[0m\u001b[1;33m\u001b[0m\u001b[0m\n\u001b[0m\u001b[0;32m     17\u001b[0m         )\n",
      "\u001b[1;32m~\\AppData\\Roaming\\Python\\Python37\\site-packages\\selenium\\webdriver\\support\\wait.py\u001b[0m in \u001b[0;36muntil\u001b[1;34m(self, method, message)\u001b[0m\n\u001b[0;32m     78\u001b[0m             \u001b[1;32mif\u001b[0m \u001b[0mtime\u001b[0m\u001b[1;33m.\u001b[0m\u001b[0mtime\u001b[0m\u001b[1;33m(\u001b[0m\u001b[1;33m)\u001b[0m \u001b[1;33m>\u001b[0m \u001b[0mend_time\u001b[0m\u001b[1;33m:\u001b[0m\u001b[1;33m\u001b[0m\u001b[1;33m\u001b[0m\u001b[0m\n\u001b[0;32m     79\u001b[0m                 \u001b[1;32mbreak\u001b[0m\u001b[1;33m\u001b[0m\u001b[1;33m\u001b[0m\u001b[0m\n\u001b[1;32m---> 80\u001b[1;33m         \u001b[1;32mraise\u001b[0m \u001b[0mTimeoutException\u001b[0m\u001b[1;33m(\u001b[0m\u001b[0mmessage\u001b[0m\u001b[1;33m,\u001b[0m \u001b[0mscreen\u001b[0m\u001b[1;33m,\u001b[0m \u001b[0mstacktrace\u001b[0m\u001b[1;33m)\u001b[0m\u001b[1;33m\u001b[0m\u001b[1;33m\u001b[0m\u001b[0m\n\u001b[0m\u001b[0;32m     81\u001b[0m \u001b[1;33m\u001b[0m\u001b[0m\n\u001b[0;32m     82\u001b[0m     \u001b[1;32mdef\u001b[0m \u001b[0muntil_not\u001b[0m\u001b[1;33m(\u001b[0m\u001b[0mself\u001b[0m\u001b[1;33m,\u001b[0m \u001b[0mmethod\u001b[0m\u001b[1;33m,\u001b[0m \u001b[0mmessage\u001b[0m\u001b[1;33m=\u001b[0m\u001b[1;34m''\u001b[0m\u001b[1;33m)\u001b[0m\u001b[1;33m:\u001b[0m\u001b[1;33m\u001b[0m\u001b[1;33m\u001b[0m\u001b[0m\n",
      "\u001b[1;31mTimeoutException\u001b[0m: Message: \n"
     ]
    }
   ],
   "source": [
    "for i in range(NUM_PAGES):\n",
    "    for _ in range(7):\n",
    "        dr.find_element_by_tag_name('body').send_keys(Keys.PAGE_DOWN)\n",
    "        sleep(0.5)\n",
    "    sleep(1)\n",
    "    \n",
    "    soup = BeautifulSoup(dr.page_source)\n",
    "    prods = soup.find('div', {'id':'mainsrp-itemlist'}).findAll('div', {\"data-category\": \"auctions\"})\n",
    "    prod_urls = [x.find('a')['href'] for x in prods]\n",
    "    vendors = [x.getText('', True) for x in soup.findAll('div', {'class': 'shop'})]\n",
    "    prod_urls_array += prod_urls\n",
    "    vendors_array += vendors\n",
    "    \n",
    "    dr.find_element_by_xpath('//li[@class=\"item next\"]').click() \n",
    "    WebDriverWait(dr, 10).until(\n",
    "            EC.visibility_of_element_located((By.XPATH, f'//span[@class=\"num\" and contains(text(),{i+2})]'))\n",
    "        )"
   ]
  },
  {
   "cell_type": "code",
   "execution_count": 24,
   "id": "under-image",
   "metadata": {
    "collapsed": true
   },
   "outputs": [
    {
     "data": {
      "text/plain": [
       "['//detail.tmall.com/item.htm?id=624562743543&ns=1&abbucket=5',\n",
       " '//detail.tmall.com/item.htm?id=631311919981&ad_id=&am_id=&cm_id=140105335569ed55e27b&pm_id=&abbucket=5#detail',\n",
       " '//item.taobao.com/item.htm?id=640412019850&ns=1&abbucket=5#detail',\n",
       " '//item.taobao.com/item.htm?id=580936432791&ns=1&abbucket=5#detail',\n",
       " '//item.taobao.com/item.htm?id=602973489445&ns=1&abbucket=5#detail',\n",
       " '//detail.tmall.com/item.htm?id=625921629387&ns=1&abbucket=5',\n",
       " '//detail.tmall.com/item.htm?id=627723853189&ns=1&abbucket=5',\n",
       " '//item.taobao.com/item.htm?id=617166672952&ns=1&abbucket=5#detail',\n",
       " '//item.taobao.com/item.htm?id=621350805404&ns=1&abbucket=5#detail',\n",
       " '//item.taobao.com/item.htm?id=618887381906&ns=1&abbucket=5#detail',\n",
       " '//item.taobao.com/item.htm?id=635793119876&ns=1&abbucket=5#detail',\n",
       " '//detail.tmall.com/item.htm?id=570543981383&ns=1&abbucket=5',\n",
       " '//item.taobao.com/item.htm?id=640291374703&ns=1&abbucket=5#detail',\n",
       " '//item.taobao.com/item.htm?id=37512154831&ns=1&abbucket=5#detail',\n",
       " '//item.taobao.com/item.htm?id=625746568785&ns=1&abbucket=5#detail',\n",
       " '//item.taobao.com/item.htm?id=627043518497&ns=1&abbucket=5#detail',\n",
       " '//item.taobao.com/item.htm?id=629888908715&ns=1&abbucket=5#detail',\n",
       " '//item.taobao.com/item.htm?id=637727921297&ns=1&abbucket=5#detail',\n",
       " '//detail.tmall.com/item.htm?id=638333372105&ns=1&abbucket=5',\n",
       " '//item.taobao.com/item.htm?id=599611423839&ns=1&abbucket=5#detail',\n",
       " '//detail.tmall.com/item.htm?id=629646523538&ns=1&abbucket=5',\n",
       " '//item.taobao.com/item.htm?id=618387033397&ns=1&abbucket=5#detail',\n",
       " '//item.taobao.com/item.htm?id=621294503894&ns=1&abbucket=5#detail',\n",
       " '//item.taobao.com/item.htm?id=615698174004&ns=1&abbucket=5#detail',\n",
       " '//item.taobao.com/item.htm?id=626644747343&ns=1&abbucket=5#detail',\n",
       " '//detail.tmall.com/item.htm?id=570646258557&ns=1&abbucket=5',\n",
       " '//detail.tmall.com/item.htm?id=641965734902&ns=1&abbucket=5',\n",
       " '//detail.tmall.com/item.htm?id=628005484524&ns=1&abbucket=5',\n",
       " '//detail.tmall.com/item.htm?id=631253813247&ns=1&abbucket=5',\n",
       " '//item.taobao.com/item.htm?id=587900447903&ns=1&abbucket=5#detail',\n",
       " '//item.taobao.com/item.htm?id=641170943493&ns=1&abbucket=5#detail',\n",
       " '//item.taobao.com/item.htm?id=615990911399&ns=1&abbucket=5#detail',\n",
       " '//detail.tmall.com/item.htm?id=642099093554&ns=1&abbucket=5',\n",
       " '//item.taobao.com/item.htm?id=618088720252&ns=1&abbucket=5#detail',\n",
       " '//item.taobao.com/item.htm?id=605403680977&ns=1&abbucket=5#detail',\n",
       " '//item.taobao.com/item.htm?id=527648490592&ns=1&abbucket=5#detail',\n",
       " '//item.taobao.com/item.htm?id=626061665465&ns=1&abbucket=5#detail',\n",
       " '//detail.tmall.com/item.htm?id=633121468283&ns=1&abbucket=5',\n",
       " '//detail.tmall.com/item.htm?id=638872750380&ns=1&abbucket=5',\n",
       " '//detail.tmall.com/item.htm?id=642418310155&ns=1&abbucket=5',\n",
       " '//detail.tmall.com/item.htm?id=642076205749&ns=1&abbucket=5',\n",
       " '//item.taobao.com/item.htm?id=610441908760&ns=1&abbucket=5#detail',\n",
       " '//item.taobao.com/item.htm?id=637862984365&ns=1&abbucket=5#detail',\n",
       " '//detail.tmall.com/item.htm?id=639040816018&ns=1&abbucket=5',\n",
       " '//detail.tmall.com/item.htm?id=631585414686&ns=1&abbucket=5',\n",
       " '//item.taobao.com/item.htm?id=640357796510&ns=1&abbucket=5#detail',\n",
       " '//item.taobao.com/item.htm?id=600831993556&ns=1&abbucket=5#detail',\n",
       " '//detail.tmall.com/item.htm?id=632588074359&ns=1&abbucket=5']"
      ]
     },
     "execution_count": 24,
     "metadata": {},
     "output_type": "execute_result"
    }
   ],
   "source": [
    "prod_urls_array"
   ]
  },
  {
   "cell_type": "code",
   "execution_count": 16,
   "id": "dominant-stack",
   "metadata": {
    "collapsed": true
   },
   "outputs": [
    {
     "data": {
      "text/plain": [
       "['极冰户外专营店',\n",
       " 'naturehike途鸿专卖店',\n",
       " 'fantasygarden旗舰店',\n",
       " '莱伊晶旗舰店',\n",
       " '玲娇旗舰店',\n",
       " '小风筝呀0316',\n",
       " 'mseav',\n",
       " 'mseav',\n",
       " 'hk蒸气士多',\n",
       " 'pengmin885',\n",
       " 'freelife1988',\n",
       " 'tb26304195',\n",
       " 'freelife1988',\n",
       " '淘沙疯丫头',\n",
       " '阿节节高',\n",
       " '淘沙疯丫头',\n",
       " 'ellen1816',\n",
       " '黄亭予2',\n",
       " '八冠军',\n",
       " '爱在飞翔7391',\n",
       " 'wangdongxia042',\n",
       " '八冠军',\n",
       " 'g253034460',\n",
       " 'g253034460',\n",
       " '阿节节高',\n",
       " 'wangdongxia042',\n",
       " '乐尚企业商场',\n",
       " '黄亭予2',\n",
       " '杨馒头258',\n",
       " 'pengmin885',\n",
       " 'sophieliu886',\n",
       " '花开雨落百货',\n",
       " 'szxuanyuan1986',\n",
       " 'w306807534',\n",
       " 'w306807534',\n",
       " '厨房燃气热水器配件商城',\n",
       " 'sophieliu886',\n",
       " 'szxuanyuan1986',\n",
       " '微笑生活吧',\n",
       " 'suishuai1993',\n",
       " 'ellen1816',\n",
       " '刚哥威武霸气233',\n",
       " 'kunchong630',\n",
       " '气克斗牛杂货铺',\n",
       " '八龙门',\n",
       " '聚优品365',\n",
       " 'wuyangboya',\n",
       " '气克斗牛杂货铺']"
      ]
     },
     "execution_count": 16,
     "metadata": {},
     "output_type": "execute_result"
    }
   ],
   "source": [
    "vendors_array"
   ]
  },
  {
   "cell_type": "code",
   "execution_count": null,
   "id": "pharmaceutical-ballot",
   "metadata": {},
   "outputs": [],
   "source": []
  },
  {
   "cell_type": "code",
   "execution_count": 56,
   "id": "cooperative-irrigation",
   "metadata": {},
   "outputs": [
    {
     "name": "stdout",
     "output_type": "stream",
     "text": [
      "skipped\n",
      "Message: \n",
      "\n",
      "scraped\n",
      "\n",
      "scraped\n",
      "\n",
      "scraped\n",
      "\n"
     ]
    }
   ],
   "source": [
    "for vend_num, url in enumerate(prod_urls_array[0:4]):\n",
    "    if \"https\" not in url:\n",
    "        url = \"https:\" + url\n",
    "    try:\n",
    "        dr.get(url)\n",
    "#         sleep(5)\n",
    "        \n",
    "#         try:\n",
    "#             popup_dialogue = WebDriverWait(dr, 5).until(\n",
    "#                 EC.presence_of_element_located((By.CLASS_NAME, \"baxia-dialog-close\"))\n",
    "#             )\n",
    "#             popup_dialogue.click()\n",
    "#             popup_dialogue = WebDriverWait(dr, 5).until(\n",
    "#                 EC.presence_of_element_located((By.CLASS_NAME, \"baxia-dialog-close\"))\n",
    "#             )\n",
    "#             popup_dialogue.click()\n",
    "#             print('reached1')\n",
    "#         except:\n",
    "#             print('s')\n",
    "    except TimeoutException:\n",
    "        sleep(5)\n",
    "    try:\n",
    "#         print('reached2')\n",
    "        WebDriverWait(dr, 15).until(\n",
    "            EC.presence_of_element_located((By.ID, \"J_UlThumb\"))\n",
    "        )\n",
    "        WebDriverWait(dr, 15).until(\n",
    "            EC.presence_of_element_located((By.ID, \"attributes\"))\n",
    "        )\n",
    "#         print('reached3')\n",
    "        WebDriverWait(dr, 15).until(\n",
    "            EC.presence_of_element_located((By.CLASS_NAME, \"tb-detail-hd\"))\n",
    "        )\n",
    "        WebDriverWait(dr, 15).until(\n",
    "            EC.presence_of_element_located((By.CLASS_NAME, \"tm-price\"))\n",
    "        )\n",
    "#         print('reache4')\n",
    "    except:\n",
    "        sleep(2)\n",
    "        try:\n",
    "            WebDriverWait(dr, 15).until(\n",
    "                EC.presence_of_element_located((By.CLASS_NAME, \"tb-main-title\"))\n",
    "            )\n",
    "            WebDriverWait(dr, 15).until(\n",
    "            EC.presence_of_element_located((By.CLASS_NAME, \"tb-rmb-num\"))\n",
    "            )\n",
    "        except Exception as ex:\n",
    "            print('skipped')\n",
    "            print(ex)\n",
    "            continue\n",
    "            \n",
    "        \n",
    "    scrapify(dr.page_source, dr.current_url, vend_num)\n",
    "    print('scraped\\n')\n",
    "        \n",
    "#     break"
   ]
  },
  {
   "cell_type": "markdown",
   "id": "administrative-irrigation",
   "metadata": {},
   "source": [
    "# detail.tmall"
   ]
  },
  {
   "cell_type": "code",
   "execution_count": 45,
   "id": "living-captain",
   "metadata": {},
   "outputs": [],
   "source": [
    "name_array, original_price_array, discount_price_array = [], [], []\n",
    "img_urls_array, description_html_array, description_text_array = [], [], []\n",
    "vendors_final_array, prod_urls_final_array = [], []\n",
    "img_urls1, img_urls2, img_urls3, img_urls4, img_urls5, img_urls6, img_urls7, img_urls8, img_urls9, img_urls10, =  [], [], [], [], [], [], [], [], [], []"
   ]
  },
  {
   "cell_type": "code",
   "execution_count": 46,
   "id": "vulnerable-dialogue",
   "metadata": {},
   "outputs": [],
   "source": [
    "def scrapify(site, url, vend_num):\n",
    "    soup1 = BeautifulSoup(site)\n",
    "    if 'detail.tmall.com' in url:\n",
    "        name = soup1.find('div', {'class':'tb-detail-hd'}).getText('\\n', True)\n",
    "        original_price = soup1.find('span', {'class':'tm-price'}).getText('', True)\n",
    "        try:\n",
    "            discount_price = soup1.findAll('span', {'class':'tm-price'})[1].getText('', True)\n",
    "        except:\n",
    "            discount_price = ''\n",
    "        img_urls = [x['src'].replace('400x400', '800x800').replace('50x50', '800x800').replace('60x60', '800x800')\n",
    "                    for x in soup1.find('ul', {'id': 'J_UlThumb'}).findAll('img', {'src': True})]\n",
    "        description_html = soup1.find('div', {'id': 'attributes'})\n",
    "        description_text = soup1.find('div', {'id': 'attributes'}).getText('\\n', True)\n",
    "        vendor = vendors_array[vend_num]\n",
    "    \n",
    "    \n",
    "    elif 'item.taobao.com' in url:\n",
    "        name = soup1.find('h3', {'class': 'tb-main-title'}).getText('', True)\n",
    "        try:\n",
    "            discount_price = soup1.find('em', {'class': \"tb-rmb-num\", 'id':True}).getText('', True)\n",
    "        except:\n",
    "            discount_price = ''\n",
    "        original_price = soup1.find('em', {'class': \"tb-rmb-num\", 'id':False}).getText('', True)\n",
    "            \n",
    "        img_urls = [x['src'].replace('400x400', '800x800').replace('50x50', '800x800').replace('60x60', '800x800')\n",
    "                    for x in soup1.find('ul', {'id': 'J_UlThumb'}).findAll('img', {'src': True})]\n",
    "     \n",
    "        description_html = soup1.find('div', {'id': 'attributes'})\n",
    "        description_text = soup1.find('div', {'id': 'attributes'}).getText('\\n', True)\n",
    "        vendor = vendors_array[vend_num]\n",
    "        \n",
    "    else:\n",
    "        print('weird url => ', url)\n",
    "        return\n",
    "    \n",
    "    try:\n",
    "        img_urls1.append(img_urls[0])\n",
    "    except:\n",
    "        img_urls1.append('')\n",
    "    try:\n",
    "        img_urls2.append(img_urls[1])\n",
    "    except:\n",
    "        img_urls2.append('')\n",
    "    try:\n",
    "        img_urls3.append(img_urls[2])\n",
    "    except:\n",
    "        img_urls3.append('')\n",
    "    try:\n",
    "        img_urls4.append(img_urls[3])\n",
    "    except:\n",
    "        img_urls4.append('')\n",
    "    try:\n",
    "        img_urls5.append(img_urls[4])\n",
    "    except:\n",
    "        img_urls5.append('')\n",
    "    try:\n",
    "        img_urls6.append(img_urls[5])\n",
    "    except:\n",
    "        img_urls6.append('')\n",
    "    try:\n",
    "        img_urls7.append(img_urls[6])\n",
    "    except:\n",
    "        img_urls7.append('')\n",
    "    try:\n",
    "        img_urls8.append(img_urls[7])\n",
    "    except:\n",
    "        img_urls8.append('')\n",
    "    try:\n",
    "        img_urls9.append(img_urls[8])\n",
    "    except:\n",
    "        img_urls9.append('')\n",
    "    try:\n",
    "        img_urls10.append(img_urls[9])\n",
    "    except:\n",
    "        img_urls10.append('')\n",
    "\n",
    "    \n",
    "    name_array.append(name)\n",
    "    vendors_final_array.append(vendor)\n",
    "    original_price_array.append(original_price)\n",
    "    discount_price_array.append(discount_price) \n",
    "    img_urls_array.append(img_urls)\n",
    "    description_html_array.append(description_html)\n",
    "    description_text_array.append(description_text)\n",
    "    prod_urls_final_array.append(url)"
   ]
  },
  {
   "cell_type": "markdown",
   "id": "parliamentary-michigan",
   "metadata": {},
   "source": [
    "# item.taobao"
   ]
  },
  {
   "cell_type": "code",
   "execution_count": 51,
   "id": "removable-relay",
   "metadata": {},
   "outputs": [],
   "source": [
    "name = soup1.find('h3', {'class': 'tb-main-title'}).getText('', True)\n",
    "discount_price = soup1.find('em', {'class': \"tb-rmb-num\", 'id':True}).getText('', True)\n",
    "original_price = soup1.find('em', {'class': \"tb-rmb-num\", 'id':False}).getText('', True)\n",
    "img_urls = [x['src'].replace('400x400', '800x800') for x in soup1.find('ul', {'id': 'J_UlThumb'}).findAll('img', {'src': True})]\n",
    "description_html = soup1.find('div', {'id': 'attributes'})\n",
    "description_text = soup1.find('div', {'id': 'attributes'}).getText('\\n', True)"
   ]
  },
  {
   "cell_type": "code",
   "execution_count": 65,
   "id": "honey-nomination",
   "metadata": {},
   "outputs": [
    {
     "data": {
      "text/plain": [
       "['//img.alicdn.com/imgextra/i3/2209250352999/O1CN01LbMcfr1Y1aR0nuSzm_!!2209250352999.jpg_60x60q90.jpg',\n",
       " '//gd4.alicdn.com/imgextra/i4/676872413/O1CN01LhnkY11ThCJymdZhO_!!676872413-0-lubanu-s.jpg_800x800.jpg_.webp',\n",
       " '//gd1.alicdn.com/imgextra/i1/2173838406/O1CN01l95Z7Z2BxzxNHQfyW_!!2173838406.jpg_800x800.jpg_.webp']"
      ]
     },
     "execution_count": 65,
     "metadata": {},
     "output_type": "execute_result"
    }
   ],
   "source": [
    "img_urls4"
   ]
  },
  {
   "cell_type": "code",
   "execution_count": 57,
   "id": "every-material",
   "metadata": {
    "scrolled": true
   },
   "outputs": [],
   "source": [
    "df = pd.DataFrame({\n",
    "    'Title': name_array,\n",
    "    'Vendor': vendors_final_array,\n",
    "    'OriginalPrice': original_price_array,\n",
    "    'DiscountPrice': discount_price_array,\n",
    "    'DescriptionText': description_text_array,\n",
    "    'DescriptionHTML': description_html_array,\n",
    "    'ProdLink': prod_urls_final_array,\n",
    "    'ImgURL1': img_urls1,\n",
    "    'ImgURL2': img_urls2,\n",
    "    'ImgURL3': img_urls3,\n",
    "    'ImgURL4': img_urls4,\n",
    "    'ImgURL5': img_urls5,\n",
    "    'ImgURL6': img_urls6,\n",
    "    'ImgURL7': img_urls7,\n",
    "    'ImgURL8': img_urls8,\n",
    "    'ImgURL9': img_urls9,\n",
    "    'ImgURL10': img_urls10,    \n",
    "#     'ImgURLs': img_urls_array,\n",
    "})"
   ]
  },
  {
   "cell_type": "code",
   "execution_count": 58,
   "id": "iraqi-henry",
   "metadata": {},
   "outputs": [
    {
     "data": {
      "text/html": [
       "<div>\n",
       "<style scoped>\n",
       "    .dataframe tbody tr th:only-of-type {\n",
       "        vertical-align: middle;\n",
       "    }\n",
       "\n",
       "    .dataframe tbody tr th {\n",
       "        vertical-align: top;\n",
       "    }\n",
       "\n",
       "    .dataframe thead th {\n",
       "        text-align: right;\n",
       "    }\n",
       "</style>\n",
       "<table border=\"1\" class=\"dataframe\">\n",
       "  <thead>\n",
       "    <tr style=\"text-align: right;\">\n",
       "      <th></th>\n",
       "      <th>Title</th>\n",
       "      <th>Vendor</th>\n",
       "      <th>OriginalPrice</th>\n",
       "      <th>DiscountPrice</th>\n",
       "      <th>DescriptionText</th>\n",
       "      <th>DescriptionHTML</th>\n",
       "      <th>ProdLink</th>\n",
       "      <th>ImgURL1</th>\n",
       "      <th>ImgURL2</th>\n",
       "      <th>ImgURL3</th>\n",
       "      <th>ImgURL4</th>\n",
       "      <th>ImgURL5</th>\n",
       "      <th>ImgURL6</th>\n",
       "      <th>ImgURL7</th>\n",
       "      <th>ImgURL8</th>\n",
       "      <th>ImgURL9</th>\n",
       "      <th>ImgURL10</th>\n",
       "    </tr>\n",
       "  </thead>\n",
       "  <tbody>\n",
       "    <tr>\n",
       "      <th>0</th>\n",
       "      <td>Mini Folding Table Outdoor Barbecue Camping Te...</td>\n",
       "      <td>玲娇旗舰店</td>\n",
       "      <td>97.00</td>\n",
       "      <td></td>\n",
       "      <td>品牌名称：\\n玲娇\\n产品参数：\\n品牌: 玲娇\\n材质: 其他\\n颜色分类: Silver...</td>\n",
       "      <td>&lt;div class=\"attributes\" id=\"attributes\"&gt;\n",
       "&lt;div ...</td>\n",
       "      <td>https://detail.tmall.com/item.htm?id=631311919...</td>\n",
       "      <td>//img.alicdn.com/imgextra/i3/2209250352999/O1C...</td>\n",
       "      <td>//img.alicdn.com/imgextra/i2/2209250352999/O1C...</td>\n",
       "      <td>//img.alicdn.com/imgextra/i2/2209250352999/O1C...</td>\n",
       "      <td>//img.alicdn.com/imgextra/i3/2209250352999/O1C...</td>\n",
       "      <td>//img.alicdn.com/imgextra/i3/2209250352999/O1C...</td>\n",
       "      <td></td>\n",
       "      <td></td>\n",
       "      <td></td>\n",
       "      <td></td>\n",
       "      <td></td>\n",
       "    </tr>\n",
       "    <tr>\n",
       "      <th>1</th>\n",
       "      <td>camel骆驼户外免安装帐篷3-4人自动速开防水露营帐蓬camping tent</td>\n",
       "      <td>mseav</td>\n",
       "      <td>459.00</td>\n",
       "      <td></td>\n",
       "      <td>品牌: Camel/骆驼\\n产地: 中国\\n价格区间: 201-500元\\n帐篷大小: 3人...</td>\n",
       "      <td>&lt;div class=\"attributes\" id=\"attributes\"&gt;\n",
       "&lt;!-- ...</td>\n",
       "      <td>https://item.taobao.com/item.htm?id=6404120198...</td>\n",
       "      <td>//gd2.alicdn.com/imgextra/i2/676872413/O1CN01Z...</td>\n",
       "      <td>//gd4.alicdn.com/imgextra/i4/676872413/O1CN015...</td>\n",
       "      <td>//gd1.alicdn.com/imgextra/i1/676872413/O1CN01r...</td>\n",
       "      <td>//gd4.alicdn.com/imgextra/i4/676872413/O1CN01L...</td>\n",
       "      <td>//gd4.alicdn.com/imgextra/i4/676872413/O1CN01t...</td>\n",
       "      <td></td>\n",
       "      <td></td>\n",
       "      <td></td>\n",
       "      <td></td>\n",
       "      <td></td>\n",
       "    </tr>\n",
       "    <tr>\n",
       "      <th>2</th>\n",
       "      <td>NH挪客云尚升级款超轻单双人2人户外帐篷3-4人帐篷Camping Tent</td>\n",
       "      <td>淘沙疯丫头</td>\n",
       "      <td>798.00-1876.00</td>\n",
       "      <td>399.00-938.00</td>\n",
       "      <td>品牌: Naturehike\\n产地: 中国\\n价格区间: 501-1000元\\n帐篷大小:...</td>\n",
       "      <td>&lt;div class=\"attributes\" id=\"attributes\"&gt;\n",
       "&lt;!-- ...</td>\n",
       "      <td>https://item.taobao.com/item.htm?id=5809364327...</td>\n",
       "      <td>//img.alicdn.com/sns_album/TB1K.BJnxnaK1RjSZFB...</td>\n",
       "      <td>//gd1.alicdn.com/imgextra/i2/893336533/O1CN01h...</td>\n",
       "      <td>//gd3.alicdn.com/imgextra/i3/2173838406/O1CN01...</td>\n",
       "      <td>//gd1.alicdn.com/imgextra/i1/2173838406/O1CN01...</td>\n",
       "      <td>//gd3.alicdn.com/imgextra/i3/2173838406/O1CN01...</td>\n",
       "      <td>//gd3.alicdn.com/imgextra/i3/893336533/TB26EBS...</td>\n",
       "      <td></td>\n",
       "      <td></td>\n",
       "      <td></td>\n",
       "      <td></td>\n",
       "    </tr>\n",
       "  </tbody>\n",
       "</table>\n",
       "</div>"
      ],
      "text/plain": [
       "                                               Title Vendor   OriginalPrice  \\\n",
       "0  Mini Folding Table Outdoor Barbecue Camping Te...  玲娇旗舰店           97.00   \n",
       "1           camel骆驼户外免安装帐篷3-4人自动速开防水露营帐蓬camping tent  mseav          459.00   \n",
       "2             NH挪客云尚升级款超轻单双人2人户外帐篷3-4人帐篷Camping Tent  淘沙疯丫头  798.00-1876.00   \n",
       "\n",
       "   DiscountPrice                                    DescriptionText  \\\n",
       "0                 品牌名称：\\n玲娇\\n产品参数：\\n品牌: 玲娇\\n材质: 其他\\n颜色分类: Silver...   \n",
       "1                 品牌: Camel/骆驼\\n产地: 中国\\n价格区间: 201-500元\\n帐篷大小: 3人...   \n",
       "2  399.00-938.00  品牌: Naturehike\\n产地: 中国\\n价格区间: 501-1000元\\n帐篷大小:...   \n",
       "\n",
       "                                     DescriptionHTML  \\\n",
       "0  <div class=\"attributes\" id=\"attributes\">\n",
       "<div ...   \n",
       "1  <div class=\"attributes\" id=\"attributes\">\n",
       "<!-- ...   \n",
       "2  <div class=\"attributes\" id=\"attributes\">\n",
       "<!-- ...   \n",
       "\n",
       "                                            ProdLink  \\\n",
       "0  https://detail.tmall.com/item.htm?id=631311919...   \n",
       "1  https://item.taobao.com/item.htm?id=6404120198...   \n",
       "2  https://item.taobao.com/item.htm?id=5809364327...   \n",
       "\n",
       "                                             ImgURL1  \\\n",
       "0  //img.alicdn.com/imgextra/i3/2209250352999/O1C...   \n",
       "1  //gd2.alicdn.com/imgextra/i2/676872413/O1CN01Z...   \n",
       "2  //img.alicdn.com/sns_album/TB1K.BJnxnaK1RjSZFB...   \n",
       "\n",
       "                                             ImgURL2  \\\n",
       "0  //img.alicdn.com/imgextra/i2/2209250352999/O1C...   \n",
       "1  //gd4.alicdn.com/imgextra/i4/676872413/O1CN015...   \n",
       "2  //gd1.alicdn.com/imgextra/i2/893336533/O1CN01h...   \n",
       "\n",
       "                                             ImgURL3  \\\n",
       "0  //img.alicdn.com/imgextra/i2/2209250352999/O1C...   \n",
       "1  //gd1.alicdn.com/imgextra/i1/676872413/O1CN01r...   \n",
       "2  //gd3.alicdn.com/imgextra/i3/2173838406/O1CN01...   \n",
       "\n",
       "                                             ImgURL4  \\\n",
       "0  //img.alicdn.com/imgextra/i3/2209250352999/O1C...   \n",
       "1  //gd4.alicdn.com/imgextra/i4/676872413/O1CN01L...   \n",
       "2  //gd1.alicdn.com/imgextra/i1/2173838406/O1CN01...   \n",
       "\n",
       "                                             ImgURL5  \\\n",
       "0  //img.alicdn.com/imgextra/i3/2209250352999/O1C...   \n",
       "1  //gd4.alicdn.com/imgextra/i4/676872413/O1CN01t...   \n",
       "2  //gd3.alicdn.com/imgextra/i3/2173838406/O1CN01...   \n",
       "\n",
       "                                             ImgURL6 ImgURL7 ImgURL8 ImgURL9  \\\n",
       "0                                                                              \n",
       "1                                                                              \n",
       "2  //gd3.alicdn.com/imgextra/i3/893336533/TB26EBS...                           \n",
       "\n",
       "  ImgURL10  \n",
       "0           \n",
       "1           \n",
       "2           "
      ]
     },
     "execution_count": 58,
     "metadata": {},
     "output_type": "execute_result"
    }
   ],
   "source": [
    "df.head()"
   ]
  },
  {
   "cell_type": "code",
   "execution_count": 70,
   "id": "transparent-belfast",
   "metadata": {},
   "outputs": [],
   "source": [
    "df = pd.DataFrame(columns=['Handle', 'Title', 'Description(HTML)', 'Description(text)','OriginalPrice',\n",
    "                           'DiscountPrice', 'ProductURL', 'Image Src', 'Image Position'\n",
    "                            ])\n",
    "#preparing according to shopify import template\n",
    "for index, imgs in enumerate(img_urls_array):\n",
    "    for i, src in enumerate(imgs):\n",
    "        if i== 0:\n",
    "            df = df.append({\n",
    "                'Handle': name_array[index],\n",
    "                'Title': name_array[index],\n",
    "                'Description(HTML)': description_html_array[index],\n",
    "                'Description(text)': description_text_array[index],\n",
    "                'OriginalPrice': original_price_array[index],\n",
    "                'DiscountPrice': discount_price_array[index],\n",
    "                'ProductURL': prod_urls_array[index],\n",
    "                'Image Src': src,\n",
    "                'Image Position': i+1\n",
    "            }, ignore_index = True)\n",
    "        else:\n",
    "            df = df.append({\n",
    "                'Handle': name_array[index],\n",
    "                'Title': '',\n",
    "                'Description(HTML)': '',\n",
    "                'Description(text)': '',\n",
    "                'OriginalPrice': '',\n",
    "                'DiscountPrice': '',\n",
    "                'ProductURL': '',\n",
    "                'Image Src': src,\n",
    "                'Image Position': i+1\n",
    "            }, ignore_index = True)\n",
    "            "
   ]
  },
  {
   "cell_type": "code",
   "execution_count": 71,
   "id": "ranging-commission",
   "metadata": {},
   "outputs": [],
   "source": [
    "df['Image Src'] = df['Image Src'].apply(lambda x: x.replace('60x60', '800x800').replace('400x400', '800x800').replace('50x50', '800x800'))\n",
    "writer = pd.ExcelWriter(r'file.xlsx', engine='xlsxwriter',options={'strings_to_urls': False})\n",
    "df.to_excel(writer, index=False)\n",
    "writer.close()"
   ]
  },
  {
   "cell_type": "code",
   "execution_count": 60,
   "id": "strong-luxury",
   "metadata": {},
   "outputs": [],
   "source": []
  },
  {
   "cell_type": "code",
   "execution_count": 77,
   "id": "julian-nothing",
   "metadata": {},
   "outputs": [],
   "source": [
    "soup1 = BeautifulSoup(dr.page_source)\n",
    "if 'detail.tmall.com' in url:\n",
    "    name = soup1.find('div', {'class':'tb-detail-hd'}).getText('\\n', True)\n",
    "    original_price = soup1.find('span', {'class':'tm-price'}).getText('', True)\n",
    "    try:\n",
    "        discount_price = soup1.findAll('span', {'class':'tm-price'})[1].getText('', True)\n",
    "    except:\n",
    "        discount_price = ''\n",
    "    img_urls = [x['src'].replace('400x400', '800x800').replace('jpg_50x50', 'jpg_800x800')\n",
    "                for x in soup1.find('ul', {'id': 'J_UlThumb'}).findAll('img', {'src': True})]\n",
    "    description_html = soup1.find('div', {'id': 'attributes'})\n",
    "    description_text = soup1.find('div', {'id': 'attributes'}).getText('\\n', True)\n",
    "    vendor = vendors_array[vend_num]"
   ]
  },
  {
   "cell_type": "code",
   "execution_count": 78,
   "id": "swiss-business",
   "metadata": {},
   "outputs": [
    {
     "data": {
      "text/plain": [
       "'1480.00-1880.00'"
      ]
     },
     "execution_count": 78,
     "metadata": {},
     "output_type": "execute_result"
    }
   ],
   "source": [
    "soup1.findAll('span', {'class':'tm-price'})[0].getText('', True)"
   ]
  }
 ],
 "metadata": {
  "kernelspec": {
   "display_name": "Python 3",
   "language": "python",
   "name": "python3"
  },
  "language_info": {
   "codemirror_mode": {
    "name": "ipython",
    "version": 3
   },
   "file_extension": ".py",
   "mimetype": "text/x-python",
   "name": "python",
   "nbconvert_exporter": "python",
   "pygments_lexer": "ipython3",
   "version": "3.7.3"
  }
 },
 "nbformat": 4,
 "nbformat_minor": 5
}
