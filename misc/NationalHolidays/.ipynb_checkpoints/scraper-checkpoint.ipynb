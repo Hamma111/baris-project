{
 "cells": [
  {
   "cell_type": "code",
   "execution_count": 1,
   "id": "actual-minister",
   "metadata": {},
   "outputs": [],
   "source": [
    "import requests\n",
    "import os\n",
    "import pandas as pd\n",
    "from bs4 import BeautifulSoup\n",
    "import json\n",
    "from selenium import webdriver\n",
    "from selenium.webdriver.chrome.options import Options\n",
    "from selenium.webdriver.common.keys import Keys\n",
    "from time import sleep"
   ]
  },
  {
   "cell_type": "code",
   "execution_count": 4,
   "id": "orange-visiting",
   "metadata": {},
   "outputs": [],
   "source": [
    "MAX_RETRIES = 10"
   ]
  },
  {
   "cell_type": "code",
   "execution_count": 2,
   "id": "incoming-briefs",
   "metadata": {},
   "outputs": [],
   "source": [
    "headers = {\n",
    "    'User-Agent': 'Mozilla/5.0 (Windows NT 10.0; Win64; x64) AppleWebKit/537.36 (KHTML, like Gecko) Chrome/89.0.4389.90 Safari/537.36 Edg/89.0.774.63',\n",
    "          }"
   ]
  },
  {
   "cell_type": "code",
   "execution_count": 3,
   "id": "tribal-stability",
   "metadata": {},
   "outputs": [],
   "source": [
    "site = requests.get('https://www.timeanddate.com/holidays/pakistan/',\n",
    "                   headers=headers,)"
   ]
  },
  {
   "cell_type": "code",
   "execution_count": 5,
   "id": "posted-origin",
   "metadata": {},
   "outputs": [
    {
     "data": {
      "text/plain": [
       "b'<!DOCTYPE html><!--\\nscripts and programs that download content transparent to the user are not allowed without permission\\n--><html lang=en><head><meta http-equiv=Content-Type content=\"text/html; charset=utf-8\"><title>Holidays and observances in Pakistan in 2021</title><meta name=description content=\"Overview of holidays and many observances in Pakistan during the year 2021\"><meta property=\"og:image\" content=\"https://www.timeanddate.com/scripts/cityog.php?title=Holidays%20%26%20Observations&amp;tint=0xB53E38&amp;country=2021&amp;state=Pakistan&amp;image=islamabad1\"><meta property=\"og:type\" content=website><style>\\n@font-face{font-family:iconfont;src:url(\"/common/fonts/iconfont.woff2?v7\") format(\"woff2\"),url(\"/common/fonts/iconfont.woff?v7\") format(\"woff\"),url(\"/common/fonts/iconfont.ttf?v7\") format(\"truetype\"),url(\"/common/fonts/iconfont.svg?v7#iconfont\") format(\"svg\");font-weight:400;font-style:normal}\\n</style>\\n\\n<link rel=\"preload\" href=\"/common/fonts/iconfont.woff2?v7\" as=\"font\" type=\"font/woff2\" crossorigin>\\n<link rel=\"preconnect\" href=\"https://c.tadst.com\" crossorigin>\\n<link rel=\"preload\" href=\"/common/global_2.css\" as=\"style\">\\n<link rel=\"preload\" href=\"/common/prebidtad.top.desk_19.js\" as=\"script\">\\n<script src=\"https://securepubads.g.doubleclick.net/tag/js/gpt.js\" async=async></script>\\n<script>\\nvar hbbids={},adUnits=[{code:\\'div-gpt-com-728x90\\',mediaTypes:{banner:{sizes:[[728,90]]}},bids:[{bidder:\\'aol\\',params:{dcn:\\'8a96958f01707087f9589c40e2820046\\',pos:\\'728x90_atf\\'}},{bidder:\\'appnexus\\',params:{placementId:11439172}},{bidder:\\'ix\\',params:{siteId:\\'189917\\',size:[728,90]}},{bidder:\\'pubmatic\\',params:{adSlot:\\'com728@728x90\\',publisherId:\\'157610\\'}},{bidder:\\'rubicon\\',params:{accountId:\\'16448\\',siteId:\\'127484\\',zoneId:\\'601634\\'}},{bidder:\\'triplelift\\',params:{inventoryCode:\\'TimeAndDate_com_728x90\\'}}]},{code:\\'div-gpt-com-300x250\\',mediaTypes:{banner:{sizes:[[300,250]]}},bids:[{bidder:\\'aol\\',params:{dcn:\\'8a96958f01707087f9589c40e2820046\\',pos:\\'300x250\\'}},{bidder:\\'appnexus\\',params:{placementId:11439174}},{bidder:\\'ix\\',params:{siteId:\\'189919\\',size:[300,250]}},{bidder:\\'pubmatic\\',params:{adSlot:\\'com_300@300x250\\',publisherId:\\'157610\\'}},{bidder:\\'rubicon\\',params:{accountId:\\'16448\\',siteId:\\'127484\\',zoneId:\\'601640\\'}},{bidder:\\'triplelift\\',params:{inventoryCode:\\'TimeAndDate_com_300x250\\'}}]}];\\n;\\nvar pbjs=pbjs||{};pbjs.que=pbjs.que||[];\\nvar googletag=googletag||{};\\ngoogletag.cmd=googletag.cmd||[];\\ngoogletag.cmd.push(function(){googletag.pubads().disableInitialLoad();});\\npbjs.que.push(function(){\\npbjs.setConfig({\\ndebug:false,\\npriceGranularity:{buckets:[{min:0,max:4,increment:0.01},{min:4,max:8,increment:0.02},{min:8,max:20,increment:0.05},{min:20,max:30,increment:0.10},{min:30,max:50,increment:0.25},{min:50,max:100,increment:1}]},\\nenableSendAllBids:true,\\nbidderTimeout:1000,\\npublisherDomain: \"https://www.timeanddate.com\"\\n});\\npbjs.addAdUnits(adUnits);\\npbjs.requestBids({bidsBackHandler:prebidDone});\\n});\\nfunction prebidDone(){\\nhbbids.prebid=1;\\nsendAdserverRequest();\\n}\\n\\nfunction sendAdserverRequest(){\\nif(pbjs.adserverRequestSent)return;\\nvar isLog=0;\\nfunction logAds(){\\nif(isLog){return;}\\nif(!window.jcb || !window.TADhba){\\nsetTimeout(logAds,1000);\\nreturn;\\n}\\nisLog=1;\\njcb(\"/scripts/logads.php?d=d\"+\"&\"+TADhba(),function(){});\\n}\\npbjs.adserverRequestSent=true;\\ngoogletag.cmd.push(function(){\\ngoogletag.pubads().addEventListener(\\'slotRenderEnded\\',function(){setTimeout(logAds,1000);});\\npbjs.que.push(function(){\\nvar c=0,a,b,r=pbjs.getBidResponses();\\npbjs.setTargetingForGPTAsync();\\n\\nfor(a in r){\\nif(r.hasOwnProperty(a)){\\nb=r[a].bids;for(var i=0;i<b.length;i++){if(b[i].cpm){c++;}}\\n}\\n}\\nif(window.pbv){googletag.pubads().setTargeting(\"pbv\",window.pbv);}\\ngoogletag.pubads().setTargeting(\"tadbid\",\"\"+c).refresh(AD.s);\\n\\n});\\n});\\n}\\nsetTimeout(function(){\\nsendAdserverRequest();\\n},3000);\\n\\nvar AD={s:[],o:0};\\nvar googletag=googletag||{};\\ngoogletag.cmd=googletag.cmd||[];\\ngoogletag.cmd.push(function() {AD.s.push(googletag.defineSlot(\\'/1004254/com728\\',[728,90],\\'div-gpt-com-728x90\\').setTargeting(\\'pf\\',\\'059\\').addService(googletag.pubads()));\\nAD.s.push(googletag.defineSlot(\\'/1004254/com_300\\',[300,250],\\'div-gpt-com-300x250\\').setTargeting(\\'pf\\',\\'055\\').addService(googletag.pubads()));\\ngoogletag.pubads().setTargeting(\\'ab\\',\\'a\\').setTargeting(\\'art\\',\\'3782\\').setTargeting(\\'hr\\',\\'08\\').setTargeting(\\'tadhb\\',\\'12\\').setTargeting(\\'pf\\',\\'060\\').enableSingleRequest();googletag.enableServices();});\\n</script>\\n<script src=\"/common/prebidtad.top.desk_19.js\" async></script>\\n<link rel=\"preload\" href=\"/common/prebidtad.top.desk_19.js\" as=\"script\">\\n<script src=\"https://securepubads.g.doubleclick.net/tag/js/gpt.js\" async=async></script>\\n<link rel=alternate hreflang=de href=\"https://www.timeanddate.de/feiertage/pakistan/\" />\\n<link rel=alternate hreflang=no href=\"https://www.timeanddate.no/merkedag/pakistan/\" /><link href=\"/site.webmanifest\" rel=manifest><link rel=icon sizes=48x48 href=\"/favicon-48x48.png\" type=\"image/png\"><link sizes=16x16 rel=icon href=\"/favicon-16x16.png\" type=\"image/png\"><link type=\"image/png\" href=\"/favicon-32x32.png\" rel=icon sizes=32x32><link type=\"text/css\" href=\"/common/global_2.css\" rel=stylesheet><script type=\"application/ld+json\">\\n{\"@context\":\"https://schema.org\",\"@type\":\"BreadcrumbList\",\"itemListElement\":[{\"@type\":\"ListItem\",\"position\":1,\"name\":\"Calendar\",\"item\":\"https://www.timeanddate.com/calendar/\"},{\"@type\":\"ListItem\",\"position\":2,\"name\":\"Holidays\",\"item\":\"https://www.timeanddate.com/holidays/\"},{\"@type\":\"ListItem\",\"position\":3,\"name\":\"Pakistan\"}]}\\n</script><link rel=stylesheet href=\"/common/index_holiday_10.css\" type=\"text/css\"><link type=\"text/css\" href=\"/common/articles_39.css\" rel=stylesheet><style>.layout-grid{display:-ms-grid;display:grid;grid-template-areas:\". main sidebar .\";-ms-grid-columns:minmax(16px,1fr) 900px 300px minmax(16px,1fr);grid-template-columns:minmax(16px,1fr) 900px 300px minmax(16px,1fr)}@media (max-width:1440px){.layout-grid{-ms-grid-columns:minmax(16px,1fr) 700px 300px minmax(16px,1fr);grid-template-columns:minmax(16px,1fr) 700px 300px minmax(16px,1fr)}}@media (max-width:1024px){.layout-grid{-ms-grid-columns:16px 1fr 300px 16px;grid-template-columns:16px 1fr 300px 16px}}@media (max-width:768px){.layout-grid{-ms-grid-columns:16px 1fr 16px;grid-template-columns:16px 1fr 16px;-ms-grid-rows:auto auto auto;grid-template-rows:auto auto auto;grid-template-areas:\". main .\" \". sidebar .\" \". sky .\"}}.layout-grid__main{-ms-grid-row:1;-ms-grid-column:2;grid-area:main;margin-right:6px;overflow:auto}@media (max-width:768px){.layout-grid__main{margin-right:0}}.layout-grid__main--extra-pad{margin-right:48px}@media (max-width:1440px){.layout-grid__main--extra-pad{margin-right:36px}}@media (max-width:1024px){.layout-grid__main--extra-pad{margin-right:24px}}@media (max-width:768px){.layout-grid__main--extra-pad{margin-right:0}}.layout-grid__sidebar{-ms-grid-row:1;-ms-grid-column:3;grid-area:sidebar}.layout-grid__sky{grid-area:sky;align-self:flex-start}@media (max-width:768px){.layout-grid__main{-ms-grid-row:1;-ms-grid-column:2}.layout-grid__sidebar{-ms-grid-row:2;-ms-grid-column:2}.layout-grid__sky{-ms-grid-row:3;-ms-grid-column:2}}.layout-grid__sky #ad1{float:none}.layout-grid__sky--sticky{position:-webkit-sticky;position:sticky;top:40px}@media (max-width:768px){.layout-grid__sky--sticky{position:relative;top:0}}.layout-grid__hero{grid-area:hero}.layout-grid__footer{grid-area:footer}.pager {\\nmargin-top: 12px;\\ntext-align: left;\\n}\\n.jumplist__options {\\ndisplay: inline;\\n}\\n.jumplist__item {\\npadding-right: 2px;\\n}\\n.sticky {\\nposition: sticky;\\ntop: 40px;\\n}\\n</style></head><body class=\"tpl-custom_bc  \"><div id=header__wrapper class=header__wrapper><div id=header__inner class=header__inner><div id=header class=\"banner\"><div class=fixed><div id=logo><a href=\"/\" rel=home><img src=\"//c.tadst.com/gfx/n/tad-logo-com3.png\" alt=\"timeanddate.com\" title=\"Home page timeanddate.com\" width=\"170\" height=\"88\"></a></div></div></div><div id=ad-wrap><div id=ad-wrap2 class=fixed><div id=ad7><div id=\\'div-gpt-com-728x90\\' style=\\'width:728px;height:90px;\\'><script>\\ngoogletag.cmd.push(function(){googletag.display(\\'div-gpt-com-728x90\\'); });\\n</script>\\n</div></div></div></div><nav id=nav class=site-nav-bar><div class=\"site-nav-bar__inner fixed\"><button class=\"site-nav-bar__button site-nav-bar__button--menu\" id=site-nav-menu title=\"Menu\" aria-label=\"Menu\"><i class=\"i-font i-menu\"></i></button><div class=site-nav-bar__logo><a href=\"/\" rel=home title=\"Home page timeanddate.com\"><img src=\"//c.tadst.com/gfx/n/logo-mobile--com.svg\" loading=lazy alt=\"timeanddate.com\"/></a></div><button class=site-nav-bar__button onclick=\"modpop(\\'/custom/shareframe.php\\', null, \\'Share...\\')\" title=\"Share\" aria-label=\"Share\"><i class=\"i-font i-share\"></i></button><form action=\"/search/results.html\" class=site-nav-bar__search-form><input class=site-nav-bar__search placeholder=\"Search...\" id=site-nav-search name=query title=\"Search\" aria-label=\"Search\"/><button class=\"site-nav-bar__button site-nav-bar__button--search\" id=site-nav-search-btn aria-label=\"Search\"><div class=site-nav-bar__search-inner><i class=\"i-font i-search\"></i></div></button></form><div class=site-nav-bar__menu-wrap><div class=site-nav__header><button class=site-nav__login id=site-nav-login>Sign in</button><button class=site-nav__close id=site-nav-close><i class=\"i-font i-close\"></i></button></div><ul id=site-nav class=site-nav><li class=\"site-nav__menu \"><a href=\"/\" class=site-nav__title>Home</a><ul class=site-nav__sub-menu><li class=\"site-nav__item site-nav__item--divider site-nav__item--mob\"><a class=site-nav__link href=\"/\">Home Page</a><li class=site-nav__item><a class=site-nav__link href=\"/newsletter/\">Newsletter</a><li class=site-nav__item><a class=site-nav__link href=\"/information/\">About Us</a><li class=\"site-nav__item site-nav__item--divider\"><a class=site-nav__link href=\"/information/feedback.html\">Contact Us</a><li class=site-nav__item><a class=site-nav__link href=\"/sitemap.html\">Site Map</a><li class=\"site-nav__item site-nav__item--divider\"><a class=site-nav__link href=\"/topics/\">Our Articles</a><li class=site-nav__item><a class=site-nav__link href=\"/custom/\">Account/Settings</a></ul></li><li class=\"site-nav__menu \"><a href=\"/worldclock/\" class=site-nav__title>World Clock</a><ul class=site-nav__sub-menu><li class=site-nav__item><a class=site-nav__link href=\"/worldclock/\">Main World Clock</a><li class=site-nav__item><a class=site-nav__link href=\"/worldclock/full.html\">Extended World Clock</a><li class=\"site-nav__item site-nav__item--divider\"><a class=site-nav__link href=\"/worldclock/personal.html\">Personal World Clock</a><li class=site-nav__item><a class=site-nav__link href=\"/worldclock/search.html\">World Time Lookup </a><li class=site-nav__item><a class=site-nav__link href=\"/worldclock/timezone/utc\">UTC Time</a></ul></li><li class=\"site-nav__menu \"><a href=\"/time/\" class=site-nav__title>Time Zones</a><ul class=site-nav__sub-menu><li class=\"site-nav__item site-nav__item--divider site-nav__item--mob\"><a class=site-nav__link href=\"/time\">Time Zones Home</a><li class=site-nav__item><a class=site-nav__link href=\"/worldclock/converter.html\">Time Zone Converter</a><li class=site-nav__item><a class=site-nav__link href=\"/worldclock/meeting.html\">International Meeting Planner</a><li class=\"site-nav__item site-nav__item--divider\"><a class=site-nav__link href=\"/worldclock/fixedform.html\">Event Time Announcer</a><li class=site-nav__item><a class=site-nav__link href=\"/time/map/\">Time Zone Map</a><li class=\"site-nav__item site-nav__item--divider\"><a class=site-nav__link href=\"/time/zones/\">Time Zone Abbreviations</a><li class=site-nav__item><a class=site-nav__link href=\"/time/dst/\">Daylight Saving Time</a><li class=site-nav__item><a class=site-nav__link href=\"/time/change/\">Time Changes Worldwide</a><li class=site-nav__item><a class=site-nav__link href=\"/time/difference/\">Time Difference</a><li class=site-nav__item><a class=site-nav__link href=\"/news/time/\">Time Zone News</a></ul></li><li class=\"site-nav__menu   active\"><a href=\"/calendar/\" class=site-nav__title>Calendar</a><ul class=site-nav__sub-menu><li class=\"site-nav__item site-nav__item--divider site-nav__item--mob\"><a class=site-nav__link href=\"/calendar/info.html\">Calendars Home</a><li class=site-nav__item><a class=site-nav__link href=\"/calendar/\">Calendar 2021</a><li class=site-nav__item><a class=site-nav__link href=\"/calendar/?year=2022\">Calendar 2022</a><li class=\"site-nav__item site-nav__item--divider\"><a class=site-nav__link href=\"/calendar/monthly.html\">Monthly Calendar</a><li class=site-nav__item><a class=site-nav__link href=\"/calendar/create.html\">Printable Calendar (PDF)</a><li class=\"site-nav__item site-nav__item--divider\"><a class=site-nav__link href=\"/calendar/events/\">Add Your Own Calendar Events</a><li class=site-nav__item><a class=site-nav__link href=\"/calendar/basic.html\">Calendar Creator</a><li class=\"site-nav__item site-nav__item--divider\"><a class=site-nav__link href=\"/calendar/custommenu.html\">Advanced Calendar Creator</a><li class=site-nav__item><a class=site-nav__link href=\"/holidays/\">Holidays Worldwide</a><li class=\"site-nav__item site-nav__item--divider\"><a class=site-nav__link href=\"/on-this-day/\">On This Day in History</a><li class=site-nav__item><a class=site-nav__link href=\"/calendar/months/\">Months of the Year</a><li class=site-nav__item><a class=site-nav__link href=\"/calendar/days/\">Days of the Week</a><li class=site-nav__item><a class=site-nav__link href=\"/date/leapyear.html\">About Leap Years</a></ul></li><li class=\"site-nav__menu \"><a href=\"/weather/\" class=site-nav__title>Weather</a><ul class=site-nav__sub-menu><li class=site-nav__item><a class=site-nav__link href=\"/weather/\">Worldwide</a><li class=site-nav__item><a class=site-nav__link href=\"/scripts/go.php\">Local Weather</a><li class=\"site-nav__item site-nav__item--divider\"><a class=site-nav__link href=\"/scripts/go.php?type=hourly\">Hour-by-Hour</a><li class=site-nav__item><a class=site-nav__link href=\"/scripts/goweather.php?type=ext\">2-Week Forecast</a><li class=site-nav__item><a class=site-nav__link href=\"/scripts/go.php?type=historic\">Past Week</a><li class=site-nav__item><a class=site-nav__link href=\"/scripts/go.php?type=climate\">Climate</a></ul></li><li class=\"site-nav__menu \"><a href=\"/astronomy/\" class=site-nav__title>Sun &amp; Moon</a><ul class=site-nav__sub-menu><li class=\"site-nav__item site-nav__item--divider site-nav__item--mob\"><a class=site-nav__link href=\"/astronomy\">Sun &amp; Moon Home</a><li class=site-nav__item><a class=site-nav__link href=\"/sun/\">Sun Calculator</a><li class=site-nav__item><a class=site-nav__link href=\"/moon/\">Moon Calculator</a><li class=\"site-nav__item site-nav__item--divider\"><a class=site-nav__link href=\"/moon/phases/\">Moon Phases</a><li class=site-nav__item><a class=site-nav__link href=\"/astronomy/night/\">Night Sky</a><li class=\"site-nav__item site-nav__item--divider\"><a class=site-nav__link href=\"/astronomy/meteor-shower/\">Meteor Showers</a><li class=site-nav__item><a class=site-nav__link href=\"/worldclock/sunearth.html\">Day and Night Map</a><li class=\"site-nav__item site-nav__item--divider\"><a class=site-nav__link href=\"/astronomy/moon/light.html\">Moon Light World Map</a><li class=site-nav__item><a class=site-nav__link href=\"/eclipse/\">Eclipses</a><li class=\"site-nav__item site-nav__item--divider\"><a class=site-nav__link href=\"/live/\">Live Streams</a><li class=site-nav__item><a class=site-nav__link href=\"/calendar/seasons.html\">Seasons</a></ul></li><li class=\"site-nav__menu \"><a href=\"/counters/\" class=site-nav__title>Timers</a><ul class=site-nav__sub-menu><li class=\"site-nav__item site-nav__item--mob\"><a class=site-nav__link href=\"/counters\">Timers Home</a><li class=site-nav__item><a class=site-nav__link href=\"/stopwatch/\">Stopwatch</a><li class=\"site-nav__item site-nav__item--divider\"><a class=site-nav__link href=\"/timer/\">Timer</a><li class=\"site-nav__item site-nav__item--divider\"><a class=site-nav__link href=\"/countdown/create\">Countdown to Any Date</a><li class=site-nav__item><a class=site-nav__link href=\"/countdown/newyear\">New Year Countdown</a></ul></li><li class=\"site-nav__menu \"><a href=\"/date/\" class=site-nav__title>Calculators</a><ul class=site-nav__sub-menu><li class=\"site-nav__item site-nav__item--divider site-nav__item--mob\"><a class=site-nav__link href=\"/date/\">Calculators Home</a><li class=site-nav__item><a class=site-nav__link href=\"/date/duration.html\">Date to Date Calculator (duration)</a><li class=site-nav__item><a class=site-nav__link href=\"/date/workdays.html\">Business Date to Date (exclude holidays)</a><li class=site-nav__item><a class=site-nav__link href=\"/date/dateadd.html\">Date Calculator (add / subtract)</a><li class=\"site-nav__item site-nav__item--divider\"><a class=site-nav__link href=\"/date/weekdayadd.html\">Business Date (exclude holidays)</a><li class=site-nav__item><a class=site-nav__link href=\"/date/weekday.html\">Weekday Calculator</a><li class=\"site-nav__item site-nav__item--divider\"><a class=site-nav__link href=\"/date/weeknumber.html\">Week Number Calculator</a><li class=\"site-nav__item site-nav__item--divider\"><a class=site-nav__link href=\"/time/travel.html\">Travel Time Calculator</a><li class=site-nav__item><a class=site-nav__link href=\"/worldclock/distance.html\">Distance Calculator</a><li class=site-nav__item><a class=site-nav__link href=\"/worldclock/distances.html\">Distance Signpost</a></ul></li><li class=\"site-nav__menu \"><a href=\"/extra/\" class=site-nav__title>Apps &amp; API</a><ul class=site-nav__sub-menu><li class=site-nav__item><a class=site-nav__link href=\"/ios/\">iOS Apps</a><li class=site-nav__item><a class=site-nav__link href=\"/android/\">Android Apps</a><li class=\"site-nav__item site-nav__item--divider\"><a class=site-nav__link href=\"/windows/\">Windows App</a><li class=site-nav__item><a class=site-nav__link href=\"/clocks/free.html\">Free Clock</a><li class=\"site-nav__item site-nav__item--divider\"><a class=site-nav__link href=\"/clocks/freecountdown.html\">Free Countdown</a><li class=site-nav__item><a class=site-nav__link href=\"/services/api/\">API for Developers</a></ul></li><li class=\"site-nav__menu \"><a href=\"/fun/\" class=site-nav__title>Free Fun</a><ul class=site-nav__sub-menu><li class=\"site-nav__item site-nav__item--divider site-nav__item--mob\"><a class=site-nav__link href=\"/fun\">Free &amp; Fun Home</a><li class=site-nav__item><a class=site-nav__link href=\"/clocks/free.html\">Free Clock for Your Site</a><li class=site-nav__item><a class=site-nav__link href=\"/clocks/freecountdown.html\">Free Countdown for Your Site</a><li class=site-nav__item><a class=site-nav__link href=\"/wordclock/\">Word Clock</a><li class=site-nav__item><a class=site-nav__link href=\"/holidays/fun/\">Fun Holidays</a><li class=site-nav__item><a class=site-nav__link href=\"/date/birthday.html\">Alternative Age Calculator</a><li class=site-nav__item><a class=site-nav__link href=\"/date/pattern.html\">Date Pattern Calculator</a><li class=site-nav__item><a class=site-nav__link href=\"/topics/fun\">Fun Fact Articles</a></ul></li><li class=\"site-nav__menu site-nav__menu--my-account\"><a href=\"/custom/\" class=site-nav__title><span class=\\'site-nav__mob-title\\'>My Account</span><i class=\\'i-font i-account_circle site-nav__desktop-title\\'></i></a><ul class=site-nav__sub-menu><li class=\"site-nav__item site-nav__item--divider site-nav__item--mob\"><a class=site-nav__link href=\"/custom\">My Account</a><li class=site-nav__item><a id=popchi class=site-nav__link href=\"/custom/location.html\">My Location</a><li class=site-nav__item><a class=site-nav__link href=\"/custom/site.html\">My Units</a><li class=site-nav__item><a class=site-nav__link href=\"/calendar/events/\">My Events</a><li class=site-nav__item><a class=site-nav__link href=\"/worldclock/personal.html\">My World Clock</a><li class=\"site-nav__item site-nav__item--divider\"><a class=site-nav__link href=\"/custom/privacy.html\">My Privacy</a><li class=site-nav__item><a class=site-nav__link href=\"/services/\">Paid Services</a><li class=site-nav__item><a id=poplogin class=site-nav__link href=\"/custom/login.html\">Sign in</a><li class=site-nav__item><a id=popreg class=site-nav__link href=\"/custom/create.html\">Register</a></ul></li></ul> </div><div class=site-nav-bar__blur id=site-nav-blur></div></div></nav></div></div><div id=po1 class=po></div><div id=mpo></div><div id=anw class=alert-notice__wrap></div><div id=privacybanner class=dn></div><div class=main-content-div><script>\\nwindow.TAD=window.TAD||{};TAD.abtest=\\'a\\';\\n</script><div class=fixed></div><div class=\"main-content-div \"><header class=\"bn-header bn-header--holiday\"><div class=\"row socrow\"><div id=bc class=\"fixed\"><div id=bct><a target=_top href=\"/\" class=fx>Home</a> &nbsp; <a target=_top href=\"/calendar/\" class=fx>Calendar</a> &nbsp; <a target=_top href=\"/holidays/\" class=fx>Holidays</a> &nbsp; Pakistan</div></div></div><div class=\"bn-header__wrap fixed\"><div class=headline-banner><section class=headline-banner__wrap><img src=\"//c.tadst.com/gfx/n/fl/48/pk.png\" width=48 height=32 alt=\"Flag for Pakistan\" class=\"headline-banner__flag\"><div class=headline-banner__content><h1 class=headline-banner__title>Holidays and Observances in Pakistan in 2021</h1></div></section><section class=headline-banner__extra><form action=\"/holidays/search.html\" class=\"bn-header__searchbox picker-city noprint\"><input type=hidden name=from value=\"pk\"><input type=search autocomplete=off class=picker-city__input placeholder=\"Search holiday name or country\\xe2\\x80\\xa6\" onfocus=\"ifc(this, \\'hol\\', 1 )\" name=query /><button type=submit class=picker-city__button title=Search><i class=\"i-font i-search\"></i></button></form></section></div></div><section class=bn-header__extra><div class=fixed><strong>Suggested countries: </strong><a href=\"/holidays/australia/\">Australia</a> | <a href=\"/holidays/canada/\">Canada</a> | <a href=\"/holidays/uk/\">United Kingdom</a> | <a href=\"/holidays/us/\">United States</a> | <a href=\"/holidays/\">List of all countries</a></div></section></header><main class=\"layout-grid pdflexi\"><section class=\"layout-grid__main layout-grid__main--extra-pad\"><article class=table-data><section class=table-data__config><label>Showing:&nbsp;<span data-tad-control=\"HolidayCountry.Count\">all</span> &nbsp;&nbsp; <select id=hol name=hol data-tad-control=\"HolidayCountry.Filter\" data-tad-options=\"{table:\\'holidays-table\\'}\"><option value=1>Official holidays</option><option value=134217729>Official and optional holidays</option><option value=134217737>Official holidays and non-working days</option><option value=134217753>Holidays and some observances</option><option value=138412057>Holidays (incl. some local) and observances</option><option value=139465049 selected>All holidays/observances/religious events</option><option value=\"nojs\" data-showcustom>Custom \\xe2\\x80\\x93 choose holidays...</option></select></label><label>For:&nbsp; <select id=year name=year data-tad-control=\"HolidayCountry.Year\" data-tad-options=\"{baseURL:\\'/holidays/pakistan/\\'}\"><option value=2000>2000</option><option value=2001>2001</option><option value=2002>2002</option><option value=2003>2003</option><option value=2004>2004</option><option value=2005>2005</option><option value=2006>2006</option><option value=2007>2007</option><option value=2008>2008</option><option value=2009>2009</option><option value=2010>2010</option><option value=2011>2011</option><option value=2012>2012</option><option value=2013>2013</option><option value=2014>2014</option><option value=2015>2015</option><option value=2016>2016</option><option value=2017>2017</option><option value=2018>2018</option><option value=2019>2019</option><option value=2020>2020</option><option value=2021 selected>2021</option><option value=2022>2022</option><option value=2023>2023</option><option value=2024>2024</option><option value=2025>2025</option><option value=2026>2026</option><option value=2027>2027</option><option value=2028>2028</option><option value=2029>2029</option><option value=2030>2030</option></select></label></section><section class=custom-holidays data-tad-control=\"HolidayCountry.FilterCustom\" style=\"display: none\"><section class=\"quick-selection \"><span class=quick-selection__item><a href=\"#\" data-tad-control=\"HolidayCountry.TriggerEvent\" data-tad-options=\"{event: \\'selectAll\\'}\">Select All</a></span><span class=quick-selection__item><a href=\"#\" data-tad-control=\"HolidayCountry.TriggerEvent\" data-tad-options=\"{event: \\'selectNone\\'}\">Clear All</a></span><span class=quick-selection__item data-tad-control=\"HolidayCountry.Reset\" data-tad-options=\"{ defaultValue: TAD.chm}\"><a href=\"#\">Reset to Default</a></span></section><section class=custom-holidays__options><label><input type=checkbox value=0>Federal/National Holidays (19)</label><label><input type=checkbox value=22>Common Local Holidays (2)</label><label><input type=checkbox value=4>Important Observances (5)</label><label><input type=checkbox value=6>Other Observances (1)</label><label><input type=checkbox value=8>Seasons (4)</label><label><input type=checkbox value=12>Major Christian (0)</label><label><input type=checkbox value=20>Major Hinduism (4)</label><label><input type=checkbox value=27>Optional Holiday (22)</label></section></section><nav class=jumplist><span class=jumplist__label><i class=\"i-font i-jump_down\"></i> Jump to: </span><span class=jumplist__item data-tad-control=\"HolidayCountry.Next\" data-tad-options=\"{date: TAD.local_sod * 1000}\"><a href=\"#hol_next\">Next</a></span><span class=jumplist__options data-tad-control=\"HolidayCountry.JumpList\"><a href=\"#hol_jan\">JAN</a> | <a href=\"#hol_feb\">FEB</a> | <a href=\"#hol_mar\">MAR</a> | <a href=\"#hol_apr\">APR</a> | <a href=\"#hol_may\">MAY</a> | <a href=\"#hol_jun\">JUN</a> | <a href=\"#hol_jul\">JUL</a> | <a href=\"#hol_aug\">AUG</a> | <a href=\"#hol_sep\">SEP</a> | <a href=\"#hol_oct\">OCT</a> | <a href=\"#hol_nov\">NOV</a> | <a href=\"#hol_dec\">DEC</a></span></nav><section class=table-data__table>\\n\\n\\n\\n\\n\\n\\n\\n\\n<h2 id=holidays>Holidays and Observances in Pakistan in 2021</h2><table id=holidays-table class=\"table table--left table--inner-borders-rows table--full-width table--sticky table--holidaycountry\" data-tad-control=\"HolidayCountry.Table\"><thead><tr><th rowspan=2>Date</th><th rowspan=2>&nbsp;</th><th rowspan=2>Name</th><th rowspan=2>Type</th></tr><tr></tr></thead><tbody><tr id=hol_jan ></tr><tr id=tr1  data-mask=134217728 data-date=1609459200000><th class=\"nw\" >1 Jan</th><td class=\"nw\" >Friday</td><td><a href=\"/holidays/pakistan/new-year-day\">New Year&#39;s Day</a></td><td>Optional Holiday</td></tr><tr id=tr2  data-mask=4194304 data-date=1609459200000><th class=\"nw\" >1 Jan</th><td class=\"nw\" >Friday</td><td><a href=\"/holidays/pakistan/january-1-bank-holiday\">January 1 Bank Holiday</a></td><td>Bank Holiday</td></tr><tr id=hol_feb ></tr><tr id=tr4  data-mask=1 data-date=1612483200000><th class=\"nw\" >5 Feb</th><td class=\"nw\" >Friday</td><td><a href=\"/holidays/pakistan/kashmir-day\">Kashmir Day</a></td><td>Public Holiday</td></tr><tr id=tr5  data-mask=134217728 data-date=1613433600000><th class=\"nw\" >16 Feb</th><td class=\"nw\" >Tuesday</td><td><a href=\"/holidays/pakistan/basant-punchami\">Basant Panchami</a></td><td>Optional Holiday</td></tr><tr id=hol_mar ></tr><tr id=tr7  data-mask=134217728 data-date=1615420800000><th class=\"nw\" >11 Mar</th><td class=\"nw\" >Thursday</td><td><a href=\"/holidays/pakistan/shivaratri\">Shivaratri</a></td><td>Optional Holiday</td></tr><tr id=tr8  data-mask=134217728 data-date=1615507200000><th class=\"nw\" >12 Mar</th><td class=\"nw\" >Friday</td><td><a href=\"/holidays/pakistan/shab-e-meraj\">Shab e-Meraj</a></td><td>Optional Holiday</td></tr><tr id=tr9  data-mask=256 data-date=1616251051000><th class=\"nw\" >20 Mar</th><td class=\"nw\" >Saturday</td><td><a href=\"/calendar/march-equinox.html\">March Equinox</a></td><td>Season</td></tr><tr id=tr10  data-mask=1 data-date=1616457600000><th class=\"nw\" >23 Mar</th><td class=\"nw\" >Tuesday</td><td><a href=\"/holidays/pakistan/pakistan-day\">Pakistan Day</a></td><td>Public Holiday</td></tr><tr id=tr11  data-mask=134217728 data-date=1616889600000><th class=\"nw\" >28 Mar</th><td class=\"nw\" >Sunday</td><td><a href=\"/holidays/pakistan/holi\">Holi</a></td><td>Optional Holiday</td></tr><tr id=tr12  data-mask=134217728 data-date=1616976000000><th class=\"nw\" >29 Mar</th><td class=\"nw\" >Monday</td><td><a href=\"/holidays/pakistan/dulhandi\">Dulhandi</a></td><td>Optional Holiday</td></tr><tr id=tr13  data-mask=134217728 data-date=1616976000000><th class=\"nw\" >29 Mar</th><td class=\"nw\" >Monday</td><td><a href=\"/holidays/pakistan/shab-e-barat\">Shab e-Barat</a></td><td>Optional Holiday</td></tr><tr id=hol_apr ></tr><tr id=tr15  data-mask=134217728 data-date=1617321600000><th class=\"nw\" >2 Apr</th><td class=\"nw\" >Friday</td><td><a href=\"/holidays/pakistan/good-friday\">Good Friday</a></td><td>Optional Holiday</td></tr><tr id=tr16  data-mask=134217792 data-date=1617494400000><th class=\"nw\" >4 Apr</th><td class=\"nw\" >Sunday</td><td><a href=\"/holidays/pakistan/easter-sunday\">Easter Sunday</a></td><td>Optional Holiday</td></tr><tr id=tr17  data-mask=134217728 data-date=1617580800000><th class=\"nw\" >5 Apr</th><td class=\"nw\" >Monday</td><td><a href=\"/holidays/pakistan/easter-monday\">Easter Monday</a></td><td>Optional Holiday</td></tr><tr id=tr18  data-mask=1 data-date=1618358400000><th class=\"nw\" >14 Apr</th><td class=\"nw\" >Wednesday</td><td><a href=\"/holidays/pakistan/ramazan-bank-holiday\">Ramazan Bank Holiday</a></td><td>Bank Holiday</td></tr><tr id=tr19  data-mask=134217728 data-date=1618358400000><th class=\"nw\" >14 Apr</th><td class=\"nw\" >Wednesday</td><td><a href=\"/holidays/pakistan/baisakhi\">Baisakhi</a></td><td>Optional Holiday</td></tr><tr id=tr20  data-mask=134217728 data-date=1618963200000><th class=\"nw\" >21 Apr</th><td class=\"nw\" >Wednesday</td><td><a href=\"/holidays/pakistan/eid-e-rizwan\">Ridv&#225;n</a></td><td>Optional Holiday</td></tr><tr id=hol_may ></tr><tr id=tr22  data-mask=1 data-date=1619827200000><th class=\"nw\" >1 May</th><td class=\"nw\" >Saturday</td><td><a href=\"/holidays/pakistan/labour-day\">Labour Day</a></td><td>Public Holiday</td></tr><tr id=tr23  data-mask=1 data-date=1620604800000><th class=\"nw\" >10 May</th><td class=\"nw\" >Monday</td><td><a href=\"/holidays/pakistan/eid-ul-fitr-holiday-1\">Eid-ul-Fitr Holiday</a></td><td>Public Holiday</td></tr><tr id=tr24  data-mask=1 data-date=1620691200000><th class=\"nw\" >11 May</th><td class=\"nw\" >Tuesday</td><td><a href=\"/holidays/pakistan/eid-ul-fitr-4\">Eid-ul-Fitr Holiday</a></td><td>Public Holiday</td></tr><tr id=tr25  data-mask=1 data-date=1620777600000><th class=\"nw\" >12 May</th><td class=\"nw\" >Wednesday</td><td><a href=\"/holidays/pakistan/eid-ul-fitr-holiday-2\">Eid-ul-Fitr Holiday</a></td><td>Public Holiday</td></tr><tr id=tr26  data-mask=1 data-date=1620864000000><th class=\"nw\" >13 May</th><td class=\"nw\" >Thursday</td><td><a href=\"/holidays/pakistan/eid-ul-fitr-1\">Eid-ul-Fitr</a></td><td>Public Holiday</td></tr><tr id=tr27  data-mask=1 data-date=1620950400000><th class=\"nw\" >14 May</th><td class=\"nw\" >Friday</td><td><a href=\"/holidays/pakistan/eid-ul-fitr-2\">Eid-ul-Fitr Holiday</a></td><td>Public Holiday</td></tr><tr id=tr28  data-mask=1 data-date=1621036800000><th class=\"nw\" >15 May</th><td class=\"nw\" >Saturday</td><td><a href=\"/holidays/pakistan/eid-ul-fitr-3\">Eid-ul-Fitr Holiday</a></td><td>Public Holiday</td></tr><tr id=tr29  data-mask=134217728 data-date=1621987200000><th class=\"nw\" >26 May</th><td class=\"nw\" >Wednesday</td><td><a href=\"/holidays/pakistan/buddha-purnima\">Buddha Purnima</a></td><td>Optional Holiday</td></tr><tr id=hol_jun ></tr><tr id=tr31  data-mask=256 data-date=1624264329000><th class=\"nw\" >21 Jun</th><td class=\"nw\" >Monday</td><td><a href=\"/calendar/june-solstice.html\">June Solstice</a></td><td>Season</td></tr><tr id=hol_jul ></tr><tr id=tr33  data-mask=16 data-date=1625097600000><th class=\"nw\" >1 Jul</th><td class=\"nw\" >Thursday</td><td><a href=\"/holidays/pakistan/july-1-bank-holiday\">July 1 Bank Holiday</a></td><td>Bank Holiday</td></tr><tr id=tr34  data-mask=1 data-date=1626739200000><th class=\"nw\" >20 Jul</th><td class=\"nw\" >Tuesday</td><td><a href=\"/holidays/pakistan/eid-ul-azha-holiday\">Eid al-Adha Holiday</a></td><td>Public Holiday</td></tr><tr id=tr35  data-mask=1 data-date=1626825600000><th class=\"nw\" >21 Jul</th><td class=\"nw\" >Wednesday</td><td><a href=\"/holidays/pakistan/eid-ul-azha\">Eid al-Adha</a></td><td>Public Holiday</td></tr><tr id=tr36  data-mask=1 data-date=1626912000000><th class=\"nw\" >22 Jul</th><td class=\"nw\" >Thursday</td><td><a href=\"/holidays/pakistan/eid-ul-azha-2\">Eid al-Adha Holiday</a></td><td>Public Holiday</td></tr><tr id=hol_aug ></tr><tr id=tr38  data-mask=1 data-date=1628899200000><th class=\"nw\" >14 Aug</th><td class=\"nw\" >Saturday</td><td><a href=\"/holidays/pakistan/independence-day\">Independence Day</a></td><td>Public Holiday</td></tr><tr id=tr39  data-mask=4194304 data-date=1629072000000><th class=\"nw\" >16 Aug</th><td class=\"nw\" >Monday</td><td><a href=\"/holidays/pakistan/nauroz\">Nauroz</a></td><td>Optional Holiday</td></tr><tr id=tr40  data-mask=1 data-date=1629244800000><th class=\"nw\" >18 Aug</th><td class=\"nw\" >Wednesday</td><td><a href=\"/holidays/pakistan/first-day-ashura\">Ashura (Tentative Date)</a></td><td>Public Holiday</td></tr><tr id=tr41  data-mask=1 data-date=1629331200000><th class=\"nw\" >19 Aug</th><td class=\"nw\" >Thursday</td><td><a href=\"/holidays/pakistan/second-day-ashura\">Ashura Holiday (Tentative Date)</a></td><td>Public Holiday</td></tr><tr id=tr42  data-mask=134217728 data-date=1629504000000><th class=\"nw\" >21 Aug</th><td class=\"nw\" >Saturday</td><td><a href=\"/holidays/pakistan/zoroaster-birthday\">Birthday of Lord Zoroaster (Khordad Sal)</a></td><td>Optional Holiday</td></tr><tr id=tr43  data-mask=1048576 data-date=1629590400000><th class=\"nw\" >22 Aug</th><td class=\"nw\" >Sunday</td><td><a href=\"/holidays/pakistan/hindu-raksha-bandhan\">Raksha Bandhan</a></td><td>Hindu Holiday</td></tr><tr id=tr44  data-mask=134217728 data-date=1629676800000><th class=\"nw\" >23 Aug</th><td class=\"nw\" >Monday</td><td><a href=\"/holidays/pakistan/janam-ashtami\">Janmashtami</a></td><td>Optional Holiday</td></tr><tr id=hol_sep ></tr><tr id=tr46  data-mask=16 data-date=1630886400000><th class=\"nw\" >6 Sep</th><td class=\"nw\" >Monday</td><td><a href=\"/holidays/pakistan/defence-day\">Defence Day</a></td><td>Observance</td></tr><tr id=tr47  data-mask=1048576 data-date=1631232000000><th class=\"nw\" >10 Sep</th><td class=\"nw\" >Friday</td><td><a href=\"/holidays/pakistan/hindu-ganesh-chaturthi\">Ganesh Chaturthi</a></td><td>Hindu Holiday</td></tr><tr id=tr48  data-mask=256 data-date=1632356471000><th class=\"nw\" >23 Sep</th><td class=\"nw\" >Thursday</td><td><a href=\"/calendar/september-equinox.html\">September Equinox</a></td><td>Season</td></tr><tr id=tr49  data-mask=134217728 data-date=1632787200000><th class=\"nw\" >28 Sep</th><td class=\"nw\" >Tuesday</td><td><a href=\"/holidays/pakistan/chelum\">Chelum (Tentative Date)</a></td><td>Optional Holiday</td></tr><tr id=hol_oct ></tr><tr id=tr51  data-mask=1048576 data-date=1633564800000><th class=\"nw\" >7 Oct</th><td class=\"nw\" >Thursday</td><td><a href=\"/holidays/pakistan/hindu-navaratri\">First Day of Navaratri</a></td><td>Hindu Holiday</td></tr><tr id=tr52  data-mask=134217728 data-date=1634083200000><th class=\"nw\" >13 Oct</th><td class=\"nw\" >Wednesday</td><td><a href=\"/holidays/pakistan/durga-puja\">Durga Puja</a></td><td>Optional Holiday</td></tr><tr id=tr53  data-mask=134217728 data-date=1634256000000><th class=\"nw\" >15 Oct</th><td class=\"nw\" >Friday</td><td><a href=\"/holidays/pakistan/dussehra\">Dussehra</a></td><td>Optional Holiday</td></tr><tr id=tr54  data-mask=134217728 data-date=1634515200000><th class=\"nw\" >18 Oct</th><td class=\"nw\" >Monday</td><td><a href=\"/holidays/pakistan/giarhwin-sharief\">Giarhwin Sharief (Tentative Date)</a></td><td>Optional Holiday</td></tr><tr id=tr55  data-mask=1 data-date=1634601600000><th class=\"nw\" >19 Oct</th><td class=\"nw\" >Tuesday</td><td><a href=\"/holidays/pakistan/eid-milad-un-nabi\">Eid Milad un-Nabi (Tentative Date)</a></td><td>Public Holiday</td></tr><tr id=tr56  data-mask=134217728 data-date=1634688000000><th class=\"nw\" >20 Oct</th><td class=\"nw\" >Wednesday</td><td><a href=\"/holidays/pakistan/guru-balmik-sawami-ji-birthday\">Birthday of Guru Balmik Sawami Ji</a></td><td>Optional Holiday</td></tr><tr id=hol_nov ></tr><tr id=tr58  data-mask=135266304 data-date=1635984000000><th class=\"nw\" >4 Nov</th><td class=\"nw\" >Thursday</td><td><a href=\"/holidays/pakistan/diwali\">Diwali/Deepavali</a></td><td>Optional Holiday</td></tr><tr id=tr59  data-mask=16 data-date=1636416000000><th class=\"nw\" >9 Nov</th><td class=\"nw\" >Tuesday</td><td><a href=\"/holidays/pakistan/iqbal-day\">Iqbal Day</a></td><td>Observance</td></tr><tr id=hol_dec ></tr><tr id=tr61  data-mask=256 data-date=1640120358000><th class=\"nw\" >21 Dec</th><td class=\"nw\" >Tuesday</td><td><a href=\"/calendar/december-solstice.html\">December Solstice</a></td><td>Season</td></tr><tr id=tr62  data-mask=16 data-date=1640304000000><th class=\"nw\" >24 Dec</th><td class=\"nw\" >Friday</td><td><a href=\"/holidays/pakistan/christmas-eve\">Christmas Eve</a></td><td>Observance</td></tr><tr id=tr63  data-mask=1 data-date=1640390400000><th class=\"nw\" >25 Dec</th><td class=\"nw\" >Saturday</td><td><a href=\"/holidays/pakistan/christmas-day\">Christmas Day</a></td><td>Public Holiday</td></tr><tr id=tr64  data-mask=1 data-date=1640390400000><th class=\"nw\" >25 Dec</th><td class=\"nw\" >Saturday</td><td><a href=\"/holidays/pakistan/quaid-e-azam-day\">Quaid-e-Azam Day</a></td><td>Public Holiday</td></tr><tr id=tr65  data-mask=134217728 data-date=1640476800000><th class=\"nw\" >26 Dec</th><td class=\"nw\" >Sunday</td><td><a href=\"/holidays/pakistan/day-of-goodwill\">Day After Christmas (Christians only)</a></td><td>Optional Holiday</td></tr><tr id=tr66  data-mask=16 data-date=1640908800000><th class=\"nw\" >31 Dec</th><td class=\"nw\" >Friday</td><td><a href=\"/holidays/pakistan/new-year-eve\">New Year&#39;s Eve</a></td><td>Observance</td></tr></tbody></table><script type=\"text/javascript\">\\nTAD=window.TAD||{};TAD.year=2021;TAD.has_next=1;TAD.country=64;TAD.chm=139465041;TAD.dhm=139465049;TAD.local_sod=1628726400;\\n</script>\\n\\n\\n\\n<p class=holiday-country__no-holidays>No holidays shown? That\\'s because you didn\\'t select any holiday types. Please check at least one of the boxes.</p><p class=holiday-country__disclaimer><em>While we diligently research and update our holiday dates, some of the information in the table above may be preliminary. If you find an error, please <a href=\"/information/feedback.html?url=/holidays/\" alt=\"Send feedback to us\" onclick=\"return bls(this)\">let us know</a>.</em></p><ul class=pager><li class=pager__prev><a href=\"/holidays/pakistan/2020\">2020</a></li><li class=\"pager__current--dropdown pager__current\"><select id=year name=year data-tad-control=\"HolidayCountry.Year\" data-tad-options=\"{baseURL:\\'/holidays/pakistan/\\'}\"><option value=2000>2000</option><option value=2001>2001</option><option value=2002>2002</option><option value=2003>2003</option><option value=2004>2004</option><option value=2005>2005</option><option value=2006>2006</option><option value=2007>2007</option><option value=2008>2008</option><option value=2009>2009</option><option value=2010>2010</option><option value=2011>2011</option><option value=2012>2012</option><option value=2013>2013</option><option value=2014>2014</option><option value=2015>2015</option><option value=2016>2016</option><option value=2017>2017</option><option value=2018>2018</option><option value=2019>2019</option><option value=2020>2020</option><option value=2021 selected>2021</option><option value=2022>2022</option><option value=2023>2023</option><option value=2024>2024</option><option value=2025>2025</option><option value=2026>2026</option><option value=2027>2027</option><option value=2028>2028</option><option value=2029>2029</option><option value=2030>2030</option></select></li><li class=pager__next><a href=\"/holidays/pakistan/2022\">2022</a></li></section><section class=calendar-links><a class=calendar-links__item href=\"#\" data-tad-control=\"HolidayCountry.Link\" data-tad-options=\"{ url: \\'/calendar/custom.html\\', year: TAD.year, country: TAD.country }\"><i class=\"i-font i-cal_tick mgr5\"></i> Show holidays on a calendar </a><span>|</span><a class=calendar-links__item href=\"#\" data-tad-control=\"HolidayCountry.Link\" data-tad-options=\"{ url: \\'/calendar/create.html\\', year: TAD.year, country: TAD.country }\"><i class=\"i-font i-print mgr5\"></i> Print holidays to PDF </a></section></article><article class=unknown-country><h3>Unable to find that country</h3> Please check your spelling and try again or select one of the <a href=\"/holidays/\">available countries</a>. </article></section><aside class=layout-grid__sidebar><div class=\"clip-block clip-block--calendar\"><h3 class=clip-block__title>Create Calendar With Holidays</h3><form name=cf id=cf class=\"small ten\" method=get action=\"/scripts/createcal2.php\"><div class=form-row><label class=\"inline six\"><input type=radio name=typ value=0 checked>Full year</label><input placeholder=yyyy type=text autocomplete=off  tad-va=date onfocus=\"ifc(this,\\'y\\')\" pattern=\"[0-9]*\" maxlength=4 size=9 id=boxyear name=year title=\"Enter year as a 4-digit number.\" class=six value=2021></div><div class=form-row><label class=\"inline six\"><input type=radio name=typ value=1>Month</label><select id=month name=month class=\"inline six\" onchange=\\'document.cf.typ[1].checked=true\\'><option value=1>January</option><option value=2>February</option><option value=3>March</option><option value=4>April</option><option value=5>May</option><option value=6>June</option><option value=7>July</option><option value=8 selected>August</option><option value=9>September</option><option value=10>October</option><option value=11>November</option><option value=12>December</option></select></div><div class=form-row><select id=country name=country class=\"inline twelve\" title=\"Select country\"><option value=29>Australia</option><option value=27>Canada</option><option value=35>India</option><option value=32>Ireland</option><option value=30>New Zealand</option><option value=9>United Kingdom</option><option value=1>United States</option><option value=160>Afghanistan</option><option value=93>Albania</option><option value=123>Algeria</option><option value=207>American Samoa</option><option value=97>Andorra</option><option value=127>Angola</option><option value=217>Anguilla</option><option value=221>Antigua and Barbuda</option><option value=37>Argentina</option><option value=102>Armenia</option><option value=177>Aruba</option><option value=29>Australia</option><option value=36>Austria</option><option value=85>Azerbaijan</option><option value=110>Bahamas</option><option value=133>Bahrain</option><option value=233>Bangladesh</option><option value=112>Barbados</option><option value=83>Belarus</option><option value=31>Belgium</option><option value=193>Belize</option><option value=148>Benin</option><option value=113>Bermuda</option><option value=198>Bhutan</option><option value=53>Bolivia</option><option value=86>Bosnia and Herzegovina</option><option value=144>Botswana</option><option value=33>Brazil</option><option value=224>British Virgin Islands</option><option value=79>Brunei</option><option value=73>Bulgaria</option><option value=165>Burkina Faso</option><option value=166>Burundi</option><option value=140>Cambodia</option><option value=134>Cameroon</option><option value=27>Canada</option><option value=157>Cape Verde</option><option value=111>Cayman Islands</option><option value=167>Central African Republic</option><option value=161>Chad</option><option value=43>Chile</option><option value=41>China</option><option value=46>Colombia</option><option value=172>Comoros</option><option value=84>Congo DR</option><option value=208>Cook Islands</option><option value=58>Costa Rica</option><option value=28>Croatia</option><option value=51>Cuba</option><option value=189>Cura\\xc3\\xa7ao</option><option value=94>Cyprus</option><option value=3>Czech Republic</option><option value=2>Denmark</option><option value=153>Djibouti</option><option value=229>Dominica</option><option value=52>Dominican Republic</option><option value=49>Ecuador</option><option value=80>Egypt</option><option value=55>El Salvador</option><option value=61>Equatorial Guinea</option><option value=168>Eritrea</option><option value=72>Estonia</option><option value=81>Ethiopia</option><option value=219>Falkland Islands</option><option value=175>Faroe Islands</option><option value=180>Fiji</option><option value=24>Finland</option><option value=5>France</option><option value=235>French Guiana</option><option value=205>French Polynesia</option><option value=150>Gabon</option><option value=149>Gambia</option><option value=87>Georgia</option><option value=8>Germany</option><option value=118>Ghana</option><option value=119>Gibraltar</option><option value=11>Greece</option><option value=138>Greenland</option><option value=22>Gregorian calendar</option><option value=182>Grenada</option><option value=236>Guadeloupe</option><option value=188>Guam</option><option value=50>Guatemala</option><option value=191>Guernsey</option><option value=169>Guinea</option><option value=173>Guinea-Bissau</option><option value=227>Guyana</option><option value=103>Haiti</option><option value=54>Honduras</option><option value=42>Hong Kong</option><option value=12>Hungary</option><option value=88>Iceland</option><option value=35>India</option><option value=65>Indonesia</option><option value=75>Iran</option><option value=109>Iraq</option><option value=32>Ireland</option><option value=234>Isle of Man</option><option value=34>Israel</option><option value=13>Italy</option><option value=125>Ivory Coast</option><option value=117>Jamaica</option><option value=26>Japan</option><option value=192>Jersey</option><option value=44>Jordan</option><option value=23>Julian calendar</option><option value=82>Kazakhstan</option><option value=105>Kenya</option><option value=194>Kiribati</option><option value=120>Kosovo</option><option value=108>Kuwait</option><option value=136>Kyrgyzstan</option><option value=176>La R\\xc3\\xa9union</option><option value=200>Laos</option><option value=89>Latvia</option><option value=121>Lebanon</option><option value=163>Lesotho</option><option value=129>Liberia</option><option value=124>Libya</option><option value=96>Liechtenstein</option><option value=90>Lithuania</option><option value=17>Luxembourg</option><option value=186>Macau</option><option value=156>Madagascar</option><option value=162>Malawi</option><option value=69>Malaysia</option><option value=201>Maldives</option><option value=152>Mali</option><option value=95>Malta</option><option value=213>Marshall Islands</option><option value=181>Martinique</option><option value=210>Mauritania</option><option value=143>Mauritius</option><option value=171>Mayotte</option><option value=40>Mexico</option><option value=211>Micronesia</option><option value=91>Moldova</option><option value=99>Monaco</option><option value=185>Mongolia</option><option value=101>Montenegro</option><option value=220>Montserrat</option><option value=106>Morocco</option><option value=126>Mozambique</option><option value=190>Myanmar</option><option value=130>Namibia</option><option value=215>Nauru</option><option value=187>Nepal</option><option value=204>New Caledonia</option><option value=30>New Zealand</option><option value=57>Nicaragua</option><option value=158>Niger</option><option value=77>Nigeria</option><option value=183>North Korea</option><option value=92>North Macedonia</option><option value=225>Northern Mariana Islands</option><option value=18>Norway</option><option value=135>Oman</option><option value=64 selected>Pakistan</option><option value=212>Palau</option><option value=60>Panama</option><option value=202>Papua New Guinea</option><option value=56>Paraguay</option><option value=47>Peru</option><option value=67>Philippines</option><option value=14>Poland</option><option value=15>Portugal</option><option value=114>Puerto Rico</option><option value=107>Qatar</option><option value=151>Republic of the Congo</option><option value=19>Romania</option><option value=20>Russia</option><option value=128>Rwanda</option><option value=232>Saint Barth\\xc3\\xa9lemy</option><option value=170>Saint Helena</option><option value=226>Saint Kitts and Nevis</option><option value=218>Saint Lucia</option><option value=231>Saint Martin</option><option value=228>Saint Pierre and Miquelon</option><option value=222>Saint Vincent and the Grenadines</option><option value=206>Samoa</option><option value=98>San Marino</option><option value=174>S\\xc3\\xa3o Tom\\xc3\\xa9 and Pr\\xc3\\xadncipe</option><option value=74>Saudi Arabia</option><option value=147>Senegal</option><option value=38>Serbia</option><option value=154>Seychelles</option><option value=164>Sierra Leone</option><option value=63>Singapore</option><option value=230>Sint Maarten</option><option value=39>Slovakia</option><option value=45>Slovenia</option><option value=209>Solomon Islands</option><option value=137>Somalia</option><option value=62>South Africa</option><option value=70>South Korea</option><option value=146>South Sudan</option><option value=16>Spain</option><option value=116>Sri Lanka</option><option value=145>Sudan</option><option value=178>Suriname</option><option value=155>Swaziland</option><option value=21>Sweden</option><option value=10>Switzerland</option><option value=132>Syria</option><option value=71>Taiwan</option><option value=197>Tajikistan</option><option value=115>Tanzania</option><option value=68>Thailand</option><option value=25>The Netherlands</option><option value=199>Timor-Leste</option><option value=159>Togo</option><option value=195>Tonga</option><option value=104>Trinidad and Tobago</option><option value=122>Tunisia</option><option value=4>Turkey</option><option value=196>Turkmenistan</option><option value=223>Turks and Caicos Islands</option><option value=214>Tuvalu</option><option value=179>U.S. Virgin Islands</option><option value=139>Uganda</option><option value=76>Ukraine</option><option value=66>United Arab Emirates</option><option value=9>United Kingdom</option><option value=1>United States</option><option value=59>Uruguay</option><option value=184>Uzbekistan</option><option value=203>Vanuatu</option><option value=100>Vatican City</option><option value=48>Venezuela</option><option value=78>Vietnam</option><option value=216>Wallis and Futuna</option><option value=131>Yemen</option><option value=142>Zambia</option><option value=141>Zimbabwe</option></select></div><div class=form-row><input type=submit value=\"View calendar\"></div></form></div><div class=sticky><div id=ad300>Advertising<br><div id=\\'div-gpt-com-300x250\\' style=\\'width:300px;height:250px;\\'><script>\\ngoogletag.cmd.push(function(){googletag.display(\\'div-gpt-com-300x250\\'); });\\n</script>\\n</div></div><div class=\"clip-block clip-block--social\"><div id=blksocial><div class=social data-social=facebook><div class=links><div class=fb-like data-layout=button_count data-action=like data-show-faces=true data-share=true></div></div><div class=reveal> Share on Facebook </div><div class=logo></div></div><div class=social data-social=twitter><div class=links><a href=\"https://twitter.com/share\" class=twitter-share-button data-via=twitterapi data-lang=en>Tweet</a></div><div class=reveal> Share on Twitter </div><div class=logo></div></div></div></div><p class=\"help-link noprint\"><a href=\"/holidays/help.html\"> Need some help?</a></p><div class=botlnk><h2>Other Calendars</h2><ul><li><a href=\"/calendar/\">Calendar for 2021</a></li><li><a href=\"/calendar/generate.html\">Calendar Generator</a> &#8211; Create a calendar for any year.</li><li><a href=\"/calendar/create.html\">Printable Calendar (PDF)</a> &#8211; Calendars especially made for printing</li></ul><h2>Related Links</h2><ul><li><a href=\"/moon/phases/\">Moon Phase Calendar</a> &#8211; Calculate moon phases for any year.</li><li><a href=\"/date/duration.html\">Duration Between Two Dates</a> &#8211; Calculates number of days.</li><li><a href=\"/date/dateadd.html\">Date Calculator</a> &#8211; Add or subtract days, months, years</li><li><a href=\"/countdown/newyear\">Countdown to New Year</a></li></ul></div></div></aside></main></div><section id=rel-posts class=rel-posts><div class=pdflexi><div class=fixed><h2 class=rel-posts__title id=translateyou>You Might Also Like</h2><div class=layout-cards><article class=card><a href=\"/holidays/pakistan/independence-day\" class=\"card__link\" aria-label=\"Independence Day\"><div class=\"card__img-wrap\"><img src=\"/gfx/190x126/pakind.jpg\" width=300 height=168 alt=\"Pakistan Independence Day\" class=card__img loading=lazy></div><section class=card__content><h4 class=card__title>Independence Day</h4><p class=card__text>Pakistan celebrates its Independence Day on August 14. This day marks Pakistan\\xe2\\x80\\x99s emergence as an independent state. </p></section></a></article><article class=card><a href=\"/holidays/pakistan/janam-ashtami\" class=\"card__link\" aria-label=\"Janmashtami\"><div class=\"card__img-wrap\"><img src=\"/gfx/190x126/krishna-hindu.jpg\" width=300 height=168 alt=\"\" class=card__img loading=lazy></div><section class=card__content><h4 class=card__title>Janmashtami</h4><p class=card__text>Krishna Janmashtami is a Hindu festival that celebrates the birth of Krishna, the eighth incarnation of the god Vishnu. It is celebrated on the eighth day of the Hindu month of Bhadrava (Bhadrapada), which is usually in August or September.</p></section></a></article><article class=card><a href=\"/astronomy/moon/sturgeon.html\" class=\"card__link\" aria-label=\"Sturgeon Moon in August\"><div class=\"card__img-wrap\"><img src=\"https://c.tadst.com/gfx/300x168/sturgeon-fish.jpg?1\" width=300 height=168 alt=\"Sturgeon Moon in August\" class=card__img loading=lazy></div><section class=card__content><h4 class=card__title>Sturgeon Moon in August</h4><p class=card__text>The Full Moon in August is named after the lake sturgeon. Find date and local time for the Full Moon in any location.</p></section></a></article><article class=card><a href=\"/holidays/pakistan/eid-milad-un-nabi\" class=\"card__link\" aria-label=\"Eid Milad un-Nabi\"><div class=\"card__img-wrap\"><img src=\"/gfx/190x126/prophetbdaypk.jpg\" width=300 height=168 alt=\"Muslims in Karachi, Pakistan take out the procession for the birthday of the Holy Prophet Muhammed\" class=card__img loading=lazy></div><section class=card__content><h4 class=card__title>Eid Milad un-Nabi</h4><p class=card__text>Eid Milad-un-Nabi (festival of the Prophet Muhammad\\xe2\\x80\\x99s birth) is observed with religious reverence in Pakistan.</p></section></a></article></div></div></div></section><script src=\"/common/wcommon_146.js\"></script><script src=\"/common/page_holiday_country_8.js\"></script> </div>\\n</div>\\n\\n<footer class=\"footer\">\\n <section class=\"feedback-bar\">\\n <div class=\"fixed feedback-bar__wrap\">\\n <section id=\"instant-feedback\" class=\"feedback-bar__instant-feedback\">\\n <span class=\"feedback-bar__msg\">How was your experience?</span>\\n <span class=\"feedback-bar__thankyou\">Thank you for your feedback!</span>\\n <a href=\"#\" onclick=\"return blif(1)\" class=\"feedback-bar__thumb feedback-bar__thumb--up\" title=\"Vote Good\" aria-label=\"Vote for having a good experience\"><svg xmlns=\"http://www.w3.org/2000/svg\" width=\"24\" height=\"24\" viewBox=\"0 0 24 24\"><path fill=\"none\" d=\"M0 0h24v24H0V0z\"/><path d=\"M1 21h4V9H1v12zm22-11c0-1.1-.9-2-2-2h-6.31l.95-4.57.03-.32c0-.41-.17-.79-.44-1.06L14.17 1 7.59 7.59C7.22 7.95 7 8.45 7 9v10c0 1.1.9 2 2 2h9c.83 0 1.54-.5 1.84-1.22l3.02-7.05c.09-.23.14-.47.14-.73v-2z\"/></svg></a>\\n \\n <a href=\"#\" onclick=\"return blif(0)\" class=\"feedback-bar__thumb feedback-bar__thumb--down\" title=\"Vote Bad\" aria-label=\"Vote for having a bad experience\"><svg xmlns=\"http://www.w3.org/2000/svg\" width=\"24\" height=\"24\" viewBox=\"0 0 24 24\"><path fill=\"none\" d=\"M0 0h24v24H0z\"/><path d=\"M15 3H6c-.83 0-1.54.5-1.84 1.22l-3.02 7.05c-.09.23-.14.47-.14.73v2c0 1.1.9 2 2 2h6.31l-.95 4.57-.03.32c0 .41.17.79.44 1.06L9.83 23l6.59-6.59c.36-.36.58-.86.58-1.41V5c0-1.1-.9-2-2-2zm4 0v12h4V3h-4z\"/></svg>\\n </a>\\n </section>\\n \\n <section class=\"feedback-bar__contact\"><a id=bls1 href=\"/information/feedback.html\" onclick=\"return bls(this)\">Contact Us \\n<svg xmlns=\"http://www.w3.org/2000/svg\" width=\"24\" height=\"24\" viewBox=\"0 0 24 24\"><path d=\"M20 4H4c-1.1 0-1.99.9-1.99 2L2 18c0 1.1.9 2 2 2h16c1.1 0 2-.9 2-2V6c0-1.1-.9-2-2-2zm0 4l-8 5-8-5V6l8 5 8-5v2z\"/><path d=\"M0 0h24v24H0z\" fill=\"none\"/></svg></a></section>\\n </div>\\n </section>\\n\\n <section class=\"fixed footer__wrap\">\\n <section class=\"footer__block footer__block--promo\">\\n <article class=\"footer-card\">\\n <a href=\"/services/supporter.html\" class=\"footer-card__img-link\">\\n <img class=\"footer-card__img\" width=\"100\" height=\"100\" src=\"//c.tadst.com/gfx/n/i/service__supporter.svg\" loading=\"lazy\" alt=\"Illustration of a pink shield with a white heart.\" />\\n </a>\\n <section class=\"footer-card__content\">\\n <h4 class=\"footer-card__title\">\\n <a href=\"/services/supporter.html\">\\n  Love Our Site? Become a Supporter\\n  </a>\\n </h4>\\n <ul class=\"footer-card__text\">\\n <li>Browse our site <strong>advert free.</strong></li>\\n <li>Sun &amp; Moon times <strong>precise to the second.</strong></li>\\n <li><strong>Exclusive calendar templates</strong> for PDF Calendar.</li>\\n </ul>\\n </section>\\n </article>\\n <section class=\"footer__logo\">\\n <a href=\"/\" rel=\"home\"><img src=\"//c.tadst.com/gfx/n/tad-logo-com3.png\" alt=\"The timeanddate logo\" width=170 height=88></a>\\n <p><a href=\"/information/copyright.html\">\\xc2\\xa9 Time and Date AS 1995\\xe2\\x80\\x932021</a></p>\\n </section>\\n </section>\\n <section class=\"footer__block footer__block--links-wrap\">\\n <section class=\"footer__links\">\\n <nav class=\"footer__links-block footer__links-block--company\">\\n <h4>Company</h4>\\n <ul>\\n <li><a href=\"/company/\">About us</a></li>\\n <li><a href=\"/company/jobs\">Careers/Jobs</a></li>\\n <li><a href=\"/information/feedback.html\" id=bls2 onclick=\"return bls(this)\">Contact Us</a></li>\\n  <li><a href=\"/information/contact.html\">Contact Details</a></li>\\n   <li><a href=\"/sitemap.html\">Sitemap</a></li>\\n  <li><a href=\"/newsletter/\">Newsletter</a></li>\\n </ul>\\n </nav>\\n <nav class=\"footer__links-block footer__links-block--legal\">\\n <h4>Legal</h4>\\n <ul>\\n <li><a href=\"/information/copyright.html\">Link policy</a></li>\\n <li><a href=\"/information/advertising.html\">Advertising</a></li>\\n <li><a href=\"/information/disclaimer.html\">Disclaimer</a></li>\\n <li><a href=\"/information/terms-conditions.html\">Terms &amp; Conditions</a></li>\\n <li><a href=\"/information/privacy.html\">Privacy Policy</a></li>\\n\\n\\n <li><a href=\"/custom/privacy.html\">My Privacy</a></li>\\n \\n  \\n \\n \\n </ul>\\n </nav>\\n <nav class=\"footer__links-block footer__links-block--services\">\\n <h4>Services</h4>\\n <ul>\\n <li><a href=\"/worldclock/\">World Clock</a></li>\\n <li><a href=\"/time/\">Time Zones</a></li>\\n <li><a href=\"/calendar/\">Calendar</a></li>\\n <li><a href=\"/weather/\">Weather</a></li>\\n <li><a href=\"/astronomy/\">Sun &amp; Moon</a></li>\\n <li><a href=\"/counters/\">Timers</a></li>\\n <li><a href=\"/date/\">Calculators</a></li>\\n <li><a href=\"/services/api/\">API</a></li>\\n </ul>\\n </nav>\\n <nav class=\"footer__links-block footer__links-block--sites\">\\n <h4>Sites</h4>\\n <ul>\\n   <li><a href=\"https://www.timeanddate.no\">timeanddate.no</a></li>\\n   <li><a href=\"https://www.timeanddate.de\">timeanddate.de</a></li>\\n  </ul>\\n </nav>\\n <section class=\"footer__social\">\\n <h4>Follow Us</h4>\\n <div class=\"footer__social-icons\">\\n <a href=\"https://www.facebook.com/timeanddate/\"><i class=\"footer__social-icon footer__social-icon--facebook\" title=\"timeanddate.com on Facebook\"></i></a>\\n <a href=\"https://twitter.com/timeanddate\"><i class=\"footer__social-icon footer__social-icon--twitter\" title=\"timeanddate.com on Twitter\"></i></a>\\n <a href=\"https://www.linkedin.com/company/time-and-date-as/about/\"><i class=\"footer__social-icon footer__social-icon--linkedin\" title=\"timeanddate.com on Linkedin\"></i></a>\\n <a href=\"https://www.instagram.com/timeanddatecom/\"><i class=\"footer__social-icon footer__social-icon--instagram\" title=\"timeanddate.com on Instagram\"></i></a>\\n <a href=\"https://www.youtube.com/c/timeanddate\"><i class=\"footer__social-icon footer__social-icon--youtube\" title=\"timeanddate.com on YouTube\"></i></a>\\n </div>\\n </section>\\n </section>\\n \\n <p class=\"footer__copyright\">\\n \\xc2\\xa9 Time and Date AS 1995\\xe2\\x80\\x932021. \\n <a href=\"/information/copyright.html\">Privacy &amp; Terms</a>\\n </p>\\n </section>\\n </section>\\n</footer>\\n<!-- FOOTER END -->\\n\\n<script>\\n \\nbli();main();\\n \\n</script>\\n \\n<div id=FBD style=\"display:none\" class=wfc></div>\\n\\n\\n\\n\\n</body></html>'"
      ]
     },
     "execution_count": 5,
     "metadata": {},
     "output_type": "execute_result"
    }
   ],
   "source": [
    "site.content"
   ]
  },
  {
   "cell_type": "code",
   "execution_count": null,
   "id": "threatened-bolivia",
   "metadata": {},
   "outputs": [],
   "source": []
  },
  {
   "cell_type": "code",
   "execution_count": 8,
   "id": "minute-functionality",
   "metadata": {},
   "outputs": [],
   "source": [
    "g_page_config = re.search(r\"g_page_config = (.*?);\\n\", site.text)\n",
    "page_config_json = json.loads(g_page_config.group(1))\n",
    "page_items = page_config_json['mods']['itemlist']['data']['auctions']"
   ]
  },
  {
   "cell_type": "code",
   "execution_count": 9,
   "id": "reduced-mixture",
   "metadata": {},
   "outputs": [],
   "source": [
    "soup = BeautifulSoup(site.content)"
   ]
  },
  {
   "cell_type": "code",
   "execution_count": 10,
   "id": "corresponding-triumph",
   "metadata": {},
   "outputs": [],
   "source": [
    "def get_items(res):\n",
    "    g_page_config = re.search(r\"g_page_config = (.*?);\\n\", res.text)\n",
    "    page_config_json = json.loads(g_page_config.group(1))\n",
    "    page_items = page_config_json['mods']['itemlist']['data']['auctions']\n",
    "    result = []\n",
    "    for each_item in page_items:\n",
    "        dict1 = dict.fromkeys(('nid','title','detail_url','view_price','view_sales','nick'))\n",
    "        dict1['nid'] = each_item['nid']\n",
    "        dict1['title'] = each_item['title']\n",
    "        dict1['detail_url'] = each_item['detail_url']\n",
    "        if \"https:\" not in dict1['detail_url']:\n",
    "            dict1['detail_url'] = \"https:\"+each_item['detail_url']\n",
    "        dict1['view_price'] = each_item['view_price']\n",
    "        dict1['view_sales'] = each_item['view_sales']\n",
    "        dict1['nick'] = each_item['nick']\n",
    "        result.append(dict1)\n",
    "#         return dict1\n",
    "    return result[:]"
   ]
  },
  {
   "cell_type": "code",
   "execution_count": 41,
   "id": "enhanced-spanking",
   "metadata": {},
   "outputs": [],
   "source": [
    "items_list = get_items(site)"
   ]
  },
  {
   "cell_type": "code",
   "execution_count": 83,
   "id": "twenty-trick",
   "metadata": {},
   "outputs": [],
   "source": [
    "images_urls_array = []\n",
    "description_html_array = []\n",
    "urls_saved_array = []"
   ]
  },
  {
   "cell_type": "code",
   "execution_count": 84,
   "id": "north-output",
   "metadata": {
    "collapsed": true
   },
   "outputs": [
    {
     "name": "stdout",
     "output_type": "stream",
     "text": [
      "https://click.simba.taobao.com/cc_im?p=%CA%CE%C6%B7DIY&s=1101015495&k=537&e=5Hq7V1uRzJLSlRVnwQVU8Cz0YZ6FNCjqm6q3lT4hIvmmqH8A4tuR%2BLT%2FetT5llAk0SHv59WZP6nEp395Hdm0ZRdQ%2BFEl49WVErHMwRu8YKtSbZ3m%2BJ48OV%2FrtkWESJ9gLAJDloaWnZIyTZW5kIBHCfR0f9hiGIlTcw87rVCwPFAxdvvBDnq7gO9M58ToULGmhRdqYvm68aBJfy%2B5fL480dc0LAdg83lIlBtFr5s4dZBGw0QJvzk37oAoeP%2B9qh1pAdTp6AFUG1Gne6iUO7iOXDmHz2Gu3aKZ8OWgp4yOPYikAZd75D%2FOocMM0zb3SnXgysrTguWsCc7lWI%2FjG92UTpB%2FpmRG%2FGfPAhw8ep%2F7p%2BtfWpLjLsixtlIst0MmeMQijSKkHapJZWyG4VwHHgfudBGHObX9Ss9mQuvhaIj9kbNoD0SrG7Uedx5JsxTA5Oc%2F0ngaWMUx271Te8uTO%2F9I09Yv2KKKxe8SB7YH7bv0uefmLxkd5Ltpp4I5aTDJdlqIybNMAlq47laiJ7KvMetfWg%3D%3D#detail\n",
      "https://click.simba.taobao.com/cc_im?p=%CA%CE%C6%B7DIY&s=1101015495&k=557&e=fQPTmhjdi67SlRVnwQVU8Cz0YZ6FNCjqm6q3lT4hIvmmqH8A4tuR%2BLT%2FetT5llAk0SHv59WZP6lkAmQ1idKrJHsRrQjpLi93Zxs8WUqdLz9SbZ3m%2BJ48OV%2FrtkWESJ9gLAJDloaWnZIyTZW5kIBHCfR0f9hiGIlTcw87rVCwPFAxdvvBDnq7gO9M58ToULGmhRdqYvm68aBJfy%2B5fL480SX7zuDg%2FgcM8q%2FSpA34YUWaLbp5oN1Zg44rZMkAoCjQdqYjhYfZuZWd8NUdrkN9UtmSgu8SqSlYzaiPO2sZeYnw8gFutc8bccrLJQw0sXnFo0usWxg%2FXer9%2BZS4%2BAiOa9W0PrqiH8LpOxsnxcPWvMXsIevgpR7rGvn96mhWVwkEhGFuI%2FdZL7NZqm6Wp4w6KK9n21%2F0%2FxWCOPb05vrBuR9qTJzTbfCQpWHQEw488OknFJuz3vN61PTj6BnianXuX142e%2BKCKbCptSPt2LAk%2F7WVuRDDJxiQ4NSdqmqWWL6Vjsf4NkgL6tSJcXsaxy1tY0xUCRdrrlr1NuDurO7CHmM%3D\n",
      "HTTPSConnectionPool(host='item.taobao.com', port=443): Max retries exceeded with url: /item.htm?id=625163262403&ali_refid=a3_430620_1006:1120988928:N:tBWqmx8brUulgqcyWmeruw%3D%3D:8a2f20cf86c155f5d854ca8111c97ee5&ali_trackid=1_8a2f20cf86c155f5d854ca8111c97ee5 (Caused by SSLError(SSLError(\"bad handshake: Error([('SSL routines', 'ssl3_read_bytes', 'tlsv1 alert internal error')])\")))\n",
      "HTTPSConnectionPool(host='item.taobao.com', port=443): Max retries exceeded with url: /item.htm?id=533262884992&ns=1&abbucket=5 (Caused by SSLError(SSLError(\"bad handshake: Error([('SSL routines', 'ssl3_read_bytes', 'tlsv1 alert internal error')])\")))\n",
      "HTTPSConnectionPool(host='item.taobao.com', port=443): Max retries exceeded with url: /item.htm?id=618373388316&ns=1&abbucket=5 (Caused by SSLError(SSLError(\"bad handshake: Error([('SSL routines', 'ssl3_read_bytes', 'tlsv1 alert internal error')])\")))\n",
      "HTTPSConnectionPool(host='item.taobao.com', port=443): Max retries exceeded with url: /item.htm?id=542165949613&ns=1&abbucket=5 (Caused by SSLError(SSLError(\"bad handshake: Error([('SSL routines', 'ssl3_read_bytes', 'tlsv1 alert internal error')])\")))\n",
      "HTTPSConnectionPool(host='detail.tmall.com', port=443): Max retries exceeded with url: /item.htm?id=617415720505&ns=1&abbucket=5 (Caused by SSLError(SSLError(\"bad handshake: Error([('SSL routines', 'ssl3_read_bytes', 'tlsv1 alert internal error')])\")))\n",
      "https://item.taobao.com/item.htm?id=40648876956&ns=1&abbucket=5#detail\n",
      "HTTPSConnectionPool(host='item.taobao.com', port=443): Max retries exceeded with url: /item.htm?id=563630123303&ns=1&abbucket=5 (Caused by SSLError(SSLError(\"bad handshake: Error([('SSL routines', 'ssl3_read_bytes', 'tlsv1 alert internal error')])\")))\n",
      "HTTPSConnectionPool(host='item.taobao.com', port=443): Max retries exceeded with url: /item.htm?id=588107151348&ns=1&abbucket=5 (Caused by SSLError(SSLError(\"bad handshake: Error([('SSL routines', 'ssl3_read_bytes', 'tlsv1 alert internal error')])\")))\n"
     ]
    }
   ],
   "source": [
    "for item in items_list[:10]:\n",
    "    try:\n",
    "        site1 = sess.get(item['detail_url'], allow_redirects=True)\n",
    "        try:\n",
    "            images_urls.append(eval(re.search(r\"auctionImages    : ([^\\}]*)\", site1.text).group(1).strip()))\n",
    "        except:\n",
    "            soup1 = BeautifulSoup(site1.content)\n",
    "            images_urls.append([x['src'].replace('jpg_60x60', 'jpg_500x500') for x in \n",
    "                                soup1.findAll('img', {'src':True,}) if \"jpg_60x60q90\" in x['src']])\n",
    "            description_html.append(soup1.find('div', {'class':'attributes-list'}))\n",
    "        print(item['detail_url'])\n",
    "        urls_saved_array.append(item['detail_url'])\n",
    "        sleep(2)\n",
    "    except Exception as ex:\n",
    "        print(ex)"
   ]
  },
  {
   "cell_type": "code",
   "execution_count": 85,
   "id": "plastic-solution",
   "metadata": {},
   "outputs": [
    {
     "data": {
      "text/plain": [
       "[['//gd3.alicdn.com/imgextra/i3/2437641482/O1CN01QqHOs21MondhIq7hU_!!2437641482.jpg',\n",
       "  '//gd2.alicdn.com/imgextra/i2/2437641482/O1CN01LZm1cO1MondSdSz9d_!!2437641482.jpg',\n",
       "  '//gd2.alicdn.com/imgextra/i2/2437641482/O1CN01h9aD161MondPKtCWk_!!2437641482.jpg',\n",
       "  '//gd1.alicdn.com/imgextra/i1/2437641482/O1CN01gCOaZI1MondRPed16_!!2437641482.jpg',\n",
       "  '//gd4.alicdn.com/imgextra/i4/2437641482/O1CN01wV2Nsi1MondMfN2aw_!!2437641482.jpg'],\n",
       " ['//img.alicdn.com/imgextra/i3/2208060893914/O1CN01C6qGVc1emeq41b2dG_!!0-item_pic.jpg_500x500q90.jpg',\n",
       "  '//img.alicdn.com/imgextra/i1/2208060893914/O1CN014kn2fh1emeq6Mfiah_!!2208060893914.jpg_500x500q90.jpg',\n",
       "  '//img.alicdn.com/imgextra/i3/2208060893914/O1CN01GUSlRb1emeq7G4JtW_!!2208060893914.jpg_500x500q90.jpg',\n",
       "  '//img.alicdn.com/imgextra/i3/2208060893914/O1CN01Je9iWF1emeq7usxA1_!!2208060893914.jpg_500x500q90.jpg',\n",
       "  '//img.alicdn.com/imgextra/i2/2208060893914/O1CN01npDqI81emeq3IHJpn_!!2208060893914.jpg_500x500q90.jpg'],\n",
       " ['//gd1.alicdn.com/imgextra/i2/92621300/O1CN014OGJd41LTRR0EIwCu_!!92621300.jpg',\n",
       "  '//gd3.alicdn.com/imgextra/i3/92621300/O1CN011LTRM2Mu8ETvV6C_!!92621300.jpg',\n",
       "  '//gd1.alicdn.com/imgextra/i1/92621300/TB2sR6LdgMPMeJjy1XcXXXpppXa_!!92621300.jpg',\n",
       "  '//gd4.alicdn.com/imgextra/i4/92621300/O1CN01OLi7bB1LTRRHUtnIM_!!92621300.jpg',\n",
       "  '//gd4.alicdn.com/imgextra/i4/92621300/O1CN01pwG2pa1LTRQyy96Kv_!!92621300.jpg']]"
      ]
     },
     "execution_count": 85,
     "metadata": {},
     "output_type": "execute_result"
    }
   ],
   "source": [
    "images_urls"
   ]
  },
  {
   "cell_type": "code",
   "execution_count": 79,
   "id": "confidential-definition",
   "metadata": {},
   "outputs": [
    {
     "ename": "NameError",
     "evalue": "name 'soup1' is not defined",
     "output_type": "error",
     "traceback": [
      "\u001b[1;31m---------------------------------------------------------------------------\u001b[0m",
      "\u001b[1;31mNameError\u001b[0m                                 Traceback (most recent call last)",
      "\u001b[1;32m<ipython-input-79-97833c5f653f>\u001b[0m in \u001b[0;36m<module>\u001b[1;34m\u001b[0m\n\u001b[1;32m----> 1\u001b[1;33m \u001b[0msoup1\u001b[0m\u001b[1;33m\u001b[0m\u001b[1;33m\u001b[0m\u001b[0m\n\u001b[0m",
      "\u001b[1;31mNameError\u001b[0m: name 'soup1' is not defined"
     ]
    }
   ],
   "source": [
    "soup1.find('div', {'class':'attributes-list'})"
   ]
  },
  {
   "cell_type": "code",
   "execution_count": 48,
   "id": "searching-equipment",
   "metadata": {},
   "outputs": [],
   "source": [
    "from selenium import webdriver\n",
    "from selenium.webdriver.common.keys import Keys\n",
    "from selenium.webdriver.common.by import By\n",
    "from selenium.webdriver.support.ui import WebDriverWait\n",
    "from selenium.webdriver.support import expected_conditions as EC\n",
    "from selenium.webdriver.chrome.options import Options\n",
    "from selenium.common.exceptions import TimeoutException\n",
    "import pandas as pd"
   ]
  },
  {
   "cell_type": "code",
   "execution_count": 49,
   "id": "found-choice",
   "metadata": {},
   "outputs": [],
   "source": [
    "options = Options()\n",
    "options.add_argument(\"--disable-blink-features\")\n",
    "options.add_argument(\"--disable-blink-features=AutomationControlled\")\n",
    "options.add_argument(\"start-maximized\")\n",
    "options.add_experimental_option(\"excludeSwitches\", [\"enable-automation\"])\n",
    "options.add_experimental_option('useAutomationExtension', False)\n",
    "dr = webdriver.Chrome(options=options)"
   ]
  },
  {
   "cell_type": "code",
   "execution_count": 50,
   "id": "medieval-privilege",
   "metadata": {},
   "outputs": [],
   "source": [
    "cookies = pd.read_json('cookies.json')"
   ]
  },
  {
   "cell_type": "code",
   "execution_count": 51,
   "id": "rental-engineer",
   "metadata": {},
   "outputs": [],
   "source": [
    "dr.set_page_load_timeout(6)"
   ]
  },
  {
   "cell_type": "code",
   "execution_count": 52,
   "id": "brave-austin",
   "metadata": {},
   "outputs": [],
   "source": [
    "try:\n",
    "    dr.get('https://s.taobao.com/search?spm=a21wu.241046-global.6977698868.164.4103b6cbbgbVCY&q=%E9%A5%B0%E5%93%81DIY&acm=lb-zebra-241046-2075394.1003.4.1812236&scm=1003.4.lb-zebra-241046-2075394.OTHER_15206383875223_1812236&bcoffset=6&ntoffset=6&p4ppushleft=1%2C48&s=0')\n",
    "except TimeoutException:\n",
    "    pass"
   ]
  },
  {
   "cell_type": "code",
   "execution_count": 53,
   "id": "simple-blake",
   "metadata": {
    "scrolled": true
   },
   "outputs": [],
   "source": [
    "for index, cookie in cookies.drop(['httpOnly', 'sameSite', 'session', 'storeId', 'id', 'hostOnly', 'expirationDate'], axis=1).iterrows():\n",
    "    dr.add_cookie(dict(cookie))"
   ]
  },
  {
   "cell_type": "code",
   "execution_count": 54,
   "id": "increased-sight",
   "metadata": {},
   "outputs": [],
   "source": [
    "url = 'https://s.taobao.com/search?q=camping+tents&type=p&tmhkh5=&spm=a21wu.241046-global.a2227oh.d100&from=sea_1_searchbutton&catId=100'"
   ]
  },
  {
   "cell_type": "code",
   "execution_count": 55,
   "id": "duplicate-review",
   "metadata": {},
   "outputs": [],
   "source": [
    "try:\n",
    "    dr.get(url)\n",
    "except TimeoutException:\n",
    "    pass"
   ]
  },
  {
   "cell_type": "code",
   "execution_count": 21,
   "id": "bottom-estimate",
   "metadata": {},
   "outputs": [],
   "source": [
    "NUM_PAGES = 1"
   ]
  },
  {
   "cell_type": "code",
   "execution_count": 22,
   "id": "innocent-equity",
   "metadata": {},
   "outputs": [],
   "source": [
    "prod_urls_array = []\n",
    "vendors_array = []"
   ]
  },
  {
   "cell_type": "code",
   "execution_count": 23,
   "id": "familiar-sleeve",
   "metadata": {
    "collapsed": true
   },
   "outputs": [
    {
     "ename": "TimeoutException",
     "evalue": "Message: \n",
     "output_type": "error",
     "traceback": [
      "\u001b[1;31m---------------------------------------------------------------------------\u001b[0m",
      "\u001b[1;31mTimeoutException\u001b[0m                          Traceback (most recent call last)",
      "\u001b[1;32m<ipython-input-23-2cdeb154a692>\u001b[0m in \u001b[0;36m<module>\u001b[1;34m\u001b[0m\n\u001b[0;32m     14\u001b[0m     \u001b[0mdr\u001b[0m\u001b[1;33m.\u001b[0m\u001b[0mfind_element_by_xpath\u001b[0m\u001b[1;33m(\u001b[0m\u001b[1;34m'//li[@class=\"item next\"]'\u001b[0m\u001b[1;33m)\u001b[0m\u001b[1;33m.\u001b[0m\u001b[0mclick\u001b[0m\u001b[1;33m(\u001b[0m\u001b[1;33m)\u001b[0m\u001b[1;33m\u001b[0m\u001b[1;33m\u001b[0m\u001b[0m\n\u001b[0;32m     15\u001b[0m     WebDriverWait(dr, 10).until(\n\u001b[1;32m---> 16\u001b[1;33m             \u001b[0mEC\u001b[0m\u001b[1;33m.\u001b[0m\u001b[0mvisibility_of_element_located\u001b[0m\u001b[1;33m(\u001b[0m\u001b[1;33m(\u001b[0m\u001b[0mBy\u001b[0m\u001b[1;33m.\u001b[0m\u001b[0mXPATH\u001b[0m\u001b[1;33m,\u001b[0m \u001b[1;34mf'//span[@class=\"num\" and contains(text(),{i+2})]'\u001b[0m\u001b[1;33m)\u001b[0m\u001b[1;33m)\u001b[0m\u001b[1;33m\u001b[0m\u001b[1;33m\u001b[0m\u001b[0m\n\u001b[0m\u001b[0;32m     17\u001b[0m         )\n",
      "\u001b[1;32m~\\AppData\\Roaming\\Python\\Python37\\site-packages\\selenium\\webdriver\\support\\wait.py\u001b[0m in \u001b[0;36muntil\u001b[1;34m(self, method, message)\u001b[0m\n\u001b[0;32m     78\u001b[0m             \u001b[1;32mif\u001b[0m \u001b[0mtime\u001b[0m\u001b[1;33m.\u001b[0m\u001b[0mtime\u001b[0m\u001b[1;33m(\u001b[0m\u001b[1;33m)\u001b[0m \u001b[1;33m>\u001b[0m \u001b[0mend_time\u001b[0m\u001b[1;33m:\u001b[0m\u001b[1;33m\u001b[0m\u001b[1;33m\u001b[0m\u001b[0m\n\u001b[0;32m     79\u001b[0m                 \u001b[1;32mbreak\u001b[0m\u001b[1;33m\u001b[0m\u001b[1;33m\u001b[0m\u001b[0m\n\u001b[1;32m---> 80\u001b[1;33m         \u001b[1;32mraise\u001b[0m \u001b[0mTimeoutException\u001b[0m\u001b[1;33m(\u001b[0m\u001b[0mmessage\u001b[0m\u001b[1;33m,\u001b[0m \u001b[0mscreen\u001b[0m\u001b[1;33m,\u001b[0m \u001b[0mstacktrace\u001b[0m\u001b[1;33m)\u001b[0m\u001b[1;33m\u001b[0m\u001b[1;33m\u001b[0m\u001b[0m\n\u001b[0m\u001b[0;32m     81\u001b[0m \u001b[1;33m\u001b[0m\u001b[0m\n\u001b[0;32m     82\u001b[0m     \u001b[1;32mdef\u001b[0m \u001b[0muntil_not\u001b[0m\u001b[1;33m(\u001b[0m\u001b[0mself\u001b[0m\u001b[1;33m,\u001b[0m \u001b[0mmethod\u001b[0m\u001b[1;33m,\u001b[0m \u001b[0mmessage\u001b[0m\u001b[1;33m=\u001b[0m\u001b[1;34m''\u001b[0m\u001b[1;33m)\u001b[0m\u001b[1;33m:\u001b[0m\u001b[1;33m\u001b[0m\u001b[1;33m\u001b[0m\u001b[0m\n",
      "\u001b[1;31mTimeoutException\u001b[0m: Message: \n"
     ]
    }
   ],
   "source": [
    "for i in range(NUM_PAGES):\n",
    "    for _ in range(7):\n",
    "        dr.find_element_by_tag_name('body').send_keys(Keys.PAGE_DOWN)\n",
    "        sleep(0.5)\n",
    "    sleep(1)\n",
    "    \n",
    "    soup = BeautifulSoup(dr.page_source)\n",
    "    prods = soup.find('div', {'id':'mainsrp-itemlist'}).findAll('div', {\"data-category\": \"auctions\"})\n",
    "    prod_urls = [x.find('a')['href'] for x in prods]\n",
    "    vendors = [x.getText('', True) for x in soup.findAll('div', {'class': 'shop'})]\n",
    "    prod_urls_array += prod_urls\n",
    "    vendors_array += vendors\n",
    "    \n",
    "    dr.find_element_by_xpath('//li[@class=\"item next\"]').click() \n",
    "    WebDriverWait(dr, 10).until(\n",
    "            EC.visibility_of_element_located((By.XPATH, f'//span[@class=\"num\" and contains(text(),{i+2})]'))\n",
    "        )"
   ]
  },
  {
   "cell_type": "code",
   "execution_count": 24,
   "id": "under-image",
   "metadata": {
    "collapsed": true
   },
   "outputs": [
    {
     "data": {
      "text/plain": [
       "['//detail.tmall.com/item.htm?id=624562743543&ns=1&abbucket=5',\n",
       " '//detail.tmall.com/item.htm?id=631311919981&ad_id=&am_id=&cm_id=140105335569ed55e27b&pm_id=&abbucket=5#detail',\n",
       " '//item.taobao.com/item.htm?id=640412019850&ns=1&abbucket=5#detail',\n",
       " '//item.taobao.com/item.htm?id=580936432791&ns=1&abbucket=5#detail',\n",
       " '//item.taobao.com/item.htm?id=602973489445&ns=1&abbucket=5#detail',\n",
       " '//detail.tmall.com/item.htm?id=625921629387&ns=1&abbucket=5',\n",
       " '//detail.tmall.com/item.htm?id=627723853189&ns=1&abbucket=5',\n",
       " '//item.taobao.com/item.htm?id=617166672952&ns=1&abbucket=5#detail',\n",
       " '//item.taobao.com/item.htm?id=621350805404&ns=1&abbucket=5#detail',\n",
       " '//item.taobao.com/item.htm?id=618887381906&ns=1&abbucket=5#detail',\n",
       " '//item.taobao.com/item.htm?id=635793119876&ns=1&abbucket=5#detail',\n",
       " '//detail.tmall.com/item.htm?id=570543981383&ns=1&abbucket=5',\n",
       " '//item.taobao.com/item.htm?id=640291374703&ns=1&abbucket=5#detail',\n",
       " '//item.taobao.com/item.htm?id=37512154831&ns=1&abbucket=5#detail',\n",
       " '//item.taobao.com/item.htm?id=625746568785&ns=1&abbucket=5#detail',\n",
       " '//item.taobao.com/item.htm?id=627043518497&ns=1&abbucket=5#detail',\n",
       " '//item.taobao.com/item.htm?id=629888908715&ns=1&abbucket=5#detail',\n",
       " '//item.taobao.com/item.htm?id=637727921297&ns=1&abbucket=5#detail',\n",
       " '//detail.tmall.com/item.htm?id=638333372105&ns=1&abbucket=5',\n",
       " '//item.taobao.com/item.htm?id=599611423839&ns=1&abbucket=5#detail',\n",
       " '//detail.tmall.com/item.htm?id=629646523538&ns=1&abbucket=5',\n",
       " '//item.taobao.com/item.htm?id=618387033397&ns=1&abbucket=5#detail',\n",
       " '//item.taobao.com/item.htm?id=621294503894&ns=1&abbucket=5#detail',\n",
       " '//item.taobao.com/item.htm?id=615698174004&ns=1&abbucket=5#detail',\n",
       " '//item.taobao.com/item.htm?id=626644747343&ns=1&abbucket=5#detail',\n",
       " '//detail.tmall.com/item.htm?id=570646258557&ns=1&abbucket=5',\n",
       " '//detail.tmall.com/item.htm?id=641965734902&ns=1&abbucket=5',\n",
       " '//detail.tmall.com/item.htm?id=628005484524&ns=1&abbucket=5',\n",
       " '//detail.tmall.com/item.htm?id=631253813247&ns=1&abbucket=5',\n",
       " '//item.taobao.com/item.htm?id=587900447903&ns=1&abbucket=5#detail',\n",
       " '//item.taobao.com/item.htm?id=641170943493&ns=1&abbucket=5#detail',\n",
       " '//item.taobao.com/item.htm?id=615990911399&ns=1&abbucket=5#detail',\n",
       " '//detail.tmall.com/item.htm?id=642099093554&ns=1&abbucket=5',\n",
       " '//item.taobao.com/item.htm?id=618088720252&ns=1&abbucket=5#detail',\n",
       " '//item.taobao.com/item.htm?id=605403680977&ns=1&abbucket=5#detail',\n",
       " '//item.taobao.com/item.htm?id=527648490592&ns=1&abbucket=5#detail',\n",
       " '//item.taobao.com/item.htm?id=626061665465&ns=1&abbucket=5#detail',\n",
       " '//detail.tmall.com/item.htm?id=633121468283&ns=1&abbucket=5',\n",
       " '//detail.tmall.com/item.htm?id=638872750380&ns=1&abbucket=5',\n",
       " '//detail.tmall.com/item.htm?id=642418310155&ns=1&abbucket=5',\n",
       " '//detail.tmall.com/item.htm?id=642076205749&ns=1&abbucket=5',\n",
       " '//item.taobao.com/item.htm?id=610441908760&ns=1&abbucket=5#detail',\n",
       " '//item.taobao.com/item.htm?id=637862984365&ns=1&abbucket=5#detail',\n",
       " '//detail.tmall.com/item.htm?id=639040816018&ns=1&abbucket=5',\n",
       " '//detail.tmall.com/item.htm?id=631585414686&ns=1&abbucket=5',\n",
       " '//item.taobao.com/item.htm?id=640357796510&ns=1&abbucket=5#detail',\n",
       " '//item.taobao.com/item.htm?id=600831993556&ns=1&abbucket=5#detail',\n",
       " '//detail.tmall.com/item.htm?id=632588074359&ns=1&abbucket=5']"
      ]
     },
     "execution_count": 24,
     "metadata": {},
     "output_type": "execute_result"
    }
   ],
   "source": [
    "prod_urls_array"
   ]
  },
  {
   "cell_type": "code",
   "execution_count": 16,
   "id": "dominant-stack",
   "metadata": {
    "collapsed": true
   },
   "outputs": [
    {
     "data": {
      "text/plain": [
       "['极冰户外专营店',\n",
       " 'naturehike途鸿专卖店',\n",
       " 'fantasygarden旗舰店',\n",
       " '莱伊晶旗舰店',\n",
       " '玲娇旗舰店',\n",
       " '小风筝呀0316',\n",
       " 'mseav',\n",
       " 'mseav',\n",
       " 'hk蒸气士多',\n",
       " 'pengmin885',\n",
       " 'freelife1988',\n",
       " 'tb26304195',\n",
       " 'freelife1988',\n",
       " '淘沙疯丫头',\n",
       " '阿节节高',\n",
       " '淘沙疯丫头',\n",
       " 'ellen1816',\n",
       " '黄亭予2',\n",
       " '八冠军',\n",
       " '爱在飞翔7391',\n",
       " 'wangdongxia042',\n",
       " '八冠军',\n",
       " 'g253034460',\n",
       " 'g253034460',\n",
       " '阿节节高',\n",
       " 'wangdongxia042',\n",
       " '乐尚企业商场',\n",
       " '黄亭予2',\n",
       " '杨馒头258',\n",
       " 'pengmin885',\n",
       " 'sophieliu886',\n",
       " '花开雨落百货',\n",
       " 'szxuanyuan1986',\n",
       " 'w306807534',\n",
       " 'w306807534',\n",
       " '厨房燃气热水器配件商城',\n",
       " 'sophieliu886',\n",
       " 'szxuanyuan1986',\n",
       " '微笑生活吧',\n",
       " 'suishuai1993',\n",
       " 'ellen1816',\n",
       " '刚哥威武霸气233',\n",
       " 'kunchong630',\n",
       " '气克斗牛杂货铺',\n",
       " '八龙门',\n",
       " '聚优品365',\n",
       " 'wuyangboya',\n",
       " '气克斗牛杂货铺']"
      ]
     },
     "execution_count": 16,
     "metadata": {},
     "output_type": "execute_result"
    }
   ],
   "source": [
    "vendors_array"
   ]
  },
  {
   "cell_type": "code",
   "execution_count": null,
   "id": "sufficient-married",
   "metadata": {},
   "outputs": [],
   "source": []
  },
  {
   "cell_type": "code",
   "execution_count": 56,
   "id": "cooperative-irrigation",
   "metadata": {},
   "outputs": [
    {
     "name": "stdout",
     "output_type": "stream",
     "text": [
      "skipped\n",
      "Message: \n",
      "\n",
      "scraped\n",
      "\n",
      "scraped\n",
      "\n",
      "scraped\n",
      "\n"
     ]
    }
   ],
   "source": [
    "for vend_num, url in enumerate(prod_urls_array[0:4]):\n",
    "    if \"https\" not in url:\n",
    "        url = \"https:\" + url\n",
    "    try:\n",
    "        dr.get(url)\n",
    "#         sleep(5)\n",
    "        \n",
    "#         try:\n",
    "#             popup_dialogue = WebDriverWait(dr, 5).until(\n",
    "#                 EC.presence_of_element_located((By.CLASS_NAME, \"baxia-dialog-close\"))\n",
    "#             )\n",
    "#             popup_dialogue.click()\n",
    "#             popup_dialogue = WebDriverWait(dr, 5).until(\n",
    "#                 EC.presence_of_element_located((By.CLASS_NAME, \"baxia-dialog-close\"))\n",
    "#             )\n",
    "#             popup_dialogue.click()\n",
    "#             print('reached1')\n",
    "#         except:\n",
    "#             print('s')\n",
    "    except TimeoutException:\n",
    "        sleep(5)\n",
    "    try:\n",
    "#         print('reached2')\n",
    "        WebDriverWait(dr, 15).until(\n",
    "            EC.presence_of_element_located((By.ID, \"J_UlThumb\"))\n",
    "        )\n",
    "        WebDriverWait(dr, 15).until(\n",
    "            EC.presence_of_element_located((By.ID, \"attributes\"))\n",
    "        )\n",
    "#         print('reached3')\n",
    "        WebDriverWait(dr, 15).until(\n",
    "            EC.presence_of_element_located((By.CLASS_NAME, \"tb-detail-hd\"))\n",
    "        )\n",
    "        WebDriverWait(dr, 15).until(\n",
    "            EC.presence_of_element_located((By.CLASS_NAME, \"tm-price\"))\n",
    "        )\n",
    "#         print('reache4')\n",
    "    except:\n",
    "        sleep(2)\n",
    "        try:\n",
    "            WebDriverWait(dr, 15).until(\n",
    "                EC.presence_of_element_located((By.CLASS_NAME, \"tb-main-title\"))\n",
    "            )\n",
    "            WebDriverWait(dr, 15).until(\n",
    "            EC.presence_of_element_located((By.CLASS_NAME, \"tb-rmb-num\"))\n",
    "            )\n",
    "        except Exception as ex:\n",
    "            print('skipped')\n",
    "            print(ex)\n",
    "            continue\n",
    "            \n",
    "        \n",
    "    scrapify(dr.page_source, dr.current_url, vend_num)\n",
    "    print('scraped\\n')\n",
    "        \n",
    "#     break"
   ]
  },
  {
   "cell_type": "markdown",
   "id": "administrative-irrigation",
   "metadata": {},
   "source": [
    "# detail.tmall"
   ]
  },
  {
   "cell_type": "code",
   "execution_count": 45,
   "id": "living-captain",
   "metadata": {},
   "outputs": [],
   "source": [
    "name_array, original_price_array, discount_price_array = [], [], []\n",
    "img_urls_array, description_html_array, description_text_array = [], [], []\n",
    "vendors_final_array, prod_urls_final_array = [], []\n",
    "img_urls1, img_urls2, img_urls3, img_urls4, img_urls5, img_urls6, img_urls7, img_urls8, img_urls9, img_urls10, =  [], [], [], [], [], [], [], [], [], []"
   ]
  },
  {
   "cell_type": "code",
   "execution_count": 46,
   "id": "vulnerable-dialogue",
   "metadata": {},
   "outputs": [],
   "source": [
    "def scrapify(site, url, vend_num):\n",
    "    soup1 = BeautifulSoup(site)\n",
    "    if 'detail.tmall.com' in url:\n",
    "        name = soup1.find('div', {'class':'tb-detail-hd'}).getText('\\n', True)\n",
    "        original_price = soup1.find('span', {'class':'tm-price'}).getText('', True)\n",
    "        try:\n",
    "            discount_price = soup1.findAll('span', {'class':'tm-price'})[1].getText('', True)\n",
    "        except:\n",
    "            discount_price = ''\n",
    "        img_urls = [x['src'].replace('400x400', '800x800').replace('50x50', '800x800').replace('60x60', '800x800')\n",
    "                    for x in soup1.find('ul', {'id': 'J_UlThumb'}).findAll('img', {'src': True})]\n",
    "        description_html = soup1.find('div', {'id': 'attributes'})\n",
    "        description_text = soup1.find('div', {'id': 'attributes'}).getText('\\n', True)\n",
    "        vendor = vendors_array[vend_num]\n",
    "    \n",
    "    \n",
    "    elif 'item.taobao.com' in url:\n",
    "        name = soup1.find('h3', {'class': 'tb-main-title'}).getText('', True)\n",
    "        try:\n",
    "            discount_price = soup1.find('em', {'class': \"tb-rmb-num\", 'id':True}).getText('', True)\n",
    "        except:\n",
    "            discount_price = ''\n",
    "        original_price = soup1.find('em', {'class': \"tb-rmb-num\", 'id':False}).getText('', True)\n",
    "            \n",
    "        img_urls = [x['src'].replace('400x400', '800x800').replace('50x50', '800x800').replace('60x60', '800x800')\n",
    "                    for x in soup1.find('ul', {'id': 'J_UlThumb'}).findAll('img', {'src': True})]\n",
    "     \n",
    "        description_html = soup1.find('div', {'id': 'attributes'})\n",
    "        description_text = soup1.find('div', {'id': 'attributes'}).getText('\\n', True)\n",
    "        vendor = vendors_array[vend_num]\n",
    "        \n",
    "    else:\n",
    "        print('weird url => ', url)\n",
    "        return\n",
    "    \n",
    "    try:\n",
    "        img_urls1.append(img_urls[0])\n",
    "    except:\n",
    "        img_urls1.append('')\n",
    "    try:\n",
    "        img_urls2.append(img_urls[1])\n",
    "    except:\n",
    "        img_urls2.append('')\n",
    "    try:\n",
    "        img_urls3.append(img_urls[2])\n",
    "    except:\n",
    "        img_urls3.append('')\n",
    "    try:\n",
    "        img_urls4.append(img_urls[3])\n",
    "    except:\n",
    "        img_urls4.append('')\n",
    "    try:\n",
    "        img_urls5.append(img_urls[4])\n",
    "    except:\n",
    "        img_urls5.append('')\n",
    "    try:\n",
    "        img_urls6.append(img_urls[5])\n",
    "    except:\n",
    "        img_urls6.append('')\n",
    "    try:\n",
    "        img_urls7.append(img_urls[6])\n",
    "    except:\n",
    "        img_urls7.append('')\n",
    "    try:\n",
    "        img_urls8.append(img_urls[7])\n",
    "    except:\n",
    "        img_urls8.append('')\n",
    "    try:\n",
    "        img_urls9.append(img_urls[8])\n",
    "    except:\n",
    "        img_urls9.append('')\n",
    "    try:\n",
    "        img_urls10.append(img_urls[9])\n",
    "    except:\n",
    "        img_urls10.append('')\n",
    "\n",
    "    \n",
    "    name_array.append(name)\n",
    "    vendors_final_array.append(vendor)\n",
    "    original_price_array.append(original_price)\n",
    "    discount_price_array.append(discount_price) \n",
    "    img_urls_array.append(img_urls)\n",
    "    description_html_array.append(description_html)\n",
    "    description_text_array.append(description_text)\n",
    "    prod_urls_final_array.append(url)"
   ]
  },
  {
   "cell_type": "markdown",
   "id": "parliamentary-michigan",
   "metadata": {},
   "source": [
    "# item.taobao"
   ]
  },
  {
   "cell_type": "code",
   "execution_count": 51,
   "id": "removable-relay",
   "metadata": {},
   "outputs": [],
   "source": [
    "name = soup1.find('h3', {'class': 'tb-main-title'}).getText('', True)\n",
    "discount_price = soup1.find('em', {'class': \"tb-rmb-num\", 'id':True}).getText('', True)\n",
    "original_price = soup1.find('em', {'class': \"tb-rmb-num\", 'id':False}).getText('', True)\n",
    "img_urls = [x['src'].replace('400x400', '800x800') for x in soup1.find('ul', {'id': 'J_UlThumb'}).findAll('img', {'src': True})]\n",
    "description_html = soup1.find('div', {'id': 'attributes'})\n",
    "description_text = soup1.find('div', {'id': 'attributes'}).getText('\\n', True)"
   ]
  },
  {
   "cell_type": "code",
   "execution_count": 65,
   "id": "artistic-accused",
   "metadata": {},
   "outputs": [
    {
     "data": {
      "text/plain": [
       "['//img.alicdn.com/imgextra/i3/2209250352999/O1CN01LbMcfr1Y1aR0nuSzm_!!2209250352999.jpg_60x60q90.jpg',\n",
       " '//gd4.alicdn.com/imgextra/i4/676872413/O1CN01LhnkY11ThCJymdZhO_!!676872413-0-lubanu-s.jpg_800x800.jpg_.webp',\n",
       " '//gd1.alicdn.com/imgextra/i1/2173838406/O1CN01l95Z7Z2BxzxNHQfyW_!!2173838406.jpg_800x800.jpg_.webp']"
      ]
     },
     "execution_count": 65,
     "metadata": {},
     "output_type": "execute_result"
    }
   ],
   "source": [
    "img_urls4"
   ]
  },
  {
   "cell_type": "code",
   "execution_count": 57,
   "id": "every-material",
   "metadata": {
    "scrolled": true
   },
   "outputs": [],
   "source": [
    "df = pd.DataFrame({\n",
    "    'Title': name_array,\n",
    "    'Vendor': vendors_final_array,\n",
    "    'OriginalPrice': original_price_array,\n",
    "    'DiscountPrice': discount_price_array,\n",
    "    'DescriptionText': description_text_array,\n",
    "    'DescriptionHTML': description_html_array,\n",
    "    'ProdLink': prod_urls_final_array,\n",
    "    'ImgURL1': img_urls1,\n",
    "    'ImgURL2': img_urls2,\n",
    "    'ImgURL3': img_urls3,\n",
    "    'ImgURL4': img_urls4,\n",
    "    'ImgURL5': img_urls5,\n",
    "    'ImgURL6': img_urls6,\n",
    "    'ImgURL7': img_urls7,\n",
    "    'ImgURL8': img_urls8,\n",
    "    'ImgURL9': img_urls9,\n",
    "    'ImgURL10': img_urls10,    \n",
    "#     'ImgURLs': img_urls_array,\n",
    "})"
   ]
  },
  {
   "cell_type": "code",
   "execution_count": null,
   "id": "demanding-jungle",
   "metadata": {},
   "outputs": [],
   "source": [
    "    try:\n",
    "        WebDriverWait(dr, 30).until(\n",
    "            EC.visibility_of_element_located((By.XPATH, f'//span[@class=\"num\" and contains(text(),{i+2})]'))\n",
    "        )\n",
    "    except:\n",
    "        break\n"
   ]
  },
  {
   "cell_type": "code",
   "execution_count": 58,
   "id": "iraqi-henry",
   "metadata": {},
   "outputs": [
    {
     "data": {
      "text/html": [
       "<div>\n",
       "<style scoped>\n",
       "    .dataframe tbody tr th:only-of-type {\n",
       "        vertical-align: middle;\n",
       "    }\n",
       "\n",
       "    .dataframe tbody tr th {\n",
       "        vertical-align: top;\n",
       "    }\n",
       "\n",
       "    .dataframe thead th {\n",
       "        text-align: right;\n",
       "    }\n",
       "</style>\n",
       "<table border=\"1\" class=\"dataframe\">\n",
       "  <thead>\n",
       "    <tr style=\"text-align: right;\">\n",
       "      <th></th>\n",
       "      <th>Title</th>\n",
       "      <th>Vendor</th>\n",
       "      <th>OriginalPrice</th>\n",
       "      <th>DiscountPrice</th>\n",
       "      <th>DescriptionText</th>\n",
       "      <th>DescriptionHTML</th>\n",
       "      <th>ProdLink</th>\n",
       "      <th>ImgURL1</th>\n",
       "      <th>ImgURL2</th>\n",
       "      <th>ImgURL3</th>\n",
       "      <th>ImgURL4</th>\n",
       "      <th>ImgURL5</th>\n",
       "      <th>ImgURL6</th>\n",
       "      <th>ImgURL7</th>\n",
       "      <th>ImgURL8</th>\n",
       "      <th>ImgURL9</th>\n",
       "      <th>ImgURL10</th>\n",
       "    </tr>\n",
       "  </thead>\n",
       "  <tbody>\n",
       "    <tr>\n",
       "      <th>0</th>\n",
       "      <td>Mini Folding Table Outdoor Barbecue Camping Te...</td>\n",
       "      <td>玲娇旗舰店</td>\n",
       "      <td>97.00</td>\n",
       "      <td></td>\n",
       "      <td>品牌名称：\\n玲娇\\n产品参数：\\n品牌: 玲娇\\n材质: 其他\\n颜色分类: Silver...</td>\n",
       "      <td>&lt;div class=\"attributes\" id=\"attributes\"&gt;\n",
       "&lt;div ...</td>\n",
       "      <td>https://detail.tmall.com/item.htm?id=631311919...</td>\n",
       "      <td>//img.alicdn.com/imgextra/i3/2209250352999/O1C...</td>\n",
       "      <td>//img.alicdn.com/imgextra/i2/2209250352999/O1C...</td>\n",
       "      <td>//img.alicdn.com/imgextra/i2/2209250352999/O1C...</td>\n",
       "      <td>//img.alicdn.com/imgextra/i3/2209250352999/O1C...</td>\n",
       "      <td>//img.alicdn.com/imgextra/i3/2209250352999/O1C...</td>\n",
       "      <td></td>\n",
       "      <td></td>\n",
       "      <td></td>\n",
       "      <td></td>\n",
       "      <td></td>\n",
       "    </tr>\n",
       "    <tr>\n",
       "      <th>1</th>\n",
       "      <td>camel骆驼户外免安装帐篷3-4人自动速开防水露营帐蓬camping tent</td>\n",
       "      <td>mseav</td>\n",
       "      <td>459.00</td>\n",
       "      <td></td>\n",
       "      <td>品牌: Camel/骆驼\\n产地: 中国\\n价格区间: 201-500元\\n帐篷大小: 3人...</td>\n",
       "      <td>&lt;div class=\"attributes\" id=\"attributes\"&gt;\n",
       "&lt;!-- ...</td>\n",
       "      <td>https://item.taobao.com/item.htm?id=6404120198...</td>\n",
       "      <td>//gd2.alicdn.com/imgextra/i2/676872413/O1CN01Z...</td>\n",
       "      <td>//gd4.alicdn.com/imgextra/i4/676872413/O1CN015...</td>\n",
       "      <td>//gd1.alicdn.com/imgextra/i1/676872413/O1CN01r...</td>\n",
       "      <td>//gd4.alicdn.com/imgextra/i4/676872413/O1CN01L...</td>\n",
       "      <td>//gd4.alicdn.com/imgextra/i4/676872413/O1CN01t...</td>\n",
       "      <td></td>\n",
       "      <td></td>\n",
       "      <td></td>\n",
       "      <td></td>\n",
       "      <td></td>\n",
       "    </tr>\n",
       "    <tr>\n",
       "      <th>2</th>\n",
       "      <td>NH挪客云尚升级款超轻单双人2人户外帐篷3-4人帐篷Camping Tent</td>\n",
       "      <td>淘沙疯丫头</td>\n",
       "      <td>798.00-1876.00</td>\n",
       "      <td>399.00-938.00</td>\n",
       "      <td>品牌: Naturehike\\n产地: 中国\\n价格区间: 501-1000元\\n帐篷大小:...</td>\n",
       "      <td>&lt;div class=\"attributes\" id=\"attributes\"&gt;\n",
       "&lt;!-- ...</td>\n",
       "      <td>https://item.taobao.com/item.htm?id=5809364327...</td>\n",
       "      <td>//img.alicdn.com/sns_album/TB1K.BJnxnaK1RjSZFB...</td>\n",
       "      <td>//gd1.alicdn.com/imgextra/i2/893336533/O1CN01h...</td>\n",
       "      <td>//gd3.alicdn.com/imgextra/i3/2173838406/O1CN01...</td>\n",
       "      <td>//gd1.alicdn.com/imgextra/i1/2173838406/O1CN01...</td>\n",
       "      <td>//gd3.alicdn.com/imgextra/i3/2173838406/O1CN01...</td>\n",
       "      <td>//gd3.alicdn.com/imgextra/i3/893336533/TB26EBS...</td>\n",
       "      <td></td>\n",
       "      <td></td>\n",
       "      <td></td>\n",
       "      <td></td>\n",
       "    </tr>\n",
       "  </tbody>\n",
       "</table>\n",
       "</div>"
      ],
      "text/plain": [
       "                                               Title Vendor   OriginalPrice  \\\n",
       "0  Mini Folding Table Outdoor Barbecue Camping Te...  玲娇旗舰店           97.00   \n",
       "1           camel骆驼户外免安装帐篷3-4人自动速开防水露营帐蓬camping tent  mseav          459.00   \n",
       "2             NH挪客云尚升级款超轻单双人2人户外帐篷3-4人帐篷Camping Tent  淘沙疯丫头  798.00-1876.00   \n",
       "\n",
       "   DiscountPrice                                    DescriptionText  \\\n",
       "0                 品牌名称：\\n玲娇\\n产品参数：\\n品牌: 玲娇\\n材质: 其他\\n颜色分类: Silver...   \n",
       "1                 品牌: Camel/骆驼\\n产地: 中国\\n价格区间: 201-500元\\n帐篷大小: 3人...   \n",
       "2  399.00-938.00  品牌: Naturehike\\n产地: 中国\\n价格区间: 501-1000元\\n帐篷大小:...   \n",
       "\n",
       "                                     DescriptionHTML  \\\n",
       "0  <div class=\"attributes\" id=\"attributes\">\n",
       "<div ...   \n",
       "1  <div class=\"attributes\" id=\"attributes\">\n",
       "<!-- ...   \n",
       "2  <div class=\"attributes\" id=\"attributes\">\n",
       "<!-- ...   \n",
       "\n",
       "                                            ProdLink  \\\n",
       "0  https://detail.tmall.com/item.htm?id=631311919...   \n",
       "1  https://item.taobao.com/item.htm?id=6404120198...   \n",
       "2  https://item.taobao.com/item.htm?id=5809364327...   \n",
       "\n",
       "                                             ImgURL1  \\\n",
       "0  //img.alicdn.com/imgextra/i3/2209250352999/O1C...   \n",
       "1  //gd2.alicdn.com/imgextra/i2/676872413/O1CN01Z...   \n",
       "2  //img.alicdn.com/sns_album/TB1K.BJnxnaK1RjSZFB...   \n",
       "\n",
       "                                             ImgURL2  \\\n",
       "0  //img.alicdn.com/imgextra/i2/2209250352999/O1C...   \n",
       "1  //gd4.alicdn.com/imgextra/i4/676872413/O1CN015...   \n",
       "2  //gd1.alicdn.com/imgextra/i2/893336533/O1CN01h...   \n",
       "\n",
       "                                             ImgURL3  \\\n",
       "0  //img.alicdn.com/imgextra/i2/2209250352999/O1C...   \n",
       "1  //gd1.alicdn.com/imgextra/i1/676872413/O1CN01r...   \n",
       "2  //gd3.alicdn.com/imgextra/i3/2173838406/O1CN01...   \n",
       "\n",
       "                                             ImgURL4  \\\n",
       "0  //img.alicdn.com/imgextra/i3/2209250352999/O1C...   \n",
       "1  //gd4.alicdn.com/imgextra/i4/676872413/O1CN01L...   \n",
       "2  //gd1.alicdn.com/imgextra/i1/2173838406/O1CN01...   \n",
       "\n",
       "                                             ImgURL5  \\\n",
       "0  //img.alicdn.com/imgextra/i3/2209250352999/O1C...   \n",
       "1  //gd4.alicdn.com/imgextra/i4/676872413/O1CN01t...   \n",
       "2  //gd3.alicdn.com/imgextra/i3/2173838406/O1CN01...   \n",
       "\n",
       "                                             ImgURL6 ImgURL7 ImgURL8 ImgURL9  \\\n",
       "0                                                                              \n",
       "1                                                                              \n",
       "2  //gd3.alicdn.com/imgextra/i3/893336533/TB26EBS...                           \n",
       "\n",
       "  ImgURL10  \n",
       "0           \n",
       "1           \n",
       "2           "
      ]
     },
     "execution_count": 58,
     "metadata": {},
     "output_type": "execute_result"
    }
   ],
   "source": [
    "df.head()"
   ]
  },
  {
   "cell_type": "code",
   "execution_count": 70,
   "id": "transparent-belfast",
   "metadata": {},
   "outputs": [],
   "source": [
    "df = pd.DataFrame(columns=['Handle', 'Title', 'Description(HTML)', 'Description(text)','OriginalPrice',\n",
    "                           'DiscountPrice', 'ProductURL', 'Image Src', 'Image Position'\n",
    "                            ])\n",
    "#preparing according to shopify import template\n",
    "for index, imgs in enumerate(img_urls_array):\n",
    "    for i, src in enumerate(imgs):\n",
    "        if i== 0:\n",
    "            df = df.append({\n",
    "                'Handle': name_array[index],\n",
    "                'Title': name_array[index],\n",
    "                'Description(HTML)': description_html_array[index],\n",
    "                'Description(text)': description_text_array[index],\n",
    "                'OriginalPrice': original_price_array[index],\n",
    "                'DiscountPrice': discount_price_array[index],\n",
    "                'ProductURL': prod_urls_array[index],\n",
    "                'Image Src': src,\n",
    "                'Image Position': i+1\n",
    "            }, ignore_index = True)\n",
    "        else:\n",
    "            df = df.append({\n",
    "                'Handle': name_array[index],\n",
    "                'Title': '',\n",
    "                'Description(HTML)': '',\n",
    "                'Description(text)': '',\n",
    "                'OriginalPrice': '',\n",
    "                'DiscountPrice': '',\n",
    "                'ProductURL': '',\n",
    "                'Image Src': src,\n",
    "                'Image Position': i+1\n",
    "            }, ignore_index = True)\n",
    "            "
   ]
  },
  {
   "cell_type": "code",
   "execution_count": 71,
   "id": "ranging-commission",
   "metadata": {},
   "outputs": [],
   "source": [
    "df['Image Src'] = df['Image Src'].apply(lambda x: x.replace('60x60', '800x800').replace('400x400', '800x800').replace('50x50', '800x800'))\n",
    "writer = pd.ExcelWriter(r'file.xlsx', engine='xlsxwriter',options={'strings_to_urls': False})\n",
    "df.to_excel(writer, index=False)\n",
    "writer.close()"
   ]
  },
  {
   "cell_type": "code",
   "execution_count": 60,
   "id": "strong-luxury",
   "metadata": {},
   "outputs": [],
   "source": []
  },
  {
   "cell_type": "code",
   "execution_count": 77,
   "id": "julian-nothing",
   "metadata": {},
   "outputs": [],
   "source": [
    "soup1 = BeautifulSoup(dr.page_source)\n",
    "if 'detail.tmall.com' in url:\n",
    "    name = soup1.find('div', {'class':'tb-detail-hd'}).getText('\\n', True)\n",
    "    original_price = soup1.find('span', {'class':'tm-price'}).getText('', True)\n",
    "    try:\n",
    "        discount_price = soup1.findAll('span', {'class':'tm-price'})[1].getText('', True)\n",
    "    except:\n",
    "        discount_price = ''\n",
    "    img_urls = [x['src'].replace('400x400', '800x800').replace('jpg_50x50', 'jpg_800x800')\n",
    "                for x in soup1.find('ul', {'id': 'J_UlThumb'}).findAll('img', {'src': True})]\n",
    "    description_html = soup1.find('div', {'id': 'attributes'})\n",
    "    description_text = soup1.find('div', {'id': 'attributes'}).getText('\\n', True)\n",
    "    vendor = vendors_array[vend_num]"
   ]
  },
  {
   "cell_type": "code",
   "execution_count": 78,
   "id": "swiss-business",
   "metadata": {},
   "outputs": [
    {
     "data": {
      "text/plain": [
       "'1480.00-1880.00'"
      ]
     },
     "execution_count": 78,
     "metadata": {},
     "output_type": "execute_result"
    }
   ],
   "source": [
    "soup1.findAll('span', {'class':'tm-price'})[0].getText('', True)"
   ]
  }
 ],
 "metadata": {
  "kernelspec": {
   "display_name": "Python 3",
   "language": "python",
   "name": "python3"
  },
  "language_info": {
   "codemirror_mode": {
    "name": "ipython",
    "version": 3
   },
   "file_extension": ".py",
   "mimetype": "text/x-python",
   "name": "python",
   "nbconvert_exporter": "python",
   "pygments_lexer": "ipython3",
   "version": "3.7.3"
  }
 },
 "nbformat": 4,
 "nbformat_minor": 5
}
