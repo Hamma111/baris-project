{
 "cells": [
  {
   "cell_type": "code",
   "execution_count": 1,
   "id": "actual-minister",
   "metadata": {},
   "outputs": [],
   "source": [
    "import requests\n",
    "import os\n",
    "import pandas as pd\n",
    "from bs4 import BeautifulSoup\n",
    "import json\n",
    "from time import sleep\n",
    "from tqdm.auto import tqdm"
   ]
  },
  {
   "cell_type": "code",
   "execution_count": 2,
   "id": "orange-visiting",
   "metadata": {},
   "outputs": [],
   "source": [
    "MAX_RETRIES = 10"
   ]
  },
  {
   "cell_type": "code",
   "execution_count": 3,
   "id": "incoming-briefs",
   "metadata": {},
   "outputs": [],
   "source": [
    "headers = {\n",
    "    'User-Agent': 'Mozilla/5.0 (Windows NT 10.0; Win64; x64) AppleWebKit/537.36 (KHTML, like Gecko) Chrome/89.0.4389.90 Safari/537.36 Edg/89.0.774.63',\n",
    "          }"
   ]
  },
  {
   "cell_type": "code",
   "execution_count": 4,
   "id": "tribal-stability",
   "metadata": {},
   "outputs": [],
   "source": [
    "site = requests.get('https://www.timeanddate.com/holidays/?allcountries',\n",
    "                   headers=headers,)"
   ]
  },
  {
   "cell_type": "code",
   "execution_count": 5,
   "id": "reduced-mixture",
   "metadata": {},
   "outputs": [],
   "source": [
    "soup = BeautifulSoup(site.content)"
   ]
  },
  {
   "cell_type": "code",
   "execution_count": 102,
   "id": "romance-image",
   "metadata": {},
   "outputs": [],
   "source": [
    "countries_urls = [\"https://www.timeanddate.com\"+x.find('a')['href'] for x in soup.find(\"article\", {'class':'category-list'}).findAll('li')]"
   ]
  },
  {
   "cell_type": "code",
   "execution_count": 103,
   "id": "balanced-birthday",
   "metadata": {},
   "outputs": [],
   "source": [
    "years = [\"2018\",\"2019\", \"2020\", \"2021\", \"2022\"]"
   ]
  },
  {
   "cell_type": "code",
   "execution_count": 104,
   "id": "abandoned-capability",
   "metadata": {},
   "outputs": [],
   "source": [
    "all_dfs = []"
   ]
  },
  {
   "cell_type": "code",
   "execution_count": 110,
   "id": "false-invitation",
   "metadata": {
    "scrolled": true
   },
   "outputs": [
    {
     "data": {
      "application/vnd.jupyter.widget-view+json": {
       "model_id": "01b6e4b228864b17b66ed4a5b5fbdc4f",
       "version_major": 2,
       "version_minor": 0
      },
      "text/plain": [
       "  0%|          | 0/150 [00:00<?, ?it/s]"
      ]
     },
     "metadata": {},
     "output_type": "display_data"
    },
    {
     "name": "stdout",
     "output_type": "stream",
     "text": [
      "https://www.timeanddate.com/holidays/guadeloupe/ => 23, 23, 23, 23, \n",
      "https://www.timeanddate.com/holidays/guam/ => 19, 19, 17, 19, 17, \n",
      "https://www.timeanddate.com/holidays/guatemala/ => 22, 25, 22, 23, 22, \n",
      "https://www.timeanddate.com/holidays/guernsey/ => 18, 18, 18, 19, 20, \n",
      "https://www.timeanddate.com/holidays/guinea/ => 16, 16, 16, 17, 16, \n",
      "https://www.timeanddate.com/holidays/guinea-bissau/ => 14, 14, 14, 14, 14, \n",
      "https://www.timeanddate.com/holidays/guyana/ => 19, 23, 21, 21, 22, \n",
      "https://www.timeanddate.com/holidays/haiti/ => 24, 24, 24, 24, 24, \n",
      "https://www.timeanddate.com/holidays/honduras/ => 24, 24, 24, 25, 24, \n",
      "https://www.timeanddate.com/holidays/hong-kong/ => 31, 30, 31, 32, 33, \n",
      "https://www.timeanddate.com/holidays/hungary/ => 30, 25, 23, 20, 24, \n",
      "https://www.timeanddate.com/holidays/iceland/ => 28, 28, 28, 28, 28, \n",
      "https://www.timeanddate.com/holidays/india/ => 73, 76, 76, 77, 77, \n",
      "https://www.timeanddate.com/holidays/indonesia/ => 39, 35, 35, 38, 29, \n",
      "https://www.timeanddate.com/holidays/iran/ => 31, 29, 30, 29, 28, \n",
      "https://www.timeanddate.com/holidays/iraq/ => 27, 27, 89, 28, 28, \n",
      "https://www.timeanddate.com/holidays/ireland/ => 17, 17, 17, 17, 17, \n",
      "https://www.timeanddate.com/holidays/isle-of-man/ => 16, 16, 18, 18, 19, \n",
      "https://www.timeanddate.com/holidays/israel/ => 54, 54, 55, 54, 52, \n",
      "https://www.timeanddate.com/holidays/italy/ => 24, 24, 24, 24, 24, \n",
      "https://www.timeanddate.com/holidays/jamaica/ => 20, 20, 21, 23, 21, \n",
      "https://www.timeanddate.com/holidays/japan/ => 34, 36, 32, 31, 30, \n",
      "https://www.timeanddate.com/holidays/jersey/ => 15, 15, 17, 18, 18, \n",
      "https://www.timeanddate.com/holidays/jordan/ => 29, 30, 84, 32, 29, \n",
      "https://www.timeanddate.com/holidays/kazakhstan/ => 33, 26, 26, 27, 26, \n",
      "https://www.timeanddate.com/holidays/kenya/ => 21, 22, 23, 24, 23, \n",
      "https://www.timeanddate.com/holidays/kiribati/ => 18, 19, 19, 23, 16, \n",
      "https://www.timeanddate.com/holidays/kosovo/ => 31, 30, 30, 33, 34, \n",
      "https://www.timeanddate.com/holidays/kuwait/ => 20, 19, 102, 22, 17, \n",
      "https://www.timeanddate.com/holidays/kyrgyzstan/ => 21, 22, 27, 23, 21, \n",
      "https://www.timeanddate.com/holidays/laos/ => 20, 22, 17, 18, 9, \n",
      "https://www.timeanddate.com/holidays/latvia/ => 32, 27, 30, 32, 26, \n",
      "https://www.timeanddate.com/holidays/lebanon/ => 36, 37, 35, 35, 35, \n",
      "https://www.timeanddate.com/holidays/lesotho/ => 15, 15, 15, 15, 15, \n",
      "https://www.timeanddate.com/holidays/liberia/ => 18, 17, 19, 16, 17, \n",
      "https://www.timeanddate.com/holidays/libya/ => 18, 18, 18, 18, 18, \n",
      "https://www.timeanddate.com/holidays/liechtenstein/ => 28, 28, 28, 28, 28, \n",
      "https://www.timeanddate.com/holidays/lithuania/ => 28, 28, 28, 28, 28, \n",
      "https://www.timeanddate.com/holidays/luxembourg/ => 19, 20, 20, 20, 20, \n",
      "https://www.timeanddate.com/holidays/macau/ => 31, 33, 34, 28, 28, \n",
      "https://www.timeanddate.com/holidays/madagascar/ => 16, 17, 17, 17, 17, \n",
      "https://www.timeanddate.com/holidays/malawi/ => 18, 19, 19, 21, 24, \n",
      "https://www.timeanddate.com/holidays/malaysia/ => 50, 37, 42, 38, 41, \n",
      "https://www.timeanddate.com/holidays/maldives/ => 21, 27, 34, 30, 21, \n",
      "https://www.timeanddate.com/holidays/mali/ => 17, 17, 17, 17, 16, \n",
      "https://www.timeanddate.com/holidays/malta/ => 21, 21, 21, 20, 21, \n",
      "https://www.timeanddate.com/holidays/marshall-islands/ => 17, 17, 17, 19, 18, \n",
      "https://www.timeanddate.com/holidays/martinique/ => 20, 20, 20, 20, 20, \n",
      "https://www.timeanddate.com/holidays/mauritania/ => 12, 12, 12, 12, 12, \n",
      "https://www.timeanddate.com/holidays/mauritius/ => 25, 26, 25, 25, 25, \n",
      "https://www.timeanddate.com/holidays/mayotte/ => 20, 20, 20, 20, 20, \n",
      "https://www.timeanddate.com/holidays/mexico/ => 46, 45, 45, 45, 45, \n",
      "https://www.timeanddate.com/holidays/micronesia/ => 27, 26, 27, 28, 28, \n",
      "https://www.timeanddate.com/holidays/moldova/ => 39, 45, 39, 40, 39, \n",
      "https://www.timeanddate.com/holidays/monaco/ => 24, 24, 25, 25, 26, \n",
      "https://www.timeanddate.com/holidays/mongolia/ => 31, 31, 32, 34, 31, \n",
      "https://www.timeanddate.com/holidays/montenegro/ => 34, 37, 34, 37, 37, \n",
      "https://www.timeanddate.com/holidays/montserrat/ => 16, 16, 17, 17, 17, \n",
      "https://www.timeanddate.com/holidays/morocco/ => 23, 22, 22, 22, 22, \n",
      "https://www.timeanddate.com/holidays/mozambique/ => 14, 16, 15, 14, 17, \n",
      "https://www.timeanddate.com/holidays/myanmar/ => 35, 38, 36, 58, 34, \n",
      "https://www.timeanddate.com/holidays/namibia/ => 18, 18, 18, 19, 19, \n",
      "https://www.timeanddate.com/holidays/nauru/ => 17, 18, 21, 22, 21, \n",
      "https://www.timeanddate.com/holidays/nepal/ => 51, 52, 51, 30, 23, \n",
      "https://www.timeanddate.com/holidays/netherlands/ => 22, 22, 22, 22, 22, \n",
      "https://www.timeanddate.com/holidays/new-caledonia/ => 17, 17, 17, 17, 17, \n",
      "https://www.timeanddate.com/holidays/new-zealand/ => 14, 14, 14, 14, 14, \n",
      "https://www.timeanddate.com/holidays/nicaragua/ => 22, 22, 22, 23, 23, \n",
      "https://www.timeanddate.com/holidays/niger/ => 18, 18, 18, 18, 18, \n",
      "https://www.timeanddate.com/holidays/nigeria/ => 2, 6, 1, 3, 1, \n",
      "https://www.timeanddate.com/holidays/north-korea/ => 21, 21, 21, 21, 21, \n",
      "https://www.timeanddate.com/holidays/macedonia/ => 45, 46, 48, 44, 46, \n",
      "https://www.timeanddate.com/holidays/northern-mariana-islands/ => 22, 20, 19, 21, 19, \n",
      "https://www.timeanddate.com/holidays/norway/ => 0, 0, 0, 0, 0, \n",
      "https://www.timeanddate.com/holidays/oman/ => 19, 22, 25, 18, 17, \n",
      "https://www.timeanddate.com/holidays/pakistan/ => 53, 55, 56, 55, 46, \n",
      "https://www.timeanddate.com/holidays/palau/ => 16, 17, 17, 18, 18, \n",
      "https://www.timeanddate.com/holidays/panama/ => 27, 28, 26, 25, 28, \n",
      "https://www.timeanddate.com/holidays/papua-new-guinea/ => 17, 15, 15, 17, 16, \n",
      "https://www.timeanddate.com/holidays/paraguay/ => 20, 20, 20, 21, 20, \n",
      "https://www.timeanddate.com/holidays/peru/ => 27, 30, 29, 27, 27, \n",
      "https://www.timeanddate.com/holidays/philippines/ => 0, 0, 0, 0, 0, \n",
      "https://www.timeanddate.com/holidays/poland/ => 26, 25, 25, 25, 25, \n",
      "https://www.timeanddate.com/holidays/portugal/ => 17, 17, 17, 17, 17, \n",
      "https://www.timeanddate.com/holidays/puerto-rico/ => 31, 31, 31, 31, 31, \n",
      "https://www.timeanddate.com/holidays/qatar/ => 15, 24, 22, 27, 15, \n",
      "https://www.timeanddate.com/holidays/reunion/ => 16, 16, 16, 16, 16, \n",
      "https://www.timeanddate.com/holidays/romania/ => 33, 35, 33, 33, 34, \n",
      "https://www.timeanddate.com/holidays/russia/ => 38, 31, 69, 39, 37, \n",
      "https://www.timeanddate.com/holidays/rwanda/ => 20, 19, 24, 25, 23, \n",
      "https://www.timeanddate.com/holidays/saint-helena/ => 14, 14, 15, 16, 15, \n",
      "https://www.timeanddate.com/holidays/saint-kitts-and-nevis/ => 17, 17, 16, 17, 18, \n",
      "https://www.timeanddate.com/holidays/saint-lucia/ => 17, 17, 17, 17, 17, \n",
      "https://www.timeanddate.com/holidays/saint-martin/ => 21, 21, 21, 21, 21, \n",
      "https://www.timeanddate.com/holidays/saint-pierre-and-miquelon/ => 17, 17, 17, 17, 17, \n",
      "https://www.timeanddate.com/holidays/saint-vincent-and-the-grenadines/ => 16, 16, 16, 21, 17, \n",
      "https://www.timeanddate.com/holidays/samoa/ => 17, 17, 17, 20, 19, \n",
      "https://www.timeanddate.com/holidays/san-marino/ => 28, 28, 28, 28, 28, \n",
      "https://www.timeanddate.com/holidays/sao-tome-and-principe/ => 12, 14, 16, 16, 15, \n",
      "https://www.timeanddate.com/holidays/saudi-arabia/ => 14, 16, 22, 25, 14, \n",
      "https://www.timeanddate.com/holidays/senegal/ => 19, 20, 22, 20, 20, \n",
      "https://www.timeanddate.com/holidays/serbia/ => 33, 32, 32, 33, 33, \n",
      "https://www.timeanddate.com/holidays/seychelles/ => 18, 19, 21, 19, 21, \n",
      "https://www.timeanddate.com/holidays/sierra-leone/ => 16, 16, 17, 16, 17, \n",
      "https://www.timeanddate.com/holidays/singapore/ => 30, 33, 35, 31, 34, \n",
      "https://www.timeanddate.com/holidays/sint-maarten/ => 18, 18, 18, 18, 20, \n",
      "https://www.timeanddate.com/holidays/slovakia/ => 36, 36, 36, 36, 36, \n",
      "https://www.timeanddate.com/holidays/slovenia/ => 25, 25, 25, 25, 25, \n",
      "https://www.timeanddate.com/holidays/solomon-islands/ => 27, 32, 24, 26, 25, \n",
      "https://www.timeanddate.com/holidays/somalia/ => 18, 18, 18, 18, 18, \n",
      "https://www.timeanddate.com/holidays/south-africa/ => 37, 38, 37, 31, 31, \n",
      "https://www.timeanddate.com/holidays/south-korea/ => 36, 30, 31, 33, 30, \n",
      "https://www.timeanddate.com/holidays/south-sudan/ => 21, 21, 21, 28, 22, \n",
      "https://www.timeanddate.com/holidays/spain/ => 50, 56, 114, 57, 55, \n"
     ]
    },
    {
     "name": "stdout",
     "output_type": "stream",
     "text": [
      "https://www.timeanddate.com/holidays/sri-lanka/ => 44, 42, 47, 41, 37, \n",
      "https://www.timeanddate.com/holidays/saint-barthelemy/ => 22, 22, 22, 22, 22, \n",
      "https://www.timeanddate.com/holidays/sudan/ => 19, 20, 20, 19, 19, \n",
      "https://www.timeanddate.com/holidays/suriname/ => 20, 20, 20, 20, 20, \n",
      "https://www.timeanddate.com/holidays/sweden/ => 34, 34, 34, 34, 34, \n",
      "https://www.timeanddate.com/holidays/switzerland/ => 31, 31, 31, 33, 33, \n",
      "https://www.timeanddate.com/holidays/syria/ => 21, 22, 27, 21, 21, \n",
      "https://www.timeanddate.com/holidays/taiwan/ => 49, 51, 58, 58, 52, \n",
      "https://www.timeanddate.com/holidays/tajikistan/ => 17, 17, 17, 18, 18, \n",
      "https://www.timeanddate.com/holidays/tanzania/ => 24, 24, 24, 24, 24, \n",
      "https://www.timeanddate.com/holidays/thailand/ => 38, 43, 43, 40, 35, \n",
      "https://www.timeanddate.com/holidays/bahamas/ => 24, 24, 24, 28, 27, \n",
      "https://www.timeanddate.com/holidays/togo/ => 19, 19, 19, 20, 19, \n",
      "https://www.timeanddate.com/holidays/tonga/ => 17, 19, 18, 20, 20, \n",
      "https://www.timeanddate.com/holidays/trinidad/ => 26, 27, 26, 29, 28, \n",
      "https://www.timeanddate.com/holidays/tunisia/ => 19, 19, 19, 19, 19, \n",
      "https://www.timeanddate.com/holidays/turkey/ => 23, 24, 23, 23, 23, \n",
      "https://www.timeanddate.com/holidays/turkmenistan/ => 23, 23, 24, 23, 21, \n",
      "https://www.timeanddate.com/holidays/turks-and-caicos-islands/ => 18, 18, 20, 21, 21, \n",
      "https://www.timeanddate.com/holidays/tuvalu/ => 17, 17, 18, 20, 22, \n",
      "https://www.timeanddate.com/holidays/uganda/ => 21, 21, 22, 25, 21, \n",
      "https://www.timeanddate.com/holidays/ukraine/ => 45, 38, 42, 42, 42, \n",
      "https://www.timeanddate.com/holidays/united-arab-emirates/ => 0, 0, 0, 0, 0, \n",
      "https://www.timeanddate.com/holidays/uk/ => 11, 12, 11, 10, 10, \n",
      "https://www.timeanddate.com/holidays/us/ => 131, 134, 212, 144, 159, \n",
      "https://www.timeanddate.com/holidays/uruguay/ => 25, 25, 25, 22, 22, \n",
      "https://www.timeanddate.com/holidays/united-states-virgin-islands/ => 29, 29, 29, 30, 29, \n",
      "https://www.timeanddate.com/holidays/uzbekistan/ => 14, 14, 14, 27, 14, \n",
      "https://www.timeanddate.com/holidays/vanuatu/ => 18, 18, 24, 21, 22, \n",
      "https://www.timeanddate.com/holidays/vatican-city-state/ => 29, 29, 29, 29, 29, \n",
      "https://www.timeanddate.com/holidays/venezuela/ => 37, 42, 36, 43, 36, \n",
      "https://www.timeanddate.com/holidays/vietnam/ => 24, 32, 23, 25, 25, \n",
      "https://www.timeanddate.com/holidays/wallis-and-futuna/ => 16, 16, 17, 18, 18, \n",
      "https://www.timeanddate.com/holidays/yemen/ => 23, 22, 27, 22, 23, \n",
      "https://www.timeanddate.com/holidays/zambia/ => 21, 22, 22, 26, 24, \n",
      "https://www.timeanddate.com/holidays/zimbabwe/ => 20, 22, 20, 23, 23, \n"
     ]
    }
   ],
   "source": [
    "for country_url in tqdm(countries_urls[82:]):\n",
    "    print(country_url, end=\" => \")\n",
    "    for year in years:\n",
    "        web_url = country_url + year\n",
    "        try:\n",
    "            df = pd.read_html(web_url)[0].dropna()\n",
    "        except ValueError:\n",
    "            continue\n",
    "        if len(df.columns) == 4:\n",
    "            df['Details'] = \"\"\n",
    "        df.columns = [\"Date\", \"Day\", \"Name\", \"Type\" , \"Details\"]\n",
    "        df['Country'] = country_url.split(\"/\")[-2].capitalize()\n",
    "        df['Year'] = year\n",
    "        print(df.shape[0], end=\", \")\n",
    "#         df.columns = ['Date', 'Day', 'Name', 'Type', 'Country', 'Year']\n",
    "        all_dfs.append(df)\n",
    "        del df\n",
    "    print()\n",
    "        \n",
    "#         break\n",
    "#     break"
   ]
  },
  {
   "cell_type": "code",
   "execution_count": 107,
   "id": "confused-voice",
   "metadata": {},
   "outputs": [
    {
     "data": {
      "text/plain": [
       "82"
      ]
     },
     "execution_count": 107,
     "metadata": {},
     "output_type": "execute_result"
    }
   ],
   "source": [
    "countries_urls.index(country_url)"
   ]
  },
  {
   "cell_type": "code",
   "execution_count": 111,
   "id": "successful-tourism",
   "metadata": {},
   "outputs": [],
   "source": [
    "df = pd.concat(all_dfs)"
   ]
  },
  {
   "cell_type": "code",
   "execution_count": 114,
   "id": "latter-player",
   "metadata": {},
   "outputs": [],
   "source": [
    "df.reset_index().drop(['index'], axis=1).to_excel('Holidays Data.xlsx', index=False)"
   ]
  },
  {
   "cell_type": "code",
   "execution_count": null,
   "id": "fallen-finder",
   "metadata": {},
   "outputs": [],
   "source": [
    "import requests\n",
    "import os\n",
    "import pandas as pd\n",
    "from bs4 import BeautifulSoup\n",
    "import json\n",
    "from time import sleep\n",
    "from tqdm.auto import tqdm\n",
    "\n",
    "headers = {'User-Agent': 'Mozilla/5.0 (Windows NT 10.0; Win64; x64) AppleWebKit/537.36 (KHTML, like Gecko) Chrome/89.0.4389.90 Safari/537.36 Edg/89.0.774.63',}\n",
    "site = requests.get('https://www.timeanddate.com/holidays/?allcountries', headers=headers,)\n",
    "soup = BeautifulSoup(site.content)\n",
    "\n",
    "# urls of all the countries\n",
    "countries_urls = [\"https://www.timeanddate.com\"+x.find('a')['href'] for x in soup.find(\"article\", {'class':'category-list'}).findAll('li')]\n",
    "\n",
    "# the years we want to extract. you can change this and use the years you want.\n",
    "years = [\"2018\",\"2019\", \"2020\", \"2021\", \"2022\"]\n",
    "\n",
    "all_dfs = []\n",
    "for country_url in tqdm(countries_urls): # country loop\n",
    "    print(country_url, end=\" => \") \n",
    "    for year in years: # year loop\n",
    "        \n",
    "        web_url = country_url + year\n",
    "        try:\n",
    "            df = pd.read_html(web_url)[0].dropna()\n",
    "        except ValueError: # in case there is not tables in the website\n",
    "            continue\n",
    "        if len(df.columns) == 4:\n",
    "            df['Details'] = \"\"\n",
    "        df.columns = [\"Date\", \"Day\", \"Name\", \"Type\" , \"Details\"]\n",
    "        df['Country'] = country_url.split(\"/\")[-2].capitalize()\n",
    "        df['Year'] = year\n",
    "        all_dfs.append(df)\n",
    "        \n",
    "        print(df.shape[0], end=\", \")\n",
    "        del df \n",
    "    print()\n",
    "        \n",
    "#         break\n",
    "#     break\n",
    "\n",
    "\n",
    "df = pd.concat(all_dfs)\n",
    "df.reset_index().drop(['index'], axis=1).to_excel('Holidays Data.xlsx', index=False)"
   ]
  },
  {
   "cell_type": "code",
   "execution_count": null,
   "id": "primary-collaboration",
   "metadata": {},
   "outputs": [],
   "source": []
  },
  {
   "cell_type": "code",
   "execution_count": null,
   "id": "instant-george",
   "metadata": {},
   "outputs": [],
   "source": []
  },
  {
   "cell_type": "code",
   "execution_count": null,
   "id": "changing-seven",
   "metadata": {},
   "outputs": [],
   "source": []
  },
  {
   "cell_type": "code",
   "execution_count": 48,
   "id": "searching-equipment",
   "metadata": {},
   "outputs": [],
   "source": [
    "from selenium import webdriver\n",
    "from selenium.webdriver.common.keys import Keys\n",
    "from selenium.webdriver.common.by import By\n",
    "from selenium.webdriver.support.ui import WebDriverWait\n",
    "from selenium.webdriver.support import expected_conditions as EC\n",
    "from selenium.webdriver.chrome.options import Options\n",
    "from selenium.common.exceptions import TimeoutException\n",
    "import pandas as pd"
   ]
  },
  {
   "cell_type": "code",
   "execution_count": 49,
   "id": "found-choice",
   "metadata": {},
   "outputs": [],
   "source": [
    "options = Options()\n",
    "options.add_argument(\"--disable-blink-features\")\n",
    "options.add_argument(\"--disable-blink-features=AutomationControlled\")\n",
    "options.add_argument(\"start-maximized\")\n",
    "options.add_experimental_option(\"excludeSwitches\", [\"enable-automation\"])\n",
    "options.add_experimental_option('useAutomationExtension', False)\n",
    "dr = webdriver.Chrome(options=options)"
   ]
  },
  {
   "cell_type": "code",
   "execution_count": 50,
   "id": "medieval-privilege",
   "metadata": {},
   "outputs": [],
   "source": [
    "cookies = pd.read_json('cookies.json')"
   ]
  },
  {
   "cell_type": "code",
   "execution_count": 51,
   "id": "rental-engineer",
   "metadata": {},
   "outputs": [],
   "source": [
    "dr.set_page_load_timeout(6)"
   ]
  },
  {
   "cell_type": "code",
   "execution_count": 52,
   "id": "brave-austin",
   "metadata": {},
   "outputs": [],
   "source": [
    "try:\n",
    "    dr.get('https://s.taobao.com/search?spm=a21wu.241046-global.6977698868.164.4103b6cbbgbVCY&q=%E9%A5%B0%E5%93%81DIY&acm=lb-zebra-241046-2075394.1003.4.1812236&scm=1003.4.lb-zebra-241046-2075394.OTHER_15206383875223_1812236&bcoffset=6&ntoffset=6&p4ppushleft=1%2C48&s=0')\n",
    "except TimeoutException:\n",
    "    pass"
   ]
  },
  {
   "cell_type": "code",
   "execution_count": 53,
   "id": "simple-blake",
   "metadata": {
    "scrolled": true
   },
   "outputs": [],
   "source": [
    "for index, cookie in cookies.drop(['httpOnly', 'sameSite', 'session', 'storeId', 'id', 'hostOnly', 'expirationDate'], axis=1).iterrows():\n",
    "    dr.add_cookie(dict(cookie))"
   ]
  },
  {
   "cell_type": "code",
   "execution_count": 54,
   "id": "increased-sight",
   "metadata": {},
   "outputs": [],
   "source": [
    "url = 'https://s.taobao.com/search?q=camping+tents&type=p&tmhkh5=&spm=a21wu.241046-global.a2227oh.d100&from=sea_1_searchbutton&catId=100'"
   ]
  },
  {
   "cell_type": "code",
   "execution_count": 55,
   "id": "duplicate-review",
   "metadata": {},
   "outputs": [],
   "source": [
    "try:\n",
    "    dr.get(url)\n",
    "except TimeoutException:\n",
    "    pass"
   ]
  },
  {
   "cell_type": "code",
   "execution_count": 21,
   "id": "bottom-estimate",
   "metadata": {},
   "outputs": [],
   "source": [
    "NUM_PAGES = 1"
   ]
  },
  {
   "cell_type": "code",
   "execution_count": 22,
   "id": "innocent-equity",
   "metadata": {},
   "outputs": [],
   "source": [
    "prod_urls_array = []\n",
    "vendors_array = []"
   ]
  },
  {
   "cell_type": "code",
   "execution_count": 23,
   "id": "familiar-sleeve",
   "metadata": {
    "collapsed": true
   },
   "outputs": [
    {
     "ename": "TimeoutException",
     "evalue": "Message: \n",
     "output_type": "error",
     "traceback": [
      "\u001b[1;31m---------------------------------------------------------------------------\u001b[0m",
      "\u001b[1;31mTimeoutException\u001b[0m                          Traceback (most recent call last)",
      "\u001b[1;32m<ipython-input-23-2cdeb154a692>\u001b[0m in \u001b[0;36m<module>\u001b[1;34m\u001b[0m\n\u001b[0;32m     14\u001b[0m     \u001b[0mdr\u001b[0m\u001b[1;33m.\u001b[0m\u001b[0mfind_element_by_xpath\u001b[0m\u001b[1;33m(\u001b[0m\u001b[1;34m'//li[@class=\"item next\"]'\u001b[0m\u001b[1;33m)\u001b[0m\u001b[1;33m.\u001b[0m\u001b[0mclick\u001b[0m\u001b[1;33m(\u001b[0m\u001b[1;33m)\u001b[0m\u001b[1;33m\u001b[0m\u001b[1;33m\u001b[0m\u001b[0m\n\u001b[0;32m     15\u001b[0m     WebDriverWait(dr, 10).until(\n\u001b[1;32m---> 16\u001b[1;33m             \u001b[0mEC\u001b[0m\u001b[1;33m.\u001b[0m\u001b[0mvisibility_of_element_located\u001b[0m\u001b[1;33m(\u001b[0m\u001b[1;33m(\u001b[0m\u001b[0mBy\u001b[0m\u001b[1;33m.\u001b[0m\u001b[0mXPATH\u001b[0m\u001b[1;33m,\u001b[0m \u001b[1;34mf'//span[@class=\"num\" and contains(text(),{i+2})]'\u001b[0m\u001b[1;33m)\u001b[0m\u001b[1;33m)\u001b[0m\u001b[1;33m\u001b[0m\u001b[1;33m\u001b[0m\u001b[0m\n\u001b[0m\u001b[0;32m     17\u001b[0m         )\n",
      "\u001b[1;32m~\\AppData\\Roaming\\Python\\Python37\\site-packages\\selenium\\webdriver\\support\\wait.py\u001b[0m in \u001b[0;36muntil\u001b[1;34m(self, method, message)\u001b[0m\n\u001b[0;32m     78\u001b[0m             \u001b[1;32mif\u001b[0m \u001b[0mtime\u001b[0m\u001b[1;33m.\u001b[0m\u001b[0mtime\u001b[0m\u001b[1;33m(\u001b[0m\u001b[1;33m)\u001b[0m \u001b[1;33m>\u001b[0m \u001b[0mend_time\u001b[0m\u001b[1;33m:\u001b[0m\u001b[1;33m\u001b[0m\u001b[1;33m\u001b[0m\u001b[0m\n\u001b[0;32m     79\u001b[0m                 \u001b[1;32mbreak\u001b[0m\u001b[1;33m\u001b[0m\u001b[1;33m\u001b[0m\u001b[0m\n\u001b[1;32m---> 80\u001b[1;33m         \u001b[1;32mraise\u001b[0m \u001b[0mTimeoutException\u001b[0m\u001b[1;33m(\u001b[0m\u001b[0mmessage\u001b[0m\u001b[1;33m,\u001b[0m \u001b[0mscreen\u001b[0m\u001b[1;33m,\u001b[0m \u001b[0mstacktrace\u001b[0m\u001b[1;33m)\u001b[0m\u001b[1;33m\u001b[0m\u001b[1;33m\u001b[0m\u001b[0m\n\u001b[0m\u001b[0;32m     81\u001b[0m \u001b[1;33m\u001b[0m\u001b[0m\n\u001b[0;32m     82\u001b[0m     \u001b[1;32mdef\u001b[0m \u001b[0muntil_not\u001b[0m\u001b[1;33m(\u001b[0m\u001b[0mself\u001b[0m\u001b[1;33m,\u001b[0m \u001b[0mmethod\u001b[0m\u001b[1;33m,\u001b[0m \u001b[0mmessage\u001b[0m\u001b[1;33m=\u001b[0m\u001b[1;34m''\u001b[0m\u001b[1;33m)\u001b[0m\u001b[1;33m:\u001b[0m\u001b[1;33m\u001b[0m\u001b[1;33m\u001b[0m\u001b[0m\n",
      "\u001b[1;31mTimeoutException\u001b[0m: Message: \n"
     ]
    }
   ],
   "source": [
    "for i in range(NUM_PAGES):\n",
    "    for _ in range(7):\n",
    "        dr.find_element_by_tag_name('body').send_keys(Keys.PAGE_DOWN)\n",
    "        sleep(0.5)\n",
    "    sleep(1)\n",
    "    \n",
    "    soup = BeautifulSoup(dr.page_source)\n",
    "    prods = soup.find('div', {'id':'mainsrp-itemlist'}).findAll('div', {\"data-category\": \"auctions\"})\n",
    "    prod_urls = [x.find('a')['href'] for x in prods]\n",
    "    vendors = [x.getText('', True) for x in soup.findAll('div', {'class': 'shop'})]\n",
    "    prod_urls_array += prod_urls\n",
    "    vendors_array += vendors\n",
    "    \n",
    "    dr.find_element_by_xpath('//li[@class=\"item next\"]').click() \n",
    "    WebDriverWait(dr, 10).until(\n",
    "            EC.visibility_of_element_located((By.XPATH, f'//span[@class=\"num\" and contains(text(),{i+2})]'))\n",
    "        )"
   ]
  },
  {
   "cell_type": "code",
   "execution_count": 24,
   "id": "under-image",
   "metadata": {
    "collapsed": true
   },
   "outputs": [
    {
     "data": {
      "text/plain": [
       "['//detail.tmall.com/item.htm?id=624562743543&ns=1&abbucket=5',\n",
       " '//detail.tmall.com/item.htm?id=631311919981&ad_id=&am_id=&cm_id=140105335569ed55e27b&pm_id=&abbucket=5#detail',\n",
       " '//item.taobao.com/item.htm?id=640412019850&ns=1&abbucket=5#detail',\n",
       " '//item.taobao.com/item.htm?id=580936432791&ns=1&abbucket=5#detail',\n",
       " '//item.taobao.com/item.htm?id=602973489445&ns=1&abbucket=5#detail',\n",
       " '//detail.tmall.com/item.htm?id=625921629387&ns=1&abbucket=5',\n",
       " '//detail.tmall.com/item.htm?id=627723853189&ns=1&abbucket=5',\n",
       " '//item.taobao.com/item.htm?id=617166672952&ns=1&abbucket=5#detail',\n",
       " '//item.taobao.com/item.htm?id=621350805404&ns=1&abbucket=5#detail',\n",
       " '//item.taobao.com/item.htm?id=618887381906&ns=1&abbucket=5#detail',\n",
       " '//item.taobao.com/item.htm?id=635793119876&ns=1&abbucket=5#detail',\n",
       " '//detail.tmall.com/item.htm?id=570543981383&ns=1&abbucket=5',\n",
       " '//item.taobao.com/item.htm?id=640291374703&ns=1&abbucket=5#detail',\n",
       " '//item.taobao.com/item.htm?id=37512154831&ns=1&abbucket=5#detail',\n",
       " '//item.taobao.com/item.htm?id=625746568785&ns=1&abbucket=5#detail',\n",
       " '//item.taobao.com/item.htm?id=627043518497&ns=1&abbucket=5#detail',\n",
       " '//item.taobao.com/item.htm?id=629888908715&ns=1&abbucket=5#detail',\n",
       " '//item.taobao.com/item.htm?id=637727921297&ns=1&abbucket=5#detail',\n",
       " '//detail.tmall.com/item.htm?id=638333372105&ns=1&abbucket=5',\n",
       " '//item.taobao.com/item.htm?id=599611423839&ns=1&abbucket=5#detail',\n",
       " '//detail.tmall.com/item.htm?id=629646523538&ns=1&abbucket=5',\n",
       " '//item.taobao.com/item.htm?id=618387033397&ns=1&abbucket=5#detail',\n",
       " '//item.taobao.com/item.htm?id=621294503894&ns=1&abbucket=5#detail',\n",
       " '//item.taobao.com/item.htm?id=615698174004&ns=1&abbucket=5#detail',\n",
       " '//item.taobao.com/item.htm?id=626644747343&ns=1&abbucket=5#detail',\n",
       " '//detail.tmall.com/item.htm?id=570646258557&ns=1&abbucket=5',\n",
       " '//detail.tmall.com/item.htm?id=641965734902&ns=1&abbucket=5',\n",
       " '//detail.tmall.com/item.htm?id=628005484524&ns=1&abbucket=5',\n",
       " '//detail.tmall.com/item.htm?id=631253813247&ns=1&abbucket=5',\n",
       " '//item.taobao.com/item.htm?id=587900447903&ns=1&abbucket=5#detail',\n",
       " '//item.taobao.com/item.htm?id=641170943493&ns=1&abbucket=5#detail',\n",
       " '//item.taobao.com/item.htm?id=615990911399&ns=1&abbucket=5#detail',\n",
       " '//detail.tmall.com/item.htm?id=642099093554&ns=1&abbucket=5',\n",
       " '//item.taobao.com/item.htm?id=618088720252&ns=1&abbucket=5#detail',\n",
       " '//item.taobao.com/item.htm?id=605403680977&ns=1&abbucket=5#detail',\n",
       " '//item.taobao.com/item.htm?id=527648490592&ns=1&abbucket=5#detail',\n",
       " '//item.taobao.com/item.htm?id=626061665465&ns=1&abbucket=5#detail',\n",
       " '//detail.tmall.com/item.htm?id=633121468283&ns=1&abbucket=5',\n",
       " '//detail.tmall.com/item.htm?id=638872750380&ns=1&abbucket=5',\n",
       " '//detail.tmall.com/item.htm?id=642418310155&ns=1&abbucket=5',\n",
       " '//detail.tmall.com/item.htm?id=642076205749&ns=1&abbucket=5',\n",
       " '//item.taobao.com/item.htm?id=610441908760&ns=1&abbucket=5#detail',\n",
       " '//item.taobao.com/item.htm?id=637862984365&ns=1&abbucket=5#detail',\n",
       " '//detail.tmall.com/item.htm?id=639040816018&ns=1&abbucket=5',\n",
       " '//detail.tmall.com/item.htm?id=631585414686&ns=1&abbucket=5',\n",
       " '//item.taobao.com/item.htm?id=640357796510&ns=1&abbucket=5#detail',\n",
       " '//item.taobao.com/item.htm?id=600831993556&ns=1&abbucket=5#detail',\n",
       " '//detail.tmall.com/item.htm?id=632588074359&ns=1&abbucket=5']"
      ]
     },
     "execution_count": 24,
     "metadata": {},
     "output_type": "execute_result"
    }
   ],
   "source": [
    "prod_urls_array"
   ]
  },
  {
   "cell_type": "code",
   "execution_count": 16,
   "id": "dominant-stack",
   "metadata": {
    "collapsed": true
   },
   "outputs": [
    {
     "data": {
      "text/plain": [
       "['极冰户外专营店',\n",
       " 'naturehike途鸿专卖店',\n",
       " 'fantasygarden旗舰店',\n",
       " '莱伊晶旗舰店',\n",
       " '玲娇旗舰店',\n",
       " '小风筝呀0316',\n",
       " 'mseav',\n",
       " 'mseav',\n",
       " 'hk蒸气士多',\n",
       " 'pengmin885',\n",
       " 'freelife1988',\n",
       " 'tb26304195',\n",
       " 'freelife1988',\n",
       " '淘沙疯丫头',\n",
       " '阿节节高',\n",
       " '淘沙疯丫头',\n",
       " 'ellen1816',\n",
       " '黄亭予2',\n",
       " '八冠军',\n",
       " '爱在飞翔7391',\n",
       " 'wangdongxia042',\n",
       " '八冠军',\n",
       " 'g253034460',\n",
       " 'g253034460',\n",
       " '阿节节高',\n",
       " 'wangdongxia042',\n",
       " '乐尚企业商场',\n",
       " '黄亭予2',\n",
       " '杨馒头258',\n",
       " 'pengmin885',\n",
       " 'sophieliu886',\n",
       " '花开雨落百货',\n",
       " 'szxuanyuan1986',\n",
       " 'w306807534',\n",
       " 'w306807534',\n",
       " '厨房燃气热水器配件商城',\n",
       " 'sophieliu886',\n",
       " 'szxuanyuan1986',\n",
       " '微笑生活吧',\n",
       " 'suishuai1993',\n",
       " 'ellen1816',\n",
       " '刚哥威武霸气233',\n",
       " 'kunchong630',\n",
       " '气克斗牛杂货铺',\n",
       " '八龙门',\n",
       " '聚优品365',\n",
       " 'wuyangboya',\n",
       " '气克斗牛杂货铺']"
      ]
     },
     "execution_count": 16,
     "metadata": {},
     "output_type": "execute_result"
    }
   ],
   "source": [
    "vendors_array"
   ]
  },
  {
   "cell_type": "code",
   "execution_count": null,
   "id": "sufficient-married",
   "metadata": {},
   "outputs": [],
   "source": []
  },
  {
   "cell_type": "code",
   "execution_count": 56,
   "id": "cooperative-irrigation",
   "metadata": {},
   "outputs": [
    {
     "name": "stdout",
     "output_type": "stream",
     "text": [
      "skipped\n",
      "Message: \n",
      "\n",
      "scraped\n",
      "\n",
      "scraped\n",
      "\n",
      "scraped\n",
      "\n"
     ]
    }
   ],
   "source": [
    "for vend_num, url in enumerate(prod_urls_array[0:4]):\n",
    "    if \"https\" not in url:\n",
    "        url = \"https:\" + url\n",
    "    try:\n",
    "        dr.get(url)\n",
    "#         sleep(5)\n",
    "        \n",
    "#         try:\n",
    "#             popup_dialogue = WebDriverWait(dr, 5).until(\n",
    "#                 EC.presence_of_element_located((By.CLASS_NAME, \"baxia-dialog-close\"))\n",
    "#             )\n",
    "#             popup_dialogue.click()\n",
    "#             popup_dialogue = WebDriverWait(dr, 5).until(\n",
    "#                 EC.presence_of_element_located((By.CLASS_NAME, \"baxia-dialog-close\"))\n",
    "#             )\n",
    "#             popup_dialogue.click()\n",
    "#             print('reached1')\n",
    "#         except:\n",
    "#             print('s')\n",
    "    except TimeoutException:\n",
    "        sleep(5)\n",
    "    try:\n",
    "#         print('reached2')\n",
    "        WebDriverWait(dr, 15).until(\n",
    "            EC.presence_of_element_located((By.ID, \"J_UlThumb\"))\n",
    "        )\n",
    "        WebDriverWait(dr, 15).until(\n",
    "            EC.presence_of_element_located((By.ID, \"attributes\"))\n",
    "        )\n",
    "#         print('reached3')\n",
    "        WebDriverWait(dr, 15).until(\n",
    "            EC.presence_of_element_located((By.CLASS_NAME, \"tb-detail-hd\"))\n",
    "        )\n",
    "        WebDriverWait(dr, 15).until(\n",
    "            EC.presence_of_element_located((By.CLASS_NAME, \"tm-price\"))\n",
    "        )\n",
    "#         print('reache4')\n",
    "    except:\n",
    "        sleep(2)\n",
    "        try:\n",
    "            WebDriverWait(dr, 15).until(\n",
    "                EC.presence_of_element_located((By.CLASS_NAME, \"tb-main-title\"))\n",
    "            )\n",
    "            WebDriverWait(dr, 15).until(\n",
    "            EC.presence_of_element_located((By.CLASS_NAME, \"tb-rmb-num\"))\n",
    "            )\n",
    "        except Exception as ex:\n",
    "            print('skipped')\n",
    "            print(ex)\n",
    "            continue\n",
    "            \n",
    "        \n",
    "    scrapify(dr.page_source, dr.current_url, vend_num)\n",
    "    print('scraped\\n')\n",
    "        \n",
    "#     break"
   ]
  },
  {
   "cell_type": "markdown",
   "id": "administrative-irrigation",
   "metadata": {},
   "source": [
    "# detail.tmall"
   ]
  },
  {
   "cell_type": "code",
   "execution_count": 45,
   "id": "living-captain",
   "metadata": {},
   "outputs": [],
   "source": [
    "name_array, original_price_array, discount_price_array = [], [], []\n",
    "img_urls_array, description_html_array, description_text_array = [], [], []\n",
    "vendors_final_array, prod_urls_final_array = [], []\n",
    "img_urls1, img_urls2, img_urls3, img_urls4, img_urls5, img_urls6, img_urls7, img_urls8, img_urls9, img_urls10, =  [], [], [], [], [], [], [], [], [], []"
   ]
  },
  {
   "cell_type": "code",
   "execution_count": 46,
   "id": "vulnerable-dialogue",
   "metadata": {},
   "outputs": [],
   "source": [
    "def scrapify(site, url, vend_num):\n",
    "    soup1 = BeautifulSoup(site)\n",
    "    if 'detail.tmall.com' in url:\n",
    "        name = soup1.find('div', {'class':'tb-detail-hd'}).getText('\\n', True)\n",
    "        original_price = soup1.find('span', {'class':'tm-price'}).getText('', True)\n",
    "        try:\n",
    "            discount_price = soup1.findAll('span', {'class':'tm-price'})[1].getText('', True)\n",
    "        except:\n",
    "            discount_price = ''\n",
    "        img_urls = [x['src'].replace('400x400', '800x800').replace('50x50', '800x800').replace('60x60', '800x800')\n",
    "                    for x in soup1.find('ul', {'id': 'J_UlThumb'}).findAll('img', {'src': True})]\n",
    "        description_html = soup1.find('div', {'id': 'attributes'})\n",
    "        description_text = soup1.find('div', {'id': 'attributes'}).getText('\\n', True)\n",
    "        vendor = vendors_array[vend_num]\n",
    "    \n",
    "    \n",
    "    elif 'item.taobao.com' in url:\n",
    "        name = soup1.find('h3', {'class': 'tb-main-title'}).getText('', True)\n",
    "        try:\n",
    "            discount_price = soup1.find('em', {'class': \"tb-rmb-num\", 'id':True}).getText('', True)\n",
    "        except:\n",
    "            discount_price = ''\n",
    "        original_price = soup1.find('em', {'class': \"tb-rmb-num\", 'id':False}).getText('', True)\n",
    "            \n",
    "        img_urls = [x['src'].replace('400x400', '800x800').replace('50x50', '800x800').replace('60x60', '800x800')\n",
    "                    for x in soup1.find('ul', {'id': 'J_UlThumb'}).findAll('img', {'src': True})]\n",
    "     \n",
    "        description_html = soup1.find('div', {'id': 'attributes'})\n",
    "        description_text = soup1.find('div', {'id': 'attributes'}).getText('\\n', True)\n",
    "        vendor = vendors_array[vend_num]\n",
    "        \n",
    "    else:\n",
    "        print('weird url => ', url)\n",
    "        return\n",
    "    \n",
    "    try:\n",
    "        img_urls1.append(img_urls[0])\n",
    "    except:\n",
    "        img_urls1.append('')\n",
    "    try:\n",
    "        img_urls2.append(img_urls[1])\n",
    "    except:\n",
    "        img_urls2.append('')\n",
    "    try:\n",
    "        img_urls3.append(img_urls[2])\n",
    "    except:\n",
    "        img_urls3.append('')\n",
    "    try:\n",
    "        img_urls4.append(img_urls[3])\n",
    "    except:\n",
    "        img_urls4.append('')\n",
    "    try:\n",
    "        img_urls5.append(img_urls[4])\n",
    "    except:\n",
    "        img_urls5.append('')\n",
    "    try:\n",
    "        img_urls6.append(img_urls[5])\n",
    "    except:\n",
    "        img_urls6.append('')\n",
    "    try:\n",
    "        img_urls7.append(img_urls[6])\n",
    "    except:\n",
    "        img_urls7.append('')\n",
    "    try:\n",
    "        img_urls8.append(img_urls[7])\n",
    "    except:\n",
    "        img_urls8.append('')\n",
    "    try:\n",
    "        img_urls9.append(img_urls[8])\n",
    "    except:\n",
    "        img_urls9.append('')\n",
    "    try:\n",
    "        img_urls10.append(img_urls[9])\n",
    "    except:\n",
    "        img_urls10.append('')\n",
    "\n",
    "    \n",
    "    name_array.append(name)\n",
    "    vendors_final_array.append(vendor)\n",
    "    original_price_array.append(original_price)\n",
    "    discount_price_array.append(discount_price) \n",
    "    img_urls_array.append(img_urls)\n",
    "    description_html_array.append(description_html)\n",
    "    description_text_array.append(description_text)\n",
    "    prod_urls_final_array.append(url)"
   ]
  },
  {
   "cell_type": "markdown",
   "id": "parliamentary-michigan",
   "metadata": {},
   "source": [
    "# item.taobao"
   ]
  },
  {
   "cell_type": "code",
   "execution_count": 51,
   "id": "removable-relay",
   "metadata": {},
   "outputs": [],
   "source": [
    "name = soup1.find('h3', {'class': 'tb-main-title'}).getText('', True)\n",
    "discount_price = soup1.find('em', {'class': \"tb-rmb-num\", 'id':True}).getText('', True)\n",
    "original_price = soup1.find('em', {'class': \"tb-rmb-num\", 'id':False}).getText('', True)\n",
    "img_urls = [x['src'].replace('400x400', '800x800') for x in soup1.find('ul', {'id': 'J_UlThumb'}).findAll('img', {'src': True})]\n",
    "description_html = soup1.find('div', {'id': 'attributes'})\n",
    "description_text = soup1.find('div', {'id': 'attributes'}).getText('\\n', True)"
   ]
  },
  {
   "cell_type": "code",
   "execution_count": 65,
   "id": "artistic-accused",
   "metadata": {},
   "outputs": [
    {
     "data": {
      "text/plain": [
       "['//img.alicdn.com/imgextra/i3/2209250352999/O1CN01LbMcfr1Y1aR0nuSzm_!!2209250352999.jpg_60x60q90.jpg',\n",
       " '//gd4.alicdn.com/imgextra/i4/676872413/O1CN01LhnkY11ThCJymdZhO_!!676872413-0-lubanu-s.jpg_800x800.jpg_.webp',\n",
       " '//gd1.alicdn.com/imgextra/i1/2173838406/O1CN01l95Z7Z2BxzxNHQfyW_!!2173838406.jpg_800x800.jpg_.webp']"
      ]
     },
     "execution_count": 65,
     "metadata": {},
     "output_type": "execute_result"
    }
   ],
   "source": [
    "img_urls4"
   ]
  },
  {
   "cell_type": "code",
   "execution_count": 57,
   "id": "every-material",
   "metadata": {
    "scrolled": true
   },
   "outputs": [],
   "source": [
    "df = pd.DataFrame({\n",
    "    'Title': name_array,\n",
    "    'Vendor': vendors_final_array,\n",
    "    'OriginalPrice': original_price_array,\n",
    "    'DiscountPrice': discount_price_array,\n",
    "    'DescriptionText': description_text_array,\n",
    "    'DescriptionHTML': description_html_array,\n",
    "    'ProdLink': prod_urls_final_array,\n",
    "    'ImgURL1': img_urls1,\n",
    "    'ImgURL2': img_urls2,\n",
    "    'ImgURL3': img_urls3,\n",
    "    'ImgURL4': img_urls4,\n",
    "    'ImgURL5': img_urls5,\n",
    "    'ImgURL6': img_urls6,\n",
    "    'ImgURL7': img_urls7,\n",
    "    'ImgURL8': img_urls8,\n",
    "    'ImgURL9': img_urls9,\n",
    "    'ImgURL10': img_urls10,    \n",
    "#     'ImgURLs': img_urls_array,\n",
    "})"
   ]
  },
  {
   "cell_type": "code",
   "execution_count": null,
   "id": "demanding-jungle",
   "metadata": {},
   "outputs": [],
   "source": [
    "    try:\n",
    "        WebDriverWait(dr, 30).until(\n",
    "            EC.visibility_of_element_located((By.XPATH, f'//span[@class=\"num\" and contains(text(),{i+2})]'))\n",
    "        )\n",
    "    except:\n",
    "        break\n"
   ]
  },
  {
   "cell_type": "code",
   "execution_count": 58,
   "id": "iraqi-henry",
   "metadata": {},
   "outputs": [
    {
     "data": {
      "text/html": [
       "<div>\n",
       "<style scoped>\n",
       "    .dataframe tbody tr th:only-of-type {\n",
       "        vertical-align: middle;\n",
       "    }\n",
       "\n",
       "    .dataframe tbody tr th {\n",
       "        vertical-align: top;\n",
       "    }\n",
       "\n",
       "    .dataframe thead th {\n",
       "        text-align: right;\n",
       "    }\n",
       "</style>\n",
       "<table border=\"1\" class=\"dataframe\">\n",
       "  <thead>\n",
       "    <tr style=\"text-align: right;\">\n",
       "      <th></th>\n",
       "      <th>Title</th>\n",
       "      <th>Vendor</th>\n",
       "      <th>OriginalPrice</th>\n",
       "      <th>DiscountPrice</th>\n",
       "      <th>DescriptionText</th>\n",
       "      <th>DescriptionHTML</th>\n",
       "      <th>ProdLink</th>\n",
       "      <th>ImgURL1</th>\n",
       "      <th>ImgURL2</th>\n",
       "      <th>ImgURL3</th>\n",
       "      <th>ImgURL4</th>\n",
       "      <th>ImgURL5</th>\n",
       "      <th>ImgURL6</th>\n",
       "      <th>ImgURL7</th>\n",
       "      <th>ImgURL8</th>\n",
       "      <th>ImgURL9</th>\n",
       "      <th>ImgURL10</th>\n",
       "    </tr>\n",
       "  </thead>\n",
       "  <tbody>\n",
       "    <tr>\n",
       "      <th>0</th>\n",
       "      <td>Mini Folding Table Outdoor Barbecue Camping Te...</td>\n",
       "      <td>玲娇旗舰店</td>\n",
       "      <td>97.00</td>\n",
       "      <td></td>\n",
       "      <td>品牌名称：\\n玲娇\\n产品参数：\\n品牌: 玲娇\\n材质: 其他\\n颜色分类: Silver...</td>\n",
       "      <td>&lt;div class=\"attributes\" id=\"attributes\"&gt;\n",
       "&lt;div ...</td>\n",
       "      <td>https://detail.tmall.com/item.htm?id=631311919...</td>\n",
       "      <td>//img.alicdn.com/imgextra/i3/2209250352999/O1C...</td>\n",
       "      <td>//img.alicdn.com/imgextra/i2/2209250352999/O1C...</td>\n",
       "      <td>//img.alicdn.com/imgextra/i2/2209250352999/O1C...</td>\n",
       "      <td>//img.alicdn.com/imgextra/i3/2209250352999/O1C...</td>\n",
       "      <td>//img.alicdn.com/imgextra/i3/2209250352999/O1C...</td>\n",
       "      <td></td>\n",
       "      <td></td>\n",
       "      <td></td>\n",
       "      <td></td>\n",
       "      <td></td>\n",
       "    </tr>\n",
       "    <tr>\n",
       "      <th>1</th>\n",
       "      <td>camel骆驼户外免安装帐篷3-4人自动速开防水露营帐蓬camping tent</td>\n",
       "      <td>mseav</td>\n",
       "      <td>459.00</td>\n",
       "      <td></td>\n",
       "      <td>品牌: Camel/骆驼\\n产地: 中国\\n价格区间: 201-500元\\n帐篷大小: 3人...</td>\n",
       "      <td>&lt;div class=\"attributes\" id=\"attributes\"&gt;\n",
       "&lt;!-- ...</td>\n",
       "      <td>https://item.taobao.com/item.htm?id=6404120198...</td>\n",
       "      <td>//gd2.alicdn.com/imgextra/i2/676872413/O1CN01Z...</td>\n",
       "      <td>//gd4.alicdn.com/imgextra/i4/676872413/O1CN015...</td>\n",
       "      <td>//gd1.alicdn.com/imgextra/i1/676872413/O1CN01r...</td>\n",
       "      <td>//gd4.alicdn.com/imgextra/i4/676872413/O1CN01L...</td>\n",
       "      <td>//gd4.alicdn.com/imgextra/i4/676872413/O1CN01t...</td>\n",
       "      <td></td>\n",
       "      <td></td>\n",
       "      <td></td>\n",
       "      <td></td>\n",
       "      <td></td>\n",
       "    </tr>\n",
       "    <tr>\n",
       "      <th>2</th>\n",
       "      <td>NH挪客云尚升级款超轻单双人2人户外帐篷3-4人帐篷Camping Tent</td>\n",
       "      <td>淘沙疯丫头</td>\n",
       "      <td>798.00-1876.00</td>\n",
       "      <td>399.00-938.00</td>\n",
       "      <td>品牌: Naturehike\\n产地: 中国\\n价格区间: 501-1000元\\n帐篷大小:...</td>\n",
       "      <td>&lt;div class=\"attributes\" id=\"attributes\"&gt;\n",
       "&lt;!-- ...</td>\n",
       "      <td>https://item.taobao.com/item.htm?id=5809364327...</td>\n",
       "      <td>//img.alicdn.com/sns_album/TB1K.BJnxnaK1RjSZFB...</td>\n",
       "      <td>//gd1.alicdn.com/imgextra/i2/893336533/O1CN01h...</td>\n",
       "      <td>//gd3.alicdn.com/imgextra/i3/2173838406/O1CN01...</td>\n",
       "      <td>//gd1.alicdn.com/imgextra/i1/2173838406/O1CN01...</td>\n",
       "      <td>//gd3.alicdn.com/imgextra/i3/2173838406/O1CN01...</td>\n",
       "      <td>//gd3.alicdn.com/imgextra/i3/893336533/TB26EBS...</td>\n",
       "      <td></td>\n",
       "      <td></td>\n",
       "      <td></td>\n",
       "      <td></td>\n",
       "    </tr>\n",
       "  </tbody>\n",
       "</table>\n",
       "</div>"
      ],
      "text/plain": [
       "                                               Title Vendor   OriginalPrice  \\\n",
       "0  Mini Folding Table Outdoor Barbecue Camping Te...  玲娇旗舰店           97.00   \n",
       "1           camel骆驼户外免安装帐篷3-4人自动速开防水露营帐蓬camping tent  mseav          459.00   \n",
       "2             NH挪客云尚升级款超轻单双人2人户外帐篷3-4人帐篷Camping Tent  淘沙疯丫头  798.00-1876.00   \n",
       "\n",
       "   DiscountPrice                                    DescriptionText  \\\n",
       "0                 品牌名称：\\n玲娇\\n产品参数：\\n品牌: 玲娇\\n材质: 其他\\n颜色分类: Silver...   \n",
       "1                 品牌: Camel/骆驼\\n产地: 中国\\n价格区间: 201-500元\\n帐篷大小: 3人...   \n",
       "2  399.00-938.00  品牌: Naturehike\\n产地: 中国\\n价格区间: 501-1000元\\n帐篷大小:...   \n",
       "\n",
       "                                     DescriptionHTML  \\\n",
       "0  <div class=\"attributes\" id=\"attributes\">\n",
       "<div ...   \n",
       "1  <div class=\"attributes\" id=\"attributes\">\n",
       "<!-- ...   \n",
       "2  <div class=\"attributes\" id=\"attributes\">\n",
       "<!-- ...   \n",
       "\n",
       "                                            ProdLink  \\\n",
       "0  https://detail.tmall.com/item.htm?id=631311919...   \n",
       "1  https://item.taobao.com/item.htm?id=6404120198...   \n",
       "2  https://item.taobao.com/item.htm?id=5809364327...   \n",
       "\n",
       "                                             ImgURL1  \\\n",
       "0  //img.alicdn.com/imgextra/i3/2209250352999/O1C...   \n",
       "1  //gd2.alicdn.com/imgextra/i2/676872413/O1CN01Z...   \n",
       "2  //img.alicdn.com/sns_album/TB1K.BJnxnaK1RjSZFB...   \n",
       "\n",
       "                                             ImgURL2  \\\n",
       "0  //img.alicdn.com/imgextra/i2/2209250352999/O1C...   \n",
       "1  //gd4.alicdn.com/imgextra/i4/676872413/O1CN015...   \n",
       "2  //gd1.alicdn.com/imgextra/i2/893336533/O1CN01h...   \n",
       "\n",
       "                                             ImgURL3  \\\n",
       "0  //img.alicdn.com/imgextra/i2/2209250352999/O1C...   \n",
       "1  //gd1.alicdn.com/imgextra/i1/676872413/O1CN01r...   \n",
       "2  //gd3.alicdn.com/imgextra/i3/2173838406/O1CN01...   \n",
       "\n",
       "                                             ImgURL4  \\\n",
       "0  //img.alicdn.com/imgextra/i3/2209250352999/O1C...   \n",
       "1  //gd4.alicdn.com/imgextra/i4/676872413/O1CN01L...   \n",
       "2  //gd1.alicdn.com/imgextra/i1/2173838406/O1CN01...   \n",
       "\n",
       "                                             ImgURL5  \\\n",
       "0  //img.alicdn.com/imgextra/i3/2209250352999/O1C...   \n",
       "1  //gd4.alicdn.com/imgextra/i4/676872413/O1CN01t...   \n",
       "2  //gd3.alicdn.com/imgextra/i3/2173838406/O1CN01...   \n",
       "\n",
       "                                             ImgURL6 ImgURL7 ImgURL8 ImgURL9  \\\n",
       "0                                                                              \n",
       "1                                                                              \n",
       "2  //gd3.alicdn.com/imgextra/i3/893336533/TB26EBS...                           \n",
       "\n",
       "  ImgURL10  \n",
       "0           \n",
       "1           \n",
       "2           "
      ]
     },
     "execution_count": 58,
     "metadata": {},
     "output_type": "execute_result"
    }
   ],
   "source": [
    "df.head()"
   ]
  },
  {
   "cell_type": "code",
   "execution_count": 70,
   "id": "transparent-belfast",
   "metadata": {},
   "outputs": [],
   "source": [
    "df = pd.DataFrame(columns=['Handle', 'Title', 'Description(HTML)', 'Description(text)','OriginalPrice',\n",
    "                           'DiscountPrice', 'ProductURL', 'Image Src', 'Image Position'\n",
    "                            ])\n",
    "#preparing according to shopify import template\n",
    "for index, imgs in enumerate(img_urls_array):\n",
    "    for i, src in enumerate(imgs):\n",
    "        if i== 0:\n",
    "            df = df.append({\n",
    "                'Handle': name_array[index],\n",
    "                'Title': name_array[index],\n",
    "                'Description(HTML)': description_html_array[index],\n",
    "                'Description(text)': description_text_array[index],\n",
    "                'OriginalPrice': original_price_array[index],\n",
    "                'DiscountPrice': discount_price_array[index],\n",
    "                'ProductURL': prod_urls_array[index],\n",
    "                'Image Src': src,\n",
    "                'Image Position': i+1\n",
    "            }, ignore_index = True)\n",
    "        else:\n",
    "            df = df.append({\n",
    "                'Handle': name_array[index],\n",
    "                'Title': '',\n",
    "                'Description(HTML)': '',\n",
    "                'Description(text)': '',\n",
    "                'OriginalPrice': '',\n",
    "                'DiscountPrice': '',\n",
    "                'ProductURL': '',\n",
    "                'Image Src': src,\n",
    "                'Image Position': i+1\n",
    "            }, ignore_index = True)\n",
    "            "
   ]
  },
  {
   "cell_type": "code",
   "execution_count": 71,
   "id": "ranging-commission",
   "metadata": {},
   "outputs": [],
   "source": [
    "df['Image Src'] = df['Image Src'].apply(lambda x: x.replace('60x60', '800x800').replace('400x400', '800x800').replace('50x50', '800x800'))\n",
    "writer = pd.ExcelWriter(r'file.xlsx', engine='xlsxwriter',options={'strings_to_urls': False})\n",
    "df.to_excel(writer, index=False)\n",
    "writer.close()"
   ]
  },
  {
   "cell_type": "code",
   "execution_count": 60,
   "id": "strong-luxury",
   "metadata": {},
   "outputs": [],
   "source": []
  },
  {
   "cell_type": "code",
   "execution_count": 77,
   "id": "julian-nothing",
   "metadata": {},
   "outputs": [],
   "source": [
    "soup1 = BeautifulSoup(dr.page_source)\n",
    "if 'detail.tmall.com' in url:\n",
    "    name = soup1.find('div', {'class':'tb-detail-hd'}).getText('\\n', True)\n",
    "    original_price = soup1.find('span', {'class':'tm-price'}).getText('', True)\n",
    "    try:\n",
    "        discount_price = soup1.findAll('span', {'class':'tm-price'})[1].getText('', True)\n",
    "    except:\n",
    "        discount_price = ''\n",
    "    img_urls = [x['src'].replace('400x400', '800x800').replace('jpg_50x50', 'jpg_800x800')\n",
    "                for x in soup1.find('ul', {'id': 'J_UlThumb'}).findAll('img', {'src': True})]\n",
    "    description_html = soup1.find('div', {'id': 'attributes'})\n",
    "    description_text = soup1.find('div', {'id': 'attributes'}).getText('\\n', True)\n",
    "    vendor = vendors_array[vend_num]"
   ]
  },
  {
   "cell_type": "code",
   "execution_count": 78,
   "id": "swiss-business",
   "metadata": {},
   "outputs": [
    {
     "data": {
      "text/plain": [
       "'1480.00-1880.00'"
      ]
     },
     "execution_count": 78,
     "metadata": {},
     "output_type": "execute_result"
    }
   ],
   "source": [
    "soup1.findAll('span', {'class':'tm-price'})[0].getText('', True)"
   ]
  }
 ],
 "metadata": {
  "kernelspec": {
   "display_name": "Python 3",
   "language": "python",
   "name": "python3"
  },
  "language_info": {
   "codemirror_mode": {
    "name": "ipython",
    "version": 3
   },
   "file_extension": ".py",
   "mimetype": "text/x-python",
   "name": "python",
   "nbconvert_exporter": "python",
   "pygments_lexer": "ipython3",
   "version": "3.7.3"
  }
 },
 "nbformat": 4,
 "nbformat_minor": 5
}
