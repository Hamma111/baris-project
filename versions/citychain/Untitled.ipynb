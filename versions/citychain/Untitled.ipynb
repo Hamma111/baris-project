{
 "cells": [
  {
   "cell_type": "code",
   "execution_count": 1,
   "metadata": {},
   "outputs": [],
   "source": [
    "from selenium import webdriver\n",
    "from selenium.webdriver.chrome.options import Options \n",
    "from selenium.webdriver.common.keys import Keys\n",
    "from time import sleep\n",
    "from bs4 import BeautifulSoup\n",
    "import re\n",
    "import pandas as pd\n",
    "import os\n",
    "import requests\n",
    "import cv2"
   ]
  },
  {
   "cell_type": "code",
   "execution_count": 2,
   "metadata": {},
   "outputs": [],
   "source": [
    "options = Options()\n",
    "options.add_argument(\"--disable-blink-features\")\n",
    "options.add_argument(\"--disable-blink-features=AutomationControlled\")\n",
    "options.add_argument(\"start-maximized\")\n",
    "options.add_experimental_option(\"excludeSwitches\", [\"enable-automation\"])\n",
    "options.add_experimental_option('useAutomationExtension', False)\n",
    "dr = webdriver.Chrome(options=options)"
   ]
  },
  {
   "cell_type": "code",
   "execution_count": 3,
   "metadata": {},
   "outputs": [],
   "source": [
    "dr.get('https://www.citychain.com.hk/en/forhim')"
   ]
  },
  {
   "cell_type": "code",
   "execution_count": 150,
   "metadata": {},
   "outputs": [],
   "source": [
    "soup = BeautifulSoup(dr.page_source)"
   ]
  },
  {
   "cell_type": "code",
   "execution_count": null,
   "metadata": {},
   "outputs": [],
   "source": []
  },
  {
   "cell_type": "code",
   "execution_count": null,
   "metadata": {},
   "outputs": [],
   "source": []
  },
  {
   "cell_type": "code",
   "execution_count": 151,
   "metadata": {},
   "outputs": [],
   "source": [
    "titles = [x.getText(strip=True) for x in soup.findAll('div', {'class': 'w_pro_text17'})]"
   ]
  },
  {
   "cell_type": "code",
   "execution_count": 152,
   "metadata": {},
   "outputs": [],
   "source": [
    "prod_urls = [\"https://www.citychain.com.hk/\"+x.find('a')['href']\n",
    "             for x in soup.findAll('div', {'class': 'w_pro_text17'})]"
   ]
  },
  {
   "cell_type": "code",
   "execution_count": 162,
   "metadata": {},
   "outputs": [],
   "source": [
    "prod_ids = [x.find('dd').getText() for x in soup.findAll('figure', {'class':'col-xs-6 epro_5'})]"
   ]
  },
  {
   "cell_type": "code",
   "execution_count": 153,
   "metadata": {},
   "outputs": [],
   "source": [
    "original_prices = []\n",
    "sale_prices = [] "
   ]
  },
  {
   "cell_type": "code",
   "execution_count": 154,
   "metadata": {},
   "outputs": [],
   "source": [
    "for x in soup.findAll('div', {'class': 'w_pro_price17'}):\n",
    "#     print(x)\n",
    "    try:\n",
    "        sale_prices.append(x.find('dd').getText(strip=True))\n",
    "    except:\n",
    "        pass\n",
    "#         try:\n",
    "#             original_prices.append(x.find('dd').text.strip())\n",
    "#         except:\n",
    "#             original_prices.append('N\\A')\n",
    "    try:\n",
    "        original_prices.append(x.find('del').getText(strip=True))\n",
    "    except:\n",
    "        original_prices.append('N\\A')\n",
    "\n",
    "# original_price = [x.find('del').text for x in product_code]\n",
    "# sale_price = [x.find('dt').text for x in product_code]"
   ]
  },
  {
   "cell_type": "code",
   "execution_count": 163,
   "metadata": {},
   "outputs": [
    {
     "data": {
      "text/plain": [
       "(20, 20, 20, 20)"
      ]
     },
     "execution_count": 163,
     "metadata": {},
     "output_type": "execute_result"
    }
   ],
   "source": [
    "len(prod_urls), len(titles), len(original_prices), len(sale_prices)"
   ]
  },
  {
   "cell_type": "code",
   "execution_count": 165,
   "metadata": {},
   "outputs": [],
   "source": [
    "dff = pd.DataFrame({\n",
    "    'ProductName': titles,\n",
    "    'ProductID': prod_ids,\n",
    "    'OriginalPrice': original_prices,\n",
    "    'SalePrice': sale_prices,\n",
    "    'ProductURL': prod_urls,\n",
    "})"
   ]
  },
  {
   "cell_type": "code",
   "execution_count": 166,
   "metadata": {},
   "outputs": [],
   "source": [
    "dff.to_csv('unga.csv', index=False) "
   ]
  },
  {
   "cell_type": "code",
   "execution_count": null,
   "metadata": {},
   "outputs": [],
   "source": []
  },
  {
   "cell_type": "code",
   "execution_count": null,
   "metadata": {},
   "outputs": [],
   "source": []
  },
  {
   "cell_type": "code",
   "execution_count": 473,
   "metadata": {},
   "outputs": [],
   "source": [
    "site = requests.get('https://www.citychain.com.hk/en/Product/EshopDetail/class-0/product-907020/cm-0/d-0')"
   ]
  },
  {
   "cell_type": "code",
   "execution_count": 474,
   "metadata": {},
   "outputs": [],
   "source": [
    "soup = BeautifulSoup(site.content)"
   ]
  },
  {
   "cell_type": "code",
   "execution_count": 505,
   "metadata": {},
   "outputs": [],
   "source": [
    "all_images_tags = soup.find('ul', {'id':\"ulImgList\"}).findAll('li')\n",
    "img_url_1 = all_images_tags[0].find('img')['src'].replace('48x57', '700x650')\n",
    "try:\n",
    "    img_url_2 = all_images_tags[1].find('img')['src'].replace('48x57', '700x650')\n",
    "except:\n",
    "    img_url_2 = 'N\\A'\n",
    "try:\n",
    "    img_url_3 = all_images_tags[2].find('img')['src'].replace('48x57', '700x650')\n",
    "except:\n",
    "    img_url_3 = 'N\\A'\n",
    "try:\n",
    "    img_url_4 = all_images_tags[3].find('img')['src'].replace('48x57', '700x650')\n",
    "except:\n",
    "    img_url_4 = 'N\\A'\n",
    "try:\n",
    "    img_url_5 = all_images_tags[4].find('img')['src'].replace('48x57', '700x650')\n",
    "except:\n",
    "    img_url_5 = 'N\\A'"
   ]
  },
  {
   "cell_type": "code",
   "execution_count": 508,
   "metadata": {},
   "outputs": [
    {
     "data": {
      "text/plain": [
       "('https://citychainf02.easesales.com/upload/3F944AB2E078F2BA/202012/4941931521322538056.png_700x650.ashx',\n",
       " 'https://citychainf01.easesales.com/upload/3F944AB2E078F2BA/202012/5053916301016942403.jpg_700x650.ashx')"
      ]
     },
     "execution_count": 508,
     "metadata": {},
     "output_type": "execute_result"
    }
   ],
   "source": [
    "img_url_1, img_url_2"
   ]
  },
  {
   "cell_type": "code",
   "execution_count": 354,
   "metadata": {},
   "outputs": [
    {
     "data": {
      "text/plain": [
       "'HKD 3,290'"
      ]
     },
     "execution_count": 354,
     "metadata": {},
     "output_type": "execute_result"
    }
   ],
   "source": [
    "soup.find('', {\"id\":\"delPrice\"}).text"
   ]
  },
  {
   "cell_type": "code",
   "execution_count": 356,
   "metadata": {},
   "outputs": [],
   "source": [
    "title = soup.find('div', {\"class\": \"w_pc_proname\"}).find('h3').text.strip()"
   ]
  },
  {
   "cell_type": "code",
   "execution_count": 357,
   "metadata": {},
   "outputs": [
    {
     "data": {
      "text/plain": [
       "'Seiko Prospex'"
      ]
     },
     "execution_count": 357,
     "metadata": {},
     "output_type": "execute_result"
    }
   ],
   "source": [
    "title"
   ]
  },
  {
   "cell_type": "code",
   "execution_count": 358,
   "metadata": {},
   "outputs": [],
   "source": [
    "prod_id = soup.find('div', {\"class\": \"w_pc_proname\"}).find('productno').text"
   ]
  },
  {
   "cell_type": "code",
   "execution_count": 359,
   "metadata": {},
   "outputs": [
    {
     "data": {
      "text/plain": [
       "'HKD 3,290'"
      ]
     },
     "execution_count": 359,
     "metadata": {},
     "output_type": "execute_result"
    }
   ],
   "source": [
    "soup.find('', {\"id\":\"delPrice\"}).text"
   ]
  },
  {
   "cell_type": "code",
   "execution_count": 360,
   "metadata": {},
   "outputs": [
    {
     "data": {
      "text/plain": [
       "'HKD 2,632'"
      ]
     },
     "execution_count": 360,
     "metadata": {},
     "output_type": "execute_result"
    }
   ],
   "source": [
    "soup.find('', {\"id\":\"dtSalesPrice\"}).text.strip()"
   ]
  },
  {
   "cell_type": "code",
   "execution_count": 361,
   "metadata": {},
   "outputs": [],
   "source": [
    "table1 = soup.findAll('table', {\"class\": \"product-details-table\"})[1]\n",
    "table2 = soup.findAll('table', {\"class\": \"product-details-table\"})[2]"
   ]
  },
  {
   "cell_type": "code",
   "execution_count": 362,
   "metadata": {},
   "outputs": [],
   "source": [
    "table1_text = table1.getText(separator=\" \")"
   ]
  },
  {
   "cell_type": "code",
   "execution_count": 363,
   "metadata": {},
   "outputs": [],
   "source": [
    "table2_text = table2.getText(separator=\" \")"
   ]
  },
  {
   "cell_type": "code",
   "execution_count": 364,
   "metadata": {},
   "outputs": [
    {
     "data": {
      "text/plain": [
       "'CASE Diameter 46.7 mm Thickness 12.7 mm Shape Round Glass Sapphire Glass DIAL   Color Military Green STRAP   Color Military Green Width 22 mm Material Silicon'"
      ]
     },
     "execution_count": 364,
     "metadata": {},
     "output_type": "execute_result"
    }
   ],
   "source": [
    "table1_text"
   ]
  },
  {
   "cell_type": "code",
   "execution_count": 365,
   "metadata": {},
   "outputs": [
    {
     "data": {
      "text/plain": [
       "'Diameter 46.7 mm Thickness 12.7 mm Shape Round Glass Sapphire Glass'"
      ]
     },
     "execution_count": 365,
     "metadata": {},
     "output_type": "execute_result"
    }
   ],
   "source": [
    "ind1 = table1_text.find('CASE') + 5\n",
    "ind2 = table1_text.find('DIAL')\n",
    "case = table1_text[ind1:ind2].replace('\\t', '').strip()\n",
    "case"
   ]
  },
  {
   "cell_type": "code",
   "execution_count": 366,
   "metadata": {},
   "outputs": [
    {
     "data": {
      "text/plain": [
       "'Color Military Green'"
      ]
     },
     "execution_count": 366,
     "metadata": {},
     "output_type": "execute_result"
    }
   ],
   "source": [
    "ind1 = table1_text.find('DIAL') + 4\n",
    "ind2 = table1_text.find('STRAP')\n",
    "dial = table1_text[ind1:ind2].replace('\\t', '').strip()\n",
    "dial"
   ]
  },
  {
   "cell_type": "code",
   "execution_count": 367,
   "metadata": {},
   "outputs": [
    {
     "data": {
      "text/plain": [
       "'Color Military Green Width 22 mm Material Silicon'"
      ]
     },
     "execution_count": 367,
     "metadata": {},
     "output_type": "execute_result"
    }
   ],
   "source": [
    "ind1 = table1_text.find('STRAP') + 5\n",
    "strap = table1_text[ind1:].replace('\\t', '').strip()\n",
    "strap"
   ]
  },
  {
   "cell_type": "code",
   "execution_count": 377,
   "metadata": {},
   "outputs": [
    {
     "data": {
      "text/plain": [
       "'Solar'"
      ]
     },
     "execution_count": 377,
     "metadata": {},
     "output_type": "execute_result"
    }
   ],
   "source": [
    "ind1 = table2_text.find('MOVEMENT')+8\n",
    "ind2 = table2_text.find('WATER RESISTANT')\n",
    "movement = table2_text[ind1:ind2].replace('\\t', '').strip()\n",
    "movement"
   ]
  },
  {
   "cell_type": "code",
   "execution_count": 378,
   "metadata": {},
   "outputs": [
    {
     "data": {
      "text/plain": [
       "'MOVEMENT   Solar WATER RESISTANT   20 ATM'"
      ]
     },
     "execution_count": 378,
     "metadata": {},
     "output_type": "execute_result"
    }
   ],
   "source": [
    "table2_text"
   ]
  },
  {
   "cell_type": "code",
   "execution_count": 379,
   "metadata": {},
   "outputs": [
    {
     "data": {
      "text/plain": [
       "'20 ATM'"
      ]
     },
     "execution_count": 379,
     "metadata": {},
     "output_type": "execute_result"
    }
   ],
   "source": [
    "ind1 = table2_text.find('WATER RESISTANT')+18\n",
    "ind2 = table2_text.find('ESTIMATED')\n",
    "water_resist = table2_text[ind1:].replace('\\t', '').strip()\n",
    "if ind2 == -1:\n",
    "    water_resist = table2_text[ind1:].replace('\\t', '').strip()\n",
    "water_resist"
   ]
  },
  {
   "cell_type": "code",
   "execution_count": 267,
   "metadata": {},
   "outputs": [
    {
     "data": {
      "text/plain": [
       "'Diameter       42.5 mm       Thickness       13.4 mm       Shape       Round       Glass       Hardlex Crystal'"
      ]
     },
     "execution_count": 267,
     "metadata": {},
     "output_type": "execute_result"
    }
   ],
   "source": [
    "case"
   ]
  },
  {
   "cell_type": "code",
   "execution_count": 185,
   "metadata": {},
   "outputs": [],
   "source": [
    "titles, prod_ids, orig_prices, sale_prices = [], [], [], []\n",
    "cases, straps, dials, movements, water_resists = [], [], [], [], []"
   ]
  },
  {
   "cell_type": "code",
   "execution_count": 186,
   "metadata": {},
   "outputs": [],
   "source": [
    "def scrapFunc(url):\n",
    "    site = requests.get(url)\n",
    "    soup = BeautifulSoup(site.content)\n",
    "    \n",
    "    title = soup.find('div', {\"class\": \"w_pc_proname\"}).find('h3').text.strip()\n",
    "    prod_id = soup.find('div', {\"class\": \"w_pc_proname\"}).find('productno').text\n",
    "    orig_price = soup.find('del', {\"id\":\"delPrice\"}).text\n",
    "    sale_price = soup.find('', {\"id\":\"dtSalesPrice\"}).text.strip()\n",
    "    \n",
    "    table1 = soup.findAll('table', {\"class\": \"product-details-table\"})[1]\n",
    "    table1_text = table1.getText(separator=\" \")\n",
    "    \n",
    "    ind1 = table1_text.find('CASE') + 5\n",
    "    ind2 = table1_text.find('DIAL')\n",
    "    case = table1_text[ind1:ind2]\n",
    "    \n",
    "    ind1 = table1_text.find('DIAL') + 4\n",
    "    ind2 = table1_text.find('STRAP')\n",
    "    dial = table1_text[ind1:ind2].strip()\n",
    "    \n",
    "    ind1 = table1_text.find('STRAP') + 5\n",
    "    strap = table1_text[ind1:].strip()\n",
    "    \n",
    "    \n",
    "    table2 = soup.findAll('table', {\"class\": \"product-details-table\"})[2]\n",
    "    table2_text = table2.getText(separator=\" \")\n",
    "    \n",
    "    ind2 = table2_text.find('WATER RESISTANT')\n",
    "    movement = table2_text[8:ind2].strip()\n",
    "    \n",
    "    ind1 = table2_text.find('WATER RESISTANT')+18\n",
    "    water_resist = table2_text[ind1:].strip()\n",
    "    \n",
    "    \n",
    "    titles.append(title); prod_ids.append(prod_id)\n",
    "    orig_prices.append(orig_price); sale_prices.append(sale_price)\n",
    "    cases.append(case); dials.append(dial) ; straps.append(strap)\n",
    "    movements.append(movement); water_resists.append(water_resist)"
   ]
  },
  {
   "cell_type": "code",
   "execution_count": 179,
   "metadata": {},
   "outputs": [],
   "source": [
    "scrapFunc(\"https://www.citychain.com.hk/en/Product/EshopDetail/class-0/product-906680/cm-0/d-0\")"
   ]
  },
  {
   "cell_type": "code",
   "execution_count": 184,
   "metadata": {},
   "outputs": [
    {
     "data": {
      "text/plain": [
       "['Solar']"
      ]
     },
     "execution_count": 184,
     "metadata": {},
     "output_type": "execute_result"
    }
   ],
   "source": [
    "movements"
   ]
  }
 ],
 "metadata": {
  "kernelspec": {
   "display_name": "Python 3",
   "language": "python",
   "name": "python3"
  },
  "language_info": {
   "codemirror_mode": {
    "name": "ipython",
    "version": 3
   },
   "file_extension": ".py",
   "mimetype": "text/x-python",
   "name": "python",
   "nbconvert_exporter": "python",
   "pygments_lexer": "ipython3",
   "version": "3.7.3"
  }
 },
 "nbformat": 4,
 "nbformat_minor": 2
}
